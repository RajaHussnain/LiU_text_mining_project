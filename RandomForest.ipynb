{
  "cells": [
    {
      "cell_type": "code",
      "execution_count": 28,
      "metadata": {
        "id": "OZJ3kSGVp8uL"
      },
      "outputs": [],
      "source": [
        "import pandas as pd\n",
        "import numpy as np\n",
        "import matplotlib.pyplot as plt\n",
        "from bs4 import BeautifulSoup\n",
        "from nltk.stem.porter import *\n",
        "import re\n",
        "from sklearn.feature_extraction import text\n",
        "\n",
        "from sklearn.metrics import classification_report, confusion_matrix, ConfusionMatrixDisplay\n",
        "\n",
        "# hide warnings\n",
        "import warnings \n",
        "warnings.filterwarnings(\"ignore\")"
      ]
    },
    {
      "cell_type": "code",
      "execution_count": 3,
      "metadata": {
        "id": "ttuxJg9a-CPm"
      },
      "outputs": [],
      "source": [
        "training_data = pd.read_csv('Data/train.csv', index_col = [0])"
      ]
    },
    {
      "cell_type": "code",
      "execution_count": 4,
      "metadata": {
        "id": "dd5ppRHKPLca"
      },
      "outputs": [],
      "source": [
        "test_data = pd.read_csv('Data/test.csv', index_col = [0])"
      ]
    },
    {
      "cell_type": "code",
      "execution_count": 5,
      "metadata": {
        "id": "CVAgF4GsUVf7"
      },
      "outputs": [],
      "source": [
        "training_data.product_description = training_data.product_description.fillna('')\n",
        "test_data.product_description = test_data.product_description.fillna('')"
      ]
    },
    {
      "cell_type": "markdown",
      "metadata": {
        "id": "nxHnYUc8A1a4"
      },
      "source": [
        "Preprocessing"
      ]
    },
    {
      "cell_type": "code",
      "execution_count": 6,
      "metadata": {
        "id": "cXtIl4vEA_Bv"
      },
      "outputs": [],
      "source": [
        "# stop word removal\n",
        "stemmer = PorterStemmer()\n",
        "sw=[]\n",
        "ML_STOP_WORDS = ['http','www','img','border','color','style','padding','table','font','inch','width','height']\n",
        "ML_STOP_WORDS += list(text.ENGLISH_STOP_WORDS)\n",
        "for stw in ML_STOP_WORDS:\n",
        "    sw.append(\"z\"+str(stw))\n",
        "ML_STOP_WORDS += sw\n",
        "for i in range(len(ML_STOP_WORDS)):\n",
        "    ML_STOP_WORDS[i]=stemmer.stem(ML_STOP_WORDS[i])"
      ]
    },
    {
      "cell_type": "code",
      "execution_count": 7,
      "metadata": {
        "id": "xe_uw6LLgmSM"
      },
      "outputs": [],
      "source": [
        "# declarations\n",
        "def ML_TEXT_CLEAN(f2,f3):\n",
        "    if len(f2)<3:\n",
        "        f2=\"feature2null\"\n",
        "    if len(f3)<3:\n",
        "        f3=\"feature3null\"\n",
        "    tx = BeautifulSoup(f3)\n",
        "    tx1 = [x.extract() for x in tx.findAll('script')]\n",
        "    tx = tx.get_text(\" \").strip()\n",
        "    #s = (\" \").join([\"z\"+ str(z) for z in f2.split(\" \")]) + \" \" + tx\n",
        "    s = (\" \").join([str(z) for z in f2.split(\" \")]) + \" \" + tx\n",
        "    s = re.sub(\"[^a-zA-Z0-9]\",\" \", s)\n",
        "    s = re.sub(\"[0-9]{1,3}px\",\" \", s)\n",
        "    s = re.sub(\" [0-9]{1,6} |000\",\" \", s)\n",
        "    s = (\" \").join([stemmer.stem(z) for z in s.split(\" \") if len(z)>2])\n",
        "    s = s.lower()\n",
        "    return s"
      ]
    },
    {
      "cell_type": "code",
      "execution_count": 8,
      "metadata": {
        "id": "g1Qp6Dj2hSlt"
      },
      "outputs": [],
      "source": [
        "# Cleaning training data\n",
        "s_data = []\n",
        "for i in range(len(training_data.id)):\n",
        "    s = ML_TEXT_CLEAN(training_data.product_title[i], training_data.product_description[i])\n",
        "    s_data.append((training_data[\"query\"][i], s, str(training_data[\"median_relevance\"][i])))"
      ]
    },
    {
      "cell_type": "code",
      "execution_count": 9,
      "metadata": {
        "id": "RdzH_ScDC1Kf"
      },
      "outputs": [],
      "source": [
        "# Cleaning test data\n",
        "t_data = []\n",
        "for i in range(len(test_data.id)):\n",
        "    s = ML_TEXT_CLEAN(test_data.product_title[i], test_data.product_description[i])\n",
        "    t_data.append((test_data[\"query\"][i], s, str(test_data[\"median_relevance\"][i])))"
      ]
    },
    {
      "cell_type": "code",
      "execution_count": 10,
      "metadata": {
        "id": "xkOYCX2TZG0f"
      },
      "outputs": [],
      "source": [
        "training_df = pd.DataFrame(s_data)\n",
        "test_df = pd.DataFrame(t_data)"
      ]
    },
    {
      "cell_type": "markdown",
      "metadata": {
        "id": "AENCOuLyeY20"
      },
      "source": [
        "\n",
        "\n",
        "---\n",
        "\n"
      ]
    },
    {
      "cell_type": "markdown",
      "metadata": {
        "id": "q0_eg8n9_l7H"
      },
      "source": [
        "**Random Forest**"
      ]
    },
    {
      "cell_type": "code",
      "execution_count": 11,
      "metadata": {
        "id": "5IBc4JAG_uWf"
      },
      "outputs": [],
      "source": [
        "from sklearn.pipeline import Pipeline\n",
        "from sklearn.feature_extraction.text import CountVectorizer, TfidfVectorizer\n",
        "from sklearn.ensemble import RandomForestClassifier\n",
        "from sklearn.decomposition import TruncatedSVD\n",
        "from sklearn.metrics import classification_report\n",
        "from sklearn.preprocessing import StandardScaler\n",
        "from sklearn.model_selection import GridSearchCV"
      ]
    },
    {
      "cell_type": "code",
      "execution_count": 12,
      "metadata": {
        "id": "MVL4s4-gsTKt"
      },
      "outputs": [],
      "source": [
        "#dimension reduction\n",
        "tsvd = TruncatedSVD(n_components=200, algorithm='randomized', n_iter=5, random_state=None, tol=0.0)"
      ]
    },
    {
      "cell_type": "code",
      "execution_count": 13,
      "metadata": {
        "id": "vkDQkXz8sYW9"
      },
      "outputs": [],
      "source": [
        "scl = StandardScaler()\n",
        "tfidf = TfidfVectorizer(max_features=2500, min_df=0.0, max_df=0.4, stop_words=ML_STOP_WORDS,\n",
        "                        ngram_range=(1,3), use_idf=True, smooth_idf=True, sublinear_tf=True,\n",
        "                        analyzer='word', lowercase=False)"
      ]
    },
    {
      "cell_type": "code",
      "execution_count": 14,
      "metadata": {
        "id": "gZkkqr9Un9se"
      },
      "outputs": [],
      "source": [
        "clf = RandomForestClassifier(max_depth = 4, min_samples_leaf = 10)"
      ]
    },
    {
      "cell_type": "code",
      "execution_count": 15,
      "metadata": {
        "id": "a0fQWWdospes"
      },
      "outputs": [],
      "source": [
        "parameters = { 'class__n_estimators': (10,50,100)}\n",
        "pipe = Pipeline([('tfidf',tfidf),\n",
        "                 ('tsvd',tsvd),\n",
        "                 ('scl',scl),\n",
        "                 ('class',clf)])"
      ]
    },
    {
      "cell_type": "code",
      "execution_count": 16,
      "metadata": {
        "colab": {
          "base_uri": "https://localhost:8080/",
          "height": 206
        },
        "id": "rxawh-xot-OC",
        "outputId": "f16a96fb-33e7-4a9c-945f-b87535f1aa5c"
      },
      "outputs": [
        {
          "data": {
            "text/html": [
              "<div>\n",
              "<style scoped>\n",
              "    .dataframe tbody tr th:only-of-type {\n",
              "        vertical-align: middle;\n",
              "    }\n",
              "\n",
              "    .dataframe tbody tr th {\n",
              "        vertical-align: top;\n",
              "    }\n",
              "\n",
              "    .dataframe thead th {\n",
              "        text-align: right;\n",
              "    }\n",
              "</style>\n",
              "<table border=\"1\" class=\"dataframe\">\n",
              "  <thead>\n",
              "    <tr style=\"text-align: right;\">\n",
              "      <th></th>\n",
              "      <th>0</th>\n",
              "      <th>1</th>\n",
              "    </tr>\n",
              "  </thead>\n",
              "  <tbody>\n",
              "    <tr>\n",
              "      <th>0</th>\n",
              "      <td>zippo hand warmer</td>\n",
              "      <td>zippo black polish hand warmer with fill cup p...</td>\n",
              "    </tr>\n",
              "    <tr>\n",
              "      <th>1</th>\n",
              "      <td>wall mirrors</td>\n",
              "      <td>cooper classic benedetta wall mirror diam the ...</td>\n",
              "    </tr>\n",
              "    <tr>\n",
              "      <th>2</th>\n",
              "      <td>rachel ray cookware</td>\n",
              "      <td>rachael ray porcelain green piec cookwar set t...</td>\n",
              "    </tr>\n",
              "    <tr>\n",
              "      <th>3</th>\n",
              "      <td>flea and tick control for dogs</td>\n",
              "      <td>hartz ultraguard plu flea and tick home fogger...</td>\n",
              "    </tr>\n",
              "    <tr>\n",
              "      <th>4</th>\n",
              "      <td>batman</td>\n",
              "      <td>comic arkham asylum batman seri the joker citi...</td>\n",
              "    </tr>\n",
              "  </tbody>\n",
              "</table>\n",
              "</div>"
            ],
            "text/plain": [
              "                                0  \\\n",
              "0               zippo hand warmer   \n",
              "1                    wall mirrors   \n",
              "2             rachel ray cookware   \n",
              "3  flea and tick control for dogs   \n",
              "4                          batman   \n",
              "\n",
              "                                                   1  \n",
              "0  zippo black polish hand warmer with fill cup p...  \n",
              "1  cooper classic benedetta wall mirror diam the ...  \n",
              "2  rachael ray porcelain green piec cookwar set t...  \n",
              "3  hartz ultraguard plu flea and tick home fogger...  \n",
              "4  comic arkham asylum batman seri the joker citi...  "
            ]
          },
          "execution_count": 16,
          "metadata": {},
          "output_type": "execute_result"
        }
      ],
      "source": [
        "training_df_fea = training_df.loc[:, training_df.columns != 2]\n",
        "training_df_fea.head()"
      ]
    },
    {
      "cell_type": "code",
      "execution_count": 17,
      "metadata": {
        "colab": {
          "base_uri": "https://localhost:8080/"
        },
        "id": "WmVQ0yfiy4r3",
        "outputId": "4f972b0c-3677-4e54-e95c-c460966e90ec"
      },
      "outputs": [
        {
          "data": {
            "text/plain": [
              "(7618, 2)"
            ]
          },
          "execution_count": 17,
          "metadata": {},
          "output_type": "execute_result"
        }
      ],
      "source": [
        "training_fea = np.array(training_df_fea)\n",
        "training_fea.shape"
      ]
    },
    {
      "cell_type": "code",
      "execution_count": 18,
      "metadata": {
        "colab": {
          "base_uri": "https://localhost:8080/"
        },
        "id": "KuU_cS6mYptq",
        "outputId": "fa406353-9a3d-42c7-99e8-9ac1b57a338d"
      },
      "outputs": [
        {
          "data": {
            "text/plain": [
              "(7618,)"
            ]
          },
          "execution_count": 18,
          "metadata": {},
          "output_type": "execute_result"
        }
      ],
      "source": [
        "training_fea = training_df_fea.apply(lambda x:'%s %s' % (x[0],x[1]),axis=1)\n",
        "training_fea.shape"
      ]
    },
    {
      "cell_type": "code",
      "execution_count": 19,
      "metadata": {
        "colab": {
          "base_uri": "https://localhost:8080/"
        },
        "id": "YbGsJhtGzRNf",
        "outputId": "9b413fff-334d-432e-eda5-8f056263b11f"
      },
      "outputs": [
        {
          "data": {
            "text/plain": [
              "(7618,)"
            ]
          },
          "execution_count": 19,
          "metadata": {},
          "output_type": "execute_result"
        }
      ],
      "source": [
        "y = np.array(training_data[\"median_relevance\"].values)\n",
        "y.shape"
      ]
    },
    {
      "cell_type": "code",
      "execution_count": 20,
      "metadata": {
        "id": "e2_tDDtK3zgG"
      },
      "outputs": [
        {
          "data": {
            "text/html": [
              "<style>#sk-container-id-1 {color: black;background-color: white;}#sk-container-id-1 pre{padding: 0;}#sk-container-id-1 div.sk-toggleable {background-color: white;}#sk-container-id-1 label.sk-toggleable__label {cursor: pointer;display: block;width: 100%;margin-bottom: 0;padding: 0.3em;box-sizing: border-box;text-align: center;}#sk-container-id-1 label.sk-toggleable__label-arrow:before {content: \"▸\";float: left;margin-right: 0.25em;color: #696969;}#sk-container-id-1 label.sk-toggleable__label-arrow:hover:before {color: black;}#sk-container-id-1 div.sk-estimator:hover label.sk-toggleable__label-arrow:before {color: black;}#sk-container-id-1 div.sk-toggleable__content {max-height: 0;max-width: 0;overflow: hidden;text-align: left;background-color: #f0f8ff;}#sk-container-id-1 div.sk-toggleable__content pre {margin: 0.2em;color: black;border-radius: 0.25em;background-color: #f0f8ff;}#sk-container-id-1 input.sk-toggleable__control:checked~div.sk-toggleable__content {max-height: 200px;max-width: 100%;overflow: auto;}#sk-container-id-1 input.sk-toggleable__control:checked~label.sk-toggleable__label-arrow:before {content: \"▾\";}#sk-container-id-1 div.sk-estimator input.sk-toggleable__control:checked~label.sk-toggleable__label {background-color: #d4ebff;}#sk-container-id-1 div.sk-label input.sk-toggleable__control:checked~label.sk-toggleable__label {background-color: #d4ebff;}#sk-container-id-1 input.sk-hidden--visually {border: 0;clip: rect(1px 1px 1px 1px);clip: rect(1px, 1px, 1px, 1px);height: 1px;margin: -1px;overflow: hidden;padding: 0;position: absolute;width: 1px;}#sk-container-id-1 div.sk-estimator {font-family: monospace;background-color: #f0f8ff;border: 1px dotted black;border-radius: 0.25em;box-sizing: border-box;margin-bottom: 0.5em;}#sk-container-id-1 div.sk-estimator:hover {background-color: #d4ebff;}#sk-container-id-1 div.sk-parallel-item::after {content: \"\";width: 100%;border-bottom: 1px solid gray;flex-grow: 1;}#sk-container-id-1 div.sk-label:hover label.sk-toggleable__label {background-color: #d4ebff;}#sk-container-id-1 div.sk-serial::before {content: \"\";position: absolute;border-left: 1px solid gray;box-sizing: border-box;top: 0;bottom: 0;left: 50%;z-index: 0;}#sk-container-id-1 div.sk-serial {display: flex;flex-direction: column;align-items: center;background-color: white;padding-right: 0.2em;padding-left: 0.2em;position: relative;}#sk-container-id-1 div.sk-item {position: relative;z-index: 1;}#sk-container-id-1 div.sk-parallel {display: flex;align-items: stretch;justify-content: center;background-color: white;position: relative;}#sk-container-id-1 div.sk-item::before, #sk-container-id-1 div.sk-parallel-item::before {content: \"\";position: absolute;border-left: 1px solid gray;box-sizing: border-box;top: 0;bottom: 0;left: 50%;z-index: -1;}#sk-container-id-1 div.sk-parallel-item {display: flex;flex-direction: column;z-index: 1;position: relative;background-color: white;}#sk-container-id-1 div.sk-parallel-item:first-child::after {align-self: flex-end;width: 50%;}#sk-container-id-1 div.sk-parallel-item:last-child::after {align-self: flex-start;width: 50%;}#sk-container-id-1 div.sk-parallel-item:only-child::after {width: 0;}#sk-container-id-1 div.sk-dashed-wrapped {border: 1px dashed gray;margin: 0 0.4em 0.5em 0.4em;box-sizing: border-box;padding-bottom: 0.4em;background-color: white;}#sk-container-id-1 div.sk-label label {font-family: monospace;font-weight: bold;display: inline-block;line-height: 1.2em;}#sk-container-id-1 div.sk-label-container {text-align: center;}#sk-container-id-1 div.sk-container {/* jupyter's `normalize.less` sets `[hidden] { display: none; }` but bootstrap.min.css set `[hidden] { display: none !important; }` so we also need the `!important` here to be able to override the default hidden behavior on the sphinx rendered scikit-learn.org. See: https://github.com/scikit-learn/scikit-learn/issues/21755 */display: inline-block !important;position: relative;}#sk-container-id-1 div.sk-text-repr-fallback {display: none;}</style><div id=\"sk-container-id-1\" class=\"sk-top-container\"><div class=\"sk-text-repr-fallback\"><pre>Pipeline(steps=[(&#x27;tfidf&#x27;,\n",
              "                 TfidfVectorizer(lowercase=False, max_df=0.4, max_features=2500,\n",
              "                                 min_df=0.0, ngram_range=(1, 3),\n",
              "                                 stop_words=[&#x27;http&#x27;, &#x27;www&#x27;, &#x27;img&#x27;, &#x27;border&#x27;,\n",
              "                                             &#x27;color&#x27;, &#x27;style&#x27;, &#x27;pad&#x27;, &#x27;tabl&#x27;,\n",
              "                                             &#x27;font&#x27;, &#x27;inch&#x27;, &#x27;width&#x27;, &#x27;height&#x27;,\n",
              "                                             &#x27;afterward&#x27;, &#x27;herein&#x27;, &#x27;also&#x27;,\n",
              "                                             &#x27;name&#x27;, &#x27;for&#x27;, &#x27;by&#x27;, &#x27;beforehand&#x27;,\n",
              "                                             &#x27;someth&#x27;, &#x27;cri&#x27;, &#x27;two&#x27;, &#x27;system&#x27;,\n",
              "                                             &#x27;whereaft&#x27;, &#x27;hasnt&#x27;, &#x27;they&#x27;,\n",
              "                                             &#x27;ourselv&#x27;, &#x27;seem&#x27;, &#x27;everyth&#x27;, &#x27;eg&#x27;, ...],\n",
              "                                 sublinear_tf=True)),\n",
              "                (&#x27;tsvd&#x27;, TruncatedSVD(n_components=200)),\n",
              "                (&#x27;scl&#x27;, StandardScaler()),\n",
              "                (&#x27;class&#x27;,\n",
              "                 RandomForestClassifier(max_depth=4, min_samples_leaf=10))])</pre><b>In a Jupyter environment, please rerun this cell to show the HTML representation or trust the notebook. <br />On GitHub, the HTML representation is unable to render, please try loading this page with nbviewer.org.</b></div><div class=\"sk-container\" hidden><div class=\"sk-item sk-dashed-wrapped\"><div class=\"sk-label-container\"><div class=\"sk-label sk-toggleable\"><input class=\"sk-toggleable__control sk-hidden--visually\" id=\"sk-estimator-id-1\" type=\"checkbox\" ><label for=\"sk-estimator-id-1\" class=\"sk-toggleable__label sk-toggleable__label-arrow\">Pipeline</label><div class=\"sk-toggleable__content\"><pre>Pipeline(steps=[(&#x27;tfidf&#x27;,\n",
              "                 TfidfVectorizer(lowercase=False, max_df=0.4, max_features=2500,\n",
              "                                 min_df=0.0, ngram_range=(1, 3),\n",
              "                                 stop_words=[&#x27;http&#x27;, &#x27;www&#x27;, &#x27;img&#x27;, &#x27;border&#x27;,\n",
              "                                             &#x27;color&#x27;, &#x27;style&#x27;, &#x27;pad&#x27;, &#x27;tabl&#x27;,\n",
              "                                             &#x27;font&#x27;, &#x27;inch&#x27;, &#x27;width&#x27;, &#x27;height&#x27;,\n",
              "                                             &#x27;afterward&#x27;, &#x27;herein&#x27;, &#x27;also&#x27;,\n",
              "                                             &#x27;name&#x27;, &#x27;for&#x27;, &#x27;by&#x27;, &#x27;beforehand&#x27;,\n",
              "                                             &#x27;someth&#x27;, &#x27;cri&#x27;, &#x27;two&#x27;, &#x27;system&#x27;,\n",
              "                                             &#x27;whereaft&#x27;, &#x27;hasnt&#x27;, &#x27;they&#x27;,\n",
              "                                             &#x27;ourselv&#x27;, &#x27;seem&#x27;, &#x27;everyth&#x27;, &#x27;eg&#x27;, ...],\n",
              "                                 sublinear_tf=True)),\n",
              "                (&#x27;tsvd&#x27;, TruncatedSVD(n_components=200)),\n",
              "                (&#x27;scl&#x27;, StandardScaler()),\n",
              "                (&#x27;class&#x27;,\n",
              "                 RandomForestClassifier(max_depth=4, min_samples_leaf=10))])</pre></div></div></div><div class=\"sk-serial\"><div class=\"sk-item\"><div class=\"sk-estimator sk-toggleable\"><input class=\"sk-toggleable__control sk-hidden--visually\" id=\"sk-estimator-id-2\" type=\"checkbox\" ><label for=\"sk-estimator-id-2\" class=\"sk-toggleable__label sk-toggleable__label-arrow\">TfidfVectorizer</label><div class=\"sk-toggleable__content\"><pre>TfidfVectorizer(lowercase=False, max_df=0.4, max_features=2500, min_df=0.0,\n",
              "                ngram_range=(1, 3),\n",
              "                stop_words=[&#x27;http&#x27;, &#x27;www&#x27;, &#x27;img&#x27;, &#x27;border&#x27;, &#x27;color&#x27;, &#x27;style&#x27;,\n",
              "                            &#x27;pad&#x27;, &#x27;tabl&#x27;, &#x27;font&#x27;, &#x27;inch&#x27;, &#x27;width&#x27;, &#x27;height&#x27;,\n",
              "                            &#x27;afterward&#x27;, &#x27;herein&#x27;, &#x27;also&#x27;, &#x27;name&#x27;, &#x27;for&#x27;, &#x27;by&#x27;,\n",
              "                            &#x27;beforehand&#x27;, &#x27;someth&#x27;, &#x27;cri&#x27;, &#x27;two&#x27;, &#x27;system&#x27;,\n",
              "                            &#x27;whereaft&#x27;, &#x27;hasnt&#x27;, &#x27;they&#x27;, &#x27;ourselv&#x27;, &#x27;seem&#x27;,\n",
              "                            &#x27;everyth&#x27;, &#x27;eg&#x27;, ...],\n",
              "                sublinear_tf=True)</pre></div></div></div><div class=\"sk-item\"><div class=\"sk-estimator sk-toggleable\"><input class=\"sk-toggleable__control sk-hidden--visually\" id=\"sk-estimator-id-3\" type=\"checkbox\" ><label for=\"sk-estimator-id-3\" class=\"sk-toggleable__label sk-toggleable__label-arrow\">TruncatedSVD</label><div class=\"sk-toggleable__content\"><pre>TruncatedSVD(n_components=200)</pre></div></div></div><div class=\"sk-item\"><div class=\"sk-estimator sk-toggleable\"><input class=\"sk-toggleable__control sk-hidden--visually\" id=\"sk-estimator-id-4\" type=\"checkbox\" ><label for=\"sk-estimator-id-4\" class=\"sk-toggleable__label sk-toggleable__label-arrow\">StandardScaler</label><div class=\"sk-toggleable__content\"><pre>StandardScaler()</pre></div></div></div><div class=\"sk-item\"><div class=\"sk-estimator sk-toggleable\"><input class=\"sk-toggleable__control sk-hidden--visually\" id=\"sk-estimator-id-5\" type=\"checkbox\" ><label for=\"sk-estimator-id-5\" class=\"sk-toggleable__label sk-toggleable__label-arrow\">RandomForestClassifier</label><div class=\"sk-toggleable__content\"><pre>RandomForestClassifier(max_depth=4, min_samples_leaf=10)</pre></div></div></div></div></div></div></div>"
            ],
            "text/plain": [
              "Pipeline(steps=[('tfidf',\n",
              "                 TfidfVectorizer(lowercase=False, max_df=0.4, max_features=2500,\n",
              "                                 min_df=0.0, ngram_range=(1, 3),\n",
              "                                 stop_words=['http', 'www', 'img', 'border',\n",
              "                                             'color', 'style', 'pad', 'tabl',\n",
              "                                             'font', 'inch', 'width', 'height',\n",
              "                                             'afterward', 'herein', 'also',\n",
              "                                             'name', 'for', 'by', 'beforehand',\n",
              "                                             'someth', 'cri', 'two', 'system',\n",
              "                                             'whereaft', 'hasnt', 'they',\n",
              "                                             'ourselv', 'seem', 'everyth', 'eg', ...],\n",
              "                                 sublinear_tf=True)),\n",
              "                ('tsvd', TruncatedSVD(n_components=200)),\n",
              "                ('scl', StandardScaler()),\n",
              "                ('class',\n",
              "                 RandomForestClassifier(max_depth=4, min_samples_leaf=10))])"
            ]
          },
          "execution_count": 20,
          "metadata": {},
          "output_type": "execute_result"
        }
      ],
      "source": [
        "pipe.fit(training_fea, y)"
      ]
    },
    {
      "cell_type": "code",
      "execution_count": 21,
      "metadata": {
        "id": "PcizkKLQstVb"
      },
      "outputs": [
        {
          "data": {
            "text/html": [
              "<style>#sk-container-id-2 {color: black;background-color: white;}#sk-container-id-2 pre{padding: 0;}#sk-container-id-2 div.sk-toggleable {background-color: white;}#sk-container-id-2 label.sk-toggleable__label {cursor: pointer;display: block;width: 100%;margin-bottom: 0;padding: 0.3em;box-sizing: border-box;text-align: center;}#sk-container-id-2 label.sk-toggleable__label-arrow:before {content: \"▸\";float: left;margin-right: 0.25em;color: #696969;}#sk-container-id-2 label.sk-toggleable__label-arrow:hover:before {color: black;}#sk-container-id-2 div.sk-estimator:hover label.sk-toggleable__label-arrow:before {color: black;}#sk-container-id-2 div.sk-toggleable__content {max-height: 0;max-width: 0;overflow: hidden;text-align: left;background-color: #f0f8ff;}#sk-container-id-2 div.sk-toggleable__content pre {margin: 0.2em;color: black;border-radius: 0.25em;background-color: #f0f8ff;}#sk-container-id-2 input.sk-toggleable__control:checked~div.sk-toggleable__content {max-height: 200px;max-width: 100%;overflow: auto;}#sk-container-id-2 input.sk-toggleable__control:checked~label.sk-toggleable__label-arrow:before {content: \"▾\";}#sk-container-id-2 div.sk-estimator input.sk-toggleable__control:checked~label.sk-toggleable__label {background-color: #d4ebff;}#sk-container-id-2 div.sk-label input.sk-toggleable__control:checked~label.sk-toggleable__label {background-color: #d4ebff;}#sk-container-id-2 input.sk-hidden--visually {border: 0;clip: rect(1px 1px 1px 1px);clip: rect(1px, 1px, 1px, 1px);height: 1px;margin: -1px;overflow: hidden;padding: 0;position: absolute;width: 1px;}#sk-container-id-2 div.sk-estimator {font-family: monospace;background-color: #f0f8ff;border: 1px dotted black;border-radius: 0.25em;box-sizing: border-box;margin-bottom: 0.5em;}#sk-container-id-2 div.sk-estimator:hover {background-color: #d4ebff;}#sk-container-id-2 div.sk-parallel-item::after {content: \"\";width: 100%;border-bottom: 1px solid gray;flex-grow: 1;}#sk-container-id-2 div.sk-label:hover label.sk-toggleable__label {background-color: #d4ebff;}#sk-container-id-2 div.sk-serial::before {content: \"\";position: absolute;border-left: 1px solid gray;box-sizing: border-box;top: 0;bottom: 0;left: 50%;z-index: 0;}#sk-container-id-2 div.sk-serial {display: flex;flex-direction: column;align-items: center;background-color: white;padding-right: 0.2em;padding-left: 0.2em;position: relative;}#sk-container-id-2 div.sk-item {position: relative;z-index: 1;}#sk-container-id-2 div.sk-parallel {display: flex;align-items: stretch;justify-content: center;background-color: white;position: relative;}#sk-container-id-2 div.sk-item::before, #sk-container-id-2 div.sk-parallel-item::before {content: \"\";position: absolute;border-left: 1px solid gray;box-sizing: border-box;top: 0;bottom: 0;left: 50%;z-index: -1;}#sk-container-id-2 div.sk-parallel-item {display: flex;flex-direction: column;z-index: 1;position: relative;background-color: white;}#sk-container-id-2 div.sk-parallel-item:first-child::after {align-self: flex-end;width: 50%;}#sk-container-id-2 div.sk-parallel-item:last-child::after {align-self: flex-start;width: 50%;}#sk-container-id-2 div.sk-parallel-item:only-child::after {width: 0;}#sk-container-id-2 div.sk-dashed-wrapped {border: 1px dashed gray;margin: 0 0.4em 0.5em 0.4em;box-sizing: border-box;padding-bottom: 0.4em;background-color: white;}#sk-container-id-2 div.sk-label label {font-family: monospace;font-weight: bold;display: inline-block;line-height: 1.2em;}#sk-container-id-2 div.sk-label-container {text-align: center;}#sk-container-id-2 div.sk-container {/* jupyter's `normalize.less` sets `[hidden] { display: none; }` but bootstrap.min.css set `[hidden] { display: none !important; }` so we also need the `!important` here to be able to override the default hidden behavior on the sphinx rendered scikit-learn.org. See: https://github.com/scikit-learn/scikit-learn/issues/21755 */display: inline-block !important;position: relative;}#sk-container-id-2 div.sk-text-repr-fallback {display: none;}</style><div id=\"sk-container-id-2\" class=\"sk-top-container\"><div class=\"sk-text-repr-fallback\"><pre>GridSearchCV(estimator=Pipeline(steps=[(&#x27;tfidf&#x27;,\n",
              "                                        TfidfVectorizer(lowercase=False,\n",
              "                                                        max_df=0.4,\n",
              "                                                        max_features=2500,\n",
              "                                                        min_df=0.0,\n",
              "                                                        ngram_range=(1, 3),\n",
              "                                                        stop_words=[&#x27;http&#x27;,\n",
              "                                                                    &#x27;www&#x27;,\n",
              "                                                                    &#x27;img&#x27;,\n",
              "                                                                    &#x27;border&#x27;,\n",
              "                                                                    &#x27;color&#x27;,\n",
              "                                                                    &#x27;style&#x27;,\n",
              "                                                                    &#x27;pad&#x27;,\n",
              "                                                                    &#x27;tabl&#x27;,\n",
              "                                                                    &#x27;font&#x27;,\n",
              "                                                                    &#x27;inch&#x27;,\n",
              "                                                                    &#x27;width&#x27;,\n",
              "                                                                    &#x27;height&#x27;,\n",
              "                                                                    &#x27;afterward&#x27;,\n",
              "                                                                    &#x27;herein&#x27;,\n",
              "                                                                    &#x27;also&#x27;,\n",
              "                                                                    &#x27;name&#x27;,\n",
              "                                                                    &#x27;for&#x27;, &#x27;by&#x27;,\n",
              "                                                                    &#x27;beforehand&#x27;,\n",
              "                                                                    &#x27;someth&#x27;,\n",
              "                                                                    &#x27;cri&#x27;,\n",
              "                                                                    &#x27;two&#x27;,\n",
              "                                                                    &#x27;system&#x27;,\n",
              "                                                                    &#x27;whereaft&#x27;,\n",
              "                                                                    &#x27;hasnt&#x27;,\n",
              "                                                                    &#x27;they&#x27;,\n",
              "                                                                    &#x27;ourselv&#x27;,\n",
              "                                                                    &#x27;seem&#x27;,\n",
              "                                                                    &#x27;everyth&#x27;,\n",
              "                                                                    &#x27;eg&#x27;, ...],\n",
              "                                                        sublinear_tf=True)),\n",
              "                                       (&#x27;tsvd&#x27;, TruncatedSVD(n_components=200)),\n",
              "                                       (&#x27;scl&#x27;, StandardScaler()),\n",
              "                                       (&#x27;class&#x27;,\n",
              "                                        RandomForestClassifier(max_depth=4,\n",
              "                                                               min_samples_leaf=10))]),\n",
              "             param_grid={&#x27;class__n_estimators&#x27;: (10, 50, 100)})</pre><b>In a Jupyter environment, please rerun this cell to show the HTML representation or trust the notebook. <br />On GitHub, the HTML representation is unable to render, please try loading this page with nbviewer.org.</b></div><div class=\"sk-container\" hidden><div class=\"sk-item sk-dashed-wrapped\"><div class=\"sk-label-container\"><div class=\"sk-label sk-toggleable\"><input class=\"sk-toggleable__control sk-hidden--visually\" id=\"sk-estimator-id-6\" type=\"checkbox\" ><label for=\"sk-estimator-id-6\" class=\"sk-toggleable__label sk-toggleable__label-arrow\">GridSearchCV</label><div class=\"sk-toggleable__content\"><pre>GridSearchCV(estimator=Pipeline(steps=[(&#x27;tfidf&#x27;,\n",
              "                                        TfidfVectorizer(lowercase=False,\n",
              "                                                        max_df=0.4,\n",
              "                                                        max_features=2500,\n",
              "                                                        min_df=0.0,\n",
              "                                                        ngram_range=(1, 3),\n",
              "                                                        stop_words=[&#x27;http&#x27;,\n",
              "                                                                    &#x27;www&#x27;,\n",
              "                                                                    &#x27;img&#x27;,\n",
              "                                                                    &#x27;border&#x27;,\n",
              "                                                                    &#x27;color&#x27;,\n",
              "                                                                    &#x27;style&#x27;,\n",
              "                                                                    &#x27;pad&#x27;,\n",
              "                                                                    &#x27;tabl&#x27;,\n",
              "                                                                    &#x27;font&#x27;,\n",
              "                                                                    &#x27;inch&#x27;,\n",
              "                                                                    &#x27;width&#x27;,\n",
              "                                                                    &#x27;height&#x27;,\n",
              "                                                                    &#x27;afterward&#x27;,\n",
              "                                                                    &#x27;herein&#x27;,\n",
              "                                                                    &#x27;also&#x27;,\n",
              "                                                                    &#x27;name&#x27;,\n",
              "                                                                    &#x27;for&#x27;, &#x27;by&#x27;,\n",
              "                                                                    &#x27;beforehand&#x27;,\n",
              "                                                                    &#x27;someth&#x27;,\n",
              "                                                                    &#x27;cri&#x27;,\n",
              "                                                                    &#x27;two&#x27;,\n",
              "                                                                    &#x27;system&#x27;,\n",
              "                                                                    &#x27;whereaft&#x27;,\n",
              "                                                                    &#x27;hasnt&#x27;,\n",
              "                                                                    &#x27;they&#x27;,\n",
              "                                                                    &#x27;ourselv&#x27;,\n",
              "                                                                    &#x27;seem&#x27;,\n",
              "                                                                    &#x27;everyth&#x27;,\n",
              "                                                                    &#x27;eg&#x27;, ...],\n",
              "                                                        sublinear_tf=True)),\n",
              "                                       (&#x27;tsvd&#x27;, TruncatedSVD(n_components=200)),\n",
              "                                       (&#x27;scl&#x27;, StandardScaler()),\n",
              "                                       (&#x27;class&#x27;,\n",
              "                                        RandomForestClassifier(max_depth=4,\n",
              "                                                               min_samples_leaf=10))]),\n",
              "             param_grid={&#x27;class__n_estimators&#x27;: (10, 50, 100)})</pre></div></div></div><div class=\"sk-parallel\"><div class=\"sk-parallel-item\"><div class=\"sk-item\"><div class=\"sk-label-container\"><div class=\"sk-label sk-toggleable\"><input class=\"sk-toggleable__control sk-hidden--visually\" id=\"sk-estimator-id-7\" type=\"checkbox\" ><label for=\"sk-estimator-id-7\" class=\"sk-toggleable__label sk-toggleable__label-arrow\">estimator: Pipeline</label><div class=\"sk-toggleable__content\"><pre>Pipeline(steps=[(&#x27;tfidf&#x27;,\n",
              "                 TfidfVectorizer(lowercase=False, max_df=0.4, max_features=2500,\n",
              "                                 min_df=0.0, ngram_range=(1, 3),\n",
              "                                 stop_words=[&#x27;http&#x27;, &#x27;www&#x27;, &#x27;img&#x27;, &#x27;border&#x27;,\n",
              "                                             &#x27;color&#x27;, &#x27;style&#x27;, &#x27;pad&#x27;, &#x27;tabl&#x27;,\n",
              "                                             &#x27;font&#x27;, &#x27;inch&#x27;, &#x27;width&#x27;, &#x27;height&#x27;,\n",
              "                                             &#x27;afterward&#x27;, &#x27;herein&#x27;, &#x27;also&#x27;,\n",
              "                                             &#x27;name&#x27;, &#x27;for&#x27;, &#x27;by&#x27;, &#x27;beforehand&#x27;,\n",
              "                                             &#x27;someth&#x27;, &#x27;cri&#x27;, &#x27;two&#x27;, &#x27;system&#x27;,\n",
              "                                             &#x27;whereaft&#x27;, &#x27;hasnt&#x27;, &#x27;they&#x27;,\n",
              "                                             &#x27;ourselv&#x27;, &#x27;seem&#x27;, &#x27;everyth&#x27;, &#x27;eg&#x27;, ...],\n",
              "                                 sublinear_tf=True)),\n",
              "                (&#x27;tsvd&#x27;, TruncatedSVD(n_components=200)),\n",
              "                (&#x27;scl&#x27;, StandardScaler()),\n",
              "                (&#x27;class&#x27;,\n",
              "                 RandomForestClassifier(max_depth=4, min_samples_leaf=10))])</pre></div></div></div><div class=\"sk-serial\"><div class=\"sk-item\"><div class=\"sk-serial\"><div class=\"sk-item\"><div class=\"sk-estimator sk-toggleable\"><input class=\"sk-toggleable__control sk-hidden--visually\" id=\"sk-estimator-id-8\" type=\"checkbox\" ><label for=\"sk-estimator-id-8\" class=\"sk-toggleable__label sk-toggleable__label-arrow\">TfidfVectorizer</label><div class=\"sk-toggleable__content\"><pre>TfidfVectorizer(lowercase=False, max_df=0.4, max_features=2500, min_df=0.0,\n",
              "                ngram_range=(1, 3),\n",
              "                stop_words=[&#x27;http&#x27;, &#x27;www&#x27;, &#x27;img&#x27;, &#x27;border&#x27;, &#x27;color&#x27;, &#x27;style&#x27;,\n",
              "                            &#x27;pad&#x27;, &#x27;tabl&#x27;, &#x27;font&#x27;, &#x27;inch&#x27;, &#x27;width&#x27;, &#x27;height&#x27;,\n",
              "                            &#x27;afterward&#x27;, &#x27;herein&#x27;, &#x27;also&#x27;, &#x27;name&#x27;, &#x27;for&#x27;, &#x27;by&#x27;,\n",
              "                            &#x27;beforehand&#x27;, &#x27;someth&#x27;, &#x27;cri&#x27;, &#x27;two&#x27;, &#x27;system&#x27;,\n",
              "                            &#x27;whereaft&#x27;, &#x27;hasnt&#x27;, &#x27;they&#x27;, &#x27;ourselv&#x27;, &#x27;seem&#x27;,\n",
              "                            &#x27;everyth&#x27;, &#x27;eg&#x27;, ...],\n",
              "                sublinear_tf=True)</pre></div></div></div><div class=\"sk-item\"><div class=\"sk-estimator sk-toggleable\"><input class=\"sk-toggleable__control sk-hidden--visually\" id=\"sk-estimator-id-9\" type=\"checkbox\" ><label for=\"sk-estimator-id-9\" class=\"sk-toggleable__label sk-toggleable__label-arrow\">TruncatedSVD</label><div class=\"sk-toggleable__content\"><pre>TruncatedSVD(n_components=200)</pre></div></div></div><div class=\"sk-item\"><div class=\"sk-estimator sk-toggleable\"><input class=\"sk-toggleable__control sk-hidden--visually\" id=\"sk-estimator-id-10\" type=\"checkbox\" ><label for=\"sk-estimator-id-10\" class=\"sk-toggleable__label sk-toggleable__label-arrow\">StandardScaler</label><div class=\"sk-toggleable__content\"><pre>StandardScaler()</pre></div></div></div><div class=\"sk-item\"><div class=\"sk-estimator sk-toggleable\"><input class=\"sk-toggleable__control sk-hidden--visually\" id=\"sk-estimator-id-11\" type=\"checkbox\" ><label for=\"sk-estimator-id-11\" class=\"sk-toggleable__label sk-toggleable__label-arrow\">RandomForestClassifier</label><div class=\"sk-toggleable__content\"><pre>RandomForestClassifier(max_depth=4, min_samples_leaf=10)</pre></div></div></div></div></div></div></div></div></div></div></div></div>"
            ],
            "text/plain": [
              "GridSearchCV(estimator=Pipeline(steps=[('tfidf',\n",
              "                                        TfidfVectorizer(lowercase=False,\n",
              "                                                        max_df=0.4,\n",
              "                                                        max_features=2500,\n",
              "                                                        min_df=0.0,\n",
              "                                                        ngram_range=(1, 3),\n",
              "                                                        stop_words=['http',\n",
              "                                                                    'www',\n",
              "                                                                    'img',\n",
              "                                                                    'border',\n",
              "                                                                    'color',\n",
              "                                                                    'style',\n",
              "                                                                    'pad',\n",
              "                                                                    'tabl',\n",
              "                                                                    'font',\n",
              "                                                                    'inch',\n",
              "                                                                    'width',\n",
              "                                                                    'height',\n",
              "                                                                    'afterward',\n",
              "                                                                    'herein',\n",
              "                                                                    'also',\n",
              "                                                                    'name',\n",
              "                                                                    'for', 'by',\n",
              "                                                                    'beforehand',\n",
              "                                                                    'someth',\n",
              "                                                                    'cri',\n",
              "                                                                    'two',\n",
              "                                                                    'system',\n",
              "                                                                    'whereaft',\n",
              "                                                                    'hasnt',\n",
              "                                                                    'they',\n",
              "                                                                    'ourselv',\n",
              "                                                                    'seem',\n",
              "                                                                    'everyth',\n",
              "                                                                    'eg', ...],\n",
              "                                                        sublinear_tf=True)),\n",
              "                                       ('tsvd', TruncatedSVD(n_components=200)),\n",
              "                                       ('scl', StandardScaler()),\n",
              "                                       ('class',\n",
              "                                        RandomForestClassifier(max_depth=4,\n",
              "                                                               min_samples_leaf=10))]),\n",
              "             param_grid={'class__n_estimators': (10, 50, 100)})"
            ]
          },
          "execution_count": 21,
          "metadata": {},
          "output_type": "execute_result"
        }
      ],
      "source": [
        "grid_search = GridSearchCV(pipe, parameters)\n",
        "grid_search.fit(training_fea, y)"
      ]
    },
    {
      "cell_type": "code",
      "execution_count": 22,
      "metadata": {
        "colab": {
          "base_uri": "https://localhost:8080/",
          "height": 206
        },
        "id": "l3ZrXggWabxt",
        "outputId": "825b1f44-e362-40d0-cb5f-6053c91854d4"
      },
      "outputs": [
        {
          "data": {
            "text/html": [
              "<div>\n",
              "<style scoped>\n",
              "    .dataframe tbody tr th:only-of-type {\n",
              "        vertical-align: middle;\n",
              "    }\n",
              "\n",
              "    .dataframe tbody tr th {\n",
              "        vertical-align: top;\n",
              "    }\n",
              "\n",
              "    .dataframe thead th {\n",
              "        text-align: right;\n",
              "    }\n",
              "</style>\n",
              "<table border=\"1\" class=\"dataframe\">\n",
              "  <thead>\n",
              "    <tr style=\"text-align: right;\">\n",
              "      <th></th>\n",
              "      <th>0</th>\n",
              "      <th>1</th>\n",
              "      <th>2</th>\n",
              "    </tr>\n",
              "  </thead>\n",
              "  <tbody>\n",
              "    <tr>\n",
              "      <th>0</th>\n",
              "      <td>pittsburgh pirates</td>\n",
              "      <td>fanmat machin made pittsburgh pirat black nylo...</td>\n",
              "      <td>4</td>\n",
              "    </tr>\n",
              "    <tr>\n",
              "      <th>1</th>\n",
              "      <td>dish towels</td>\n",
              "      <td>oasi cotton flour sack towel set these flour s...</td>\n",
              "      <td>3</td>\n",
              "    </tr>\n",
              "    <tr>\n",
              "      <th>2</th>\n",
              "      <td>portable hard drive</td>\n",
              "      <td>toshiba canvio slim extern hard drive toshiba ...</td>\n",
              "      <td>3</td>\n",
              "    </tr>\n",
              "    <tr>\n",
              "      <th>3</th>\n",
              "      <td>playstation vita system</td>\n",
              "      <td>legend chima laval journey playstat vita get r...</td>\n",
              "      <td>2</td>\n",
              "    </tr>\n",
              "    <tr>\n",
              "      <th>4</th>\n",
              "      <td>galaxy note 3</td>\n",
              "      <td>natur view screen protect film for samsung gal...</td>\n",
              "      <td>2</td>\n",
              "    </tr>\n",
              "  </tbody>\n",
              "</table>\n",
              "</div>"
            ],
            "text/plain": [
              "                         0                                                  1  \\\n",
              "0       pittsburgh pirates  fanmat machin made pittsburgh pirat black nylo...   \n",
              "1              dish towels  oasi cotton flour sack towel set these flour s...   \n",
              "2      portable hard drive  toshiba canvio slim extern hard drive toshiba ...   \n",
              "3  playstation vita system  legend chima laval journey playstat vita get r...   \n",
              "4            galaxy note 3  natur view screen protect film for samsung gal...   \n",
              "\n",
              "   2  \n",
              "0  4  \n",
              "1  3  \n",
              "2  3  \n",
              "3  2  \n",
              "4  2  "
            ]
          },
          "execution_count": 22,
          "metadata": {},
          "output_type": "execute_result"
        }
      ],
      "source": [
        "test_df.head()"
      ]
    },
    {
      "cell_type": "code",
      "execution_count": 23,
      "metadata": {
        "colab": {
          "base_uri": "https://localhost:8080/"
        },
        "id": "5co_XoZBaqhD",
        "outputId": "77f58275-d29c-41c2-b20f-0f49c63e1e06"
      },
      "outputs": [
        {
          "data": {
            "text/plain": [
              "(2540,)"
            ]
          },
          "execution_count": 23,
          "metadata": {},
          "output_type": "execute_result"
        }
      ],
      "source": [
        "test_fea = test_df.apply(lambda x:'%s %s' % (x[0],x[1]),axis=1)\n",
        "test_fea.shape"
      ]
    },
    {
      "cell_type": "code",
      "execution_count": 24,
      "metadata": {
        "id": "PSve1WLqcwRR"
      },
      "outputs": [],
      "source": [
        "t_labels_rf = grid_search.best_estimator_.predict(test_fea)"
      ]
    },
    {
      "cell_type": "code",
      "execution_count": 25,
      "metadata": {
        "id": "i3NOxtmnpRpj"
      },
      "outputs": [],
      "source": [
        "t_labels_rf_df = pd.DataFrame(t_labels_rf, columns = ['median_relevance'])"
      ]
    },
    {
      "cell_type": "code",
      "execution_count": 26,
      "metadata": {
        "id": "Ei2MYfTWpirk"
      },
      "outputs": [],
      "source": [
        "t_labels_rf_df = pd.to_numeric(t_labels_rf_df['median_relevance'])"
      ]
    },
    {
      "cell_type": "code",
      "execution_count": 27,
      "metadata": {
        "colab": {
          "base_uri": "https://localhost:8080/"
        },
        "id": "ocK7JYy2YAaN",
        "outputId": "40379ead-f5a5-4d65-e730-51d478dc7b90"
      },
      "outputs": [
        {
          "name": "stdout",
          "output_type": "stream",
          "text": [
            "              precision    recall  f1-score   support\n",
            "\n",
            "           1       0.00      0.00      0.00       186\n",
            "           2       0.00      0.00      0.00       337\n",
            "           3       0.00      0.00      0.00       451\n",
            "           4       0.62      1.00      0.76      1566\n",
            "\n",
            "    accuracy                           0.62      2540\n",
            "   macro avg       0.15      0.25      0.19      2540\n",
            "weighted avg       0.38      0.62      0.47      2540\n",
            "\n"
          ]
        }
      ],
      "source": [
        "print(classification_report(test_data['median_relevance'], t_labels_rf_df))"
      ]
    },
    {
      "cell_type": "code",
      "execution_count": 46,
      "metadata": {},
      "outputs": [],
      "source": [
        "orignal = pd.to_numeric(test_df[2])"
      ]
    },
    {
      "cell_type": "code",
      "execution_count": 47,
      "metadata": {},
      "outputs": [
        {
          "data": {
            "image/png": "[encoded data removed]",
            "text/plain": [
              "<Figure size 400x400 with 2 Axes>"
            ]
          },
          "metadata": {},
          "output_type": "display_data"
        }
      ],
      "source": [
        "# plot the confusion matrix\n",
        "rf_cm = confusion_matrix(orignal, t_labels_rf_df)\n",
        "rf_disp = ConfusionMatrixDisplay(confusion_matrix=rf_cm)\n",
        "\n",
        "rf_disp.plot(cmap=plt.cm.Blues)\n",
        "rf_disp.figure_.set_size_inches(4,4)\n",
        "plt.xticks(rotation=50)\n",
        "plt.show()"
      ]
    },
    {
      "cell_type": "markdown",
      "metadata": {
        "id": "IyyDGk_2mgZa"
      },
      "source": [
        "\n",
        "\n",
        "---\n",
        "\n"
      ]
    }
  ],
  "metadata": {
    "colab": {
      "provenance": []
    },
    "kernelspec": {
      "display_name": "Python 3",
      "name": "python3"
    },
    "language_info": {
      "codemirror_mode": {
        "name": "ipython",
        "version": 3
      },
      "file_extension": ".py",
      "mimetype": "text/x-python",
      "name": "python",
      "nbconvert_exporter": "python",
      "pygments_lexer": "ipython3",
      "version": "3.10.9"
    }
  },
  "nbformat": 4,
  "nbformat_minor": 0
}
