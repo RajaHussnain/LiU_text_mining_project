{
  "cells": [
    {
      "cell_type": "code",
      "execution_count": 168,
      "metadata": {
        "id": "vnqoBdWFTqtu"
      },
      "outputs": [],
      "source": [
        "import pandas as pd\n",
        "import numpy as np\n",
        "import matplotlib.pyplot as plt\n",
        "from bs4 import BeautifulSoup\n",
        "from nltk.stem.porter import *\n",
        "import re\n",
        "from sklearn.feature_extraction import text\n",
        "\n",
        "# for visualisation\n",
        "import plotly.graph_objs as go\n",
        "from plotly.subplots import make_subplots\n",
        "import matplotlib.pyplot as plt\n",
        "\n",
        "# tensor packages\n",
        "from sklearn.metrics import f1_score\n",
        "import tensorflow as tf\n",
        "from tensorflow import keras\n",
        "from keras.models import Sequential\n",
        "from sklearn.metrics import classification_report, confusion_matrix, ConfusionMatrixDisplay\n",
        "from sklearn.preprocessing import LabelEncoder\n",
        "from keras_preprocessing.sequence import pad_sequences\n",
        "from keras.layers import Dense, Dropout, Concatenate, Input\n",
        "from keras.preprocessing.text import Tokenizer\n",
        "from keras.utils import to_categorical\n",
        "\n",
        "# hide warnings\n",
        "import warnings \n",
        "warnings.filterwarnings(\"ignore\")"
      ]
    },
    {
      "cell_type": "code",
      "execution_count": 64,
      "metadata": {
        "id": "cHWvYAXsTtNe"
      },
      "outputs": [],
      "source": [
        "training_data = pd.read_csv('Data/train.csv', index_col = [0])"
      ]
    },
    {
      "cell_type": "code",
      "execution_count": 65,
      "metadata": {
        "id": "ck5eZ1oNTwSF"
      },
      "outputs": [],
      "source": [
        "test_data = pd.read_csv('Data/test.csv', index_col = [0])"
      ]
    },
    {
      "cell_type": "markdown",
      "metadata": {
        "id": "XL1t6I9XT3FO"
      },
      "source": [
        "Preprocessing"
      ]
    },
    {
      "cell_type": "code",
      "execution_count": 66,
      "metadata": {
        "id": "7myYoGxATxOO"
      },
      "outputs": [],
      "source": [
        "training_data.product_description = training_data.product_description.fillna('')\n",
        "test_data.product_description = test_data.product_description.fillna('')"
      ]
    },
    {
      "cell_type": "code",
      "execution_count": 67,
      "metadata": {
        "id": "7quO1NSXTztZ"
      },
      "outputs": [],
      "source": [
        "# stop word removal\n",
        "stemmer = PorterStemmer()\n",
        "sw=[]\n",
        "ML_STOP_WORDS = ['http','www','img','border','color','style','padding','table','font','inch','width','height']\n",
        "ML_STOP_WORDS += list(text.ENGLISH_STOP_WORDS)\n",
        "for stw in ML_STOP_WORDS:\n",
        "    sw.append(\"z\"+str(stw))\n",
        "ML_STOP_WORDS += sw\n",
        "for i in range(len(ML_STOP_WORDS)):\n",
        "    ML_STOP_WORDS[i]=stemmer.stem(ML_STOP_WORDS[i])"
      ]
    },
    {
      "cell_type": "code",
      "execution_count": 68,
      "metadata": {
        "id": "NZvEKwMoT8K2"
      },
      "outputs": [],
      "source": [
        "# declarations\n",
        "def ML_TEXT_CLEAN(f2,f3):\n",
        "    if len(f2)<3:\n",
        "        f2=\"feature2null\"\n",
        "    if len(f3)<3:\n",
        "        f3=\"feature3null\"\n",
        "    tx = BeautifulSoup(f3)\n",
        "    tx1 = [x.extract() for x in tx.findAll('script')]\n",
        "    tx = tx.get_text(\" \").strip()\n",
        "    #s = (\" \").join([\"z\"+ str(z) for z in f2.split(\" \")]) + \" \" + tx\n",
        "    s = (\" \").join([str(z) for z in f2.split(\" \")]) + \" \" + tx\n",
        "    s = re.sub(\"[^a-zA-Z0-9]\",\" \", s)\n",
        "    s = re.sub(\"[0-9]{1,3}px\",\" \", s)\n",
        "    s = re.sub(\" [0-9]{1,6} |000\",\" \", s)\n",
        "    s = (\" \").join([stemmer.stem(z) for z in s.split(\" \") if len(z)>2])\n",
        "    s = s.lower()\n",
        "    return s"
      ]
    },
    {
      "cell_type": "code",
      "execution_count": 69,
      "metadata": {
        "id": "pcYKpob8T-B0"
      },
      "outputs": [],
      "source": [
        "# Cleaning training data\n",
        "s_data = []\n",
        "for i in range(len(training_data.id)):\n",
        "    s = ML_TEXT_CLEAN(training_data.product_title[i], training_data.product_description[i])\n",
        "    s_data.append((training_data[\"query\"][i], s, str(training_data[\"median_relevance\"][i])))"
      ]
    },
    {
      "cell_type": "code",
      "execution_count": 70,
      "metadata": {
        "id": "cuQwrn1IUCae"
      },
      "outputs": [],
      "source": [
        "# Cleaning test data\n",
        "t_data = []\n",
        "for i in range(len(test_data.id)):\n",
        "    s = ML_TEXT_CLEAN(test_data.product_title[i], test_data.product_description[i])\n",
        "    t_data.append((test_data[\"query\"][i], s, str(test_data[\"median_relevance\"][i])))"
      ]
    },
    {
      "cell_type": "code",
      "execution_count": 71,
      "metadata": {
        "id": "xGaqs_2IUD8_"
      },
      "outputs": [],
      "source": [
        "# Converting into dataframe\n",
        "training_df = pd.DataFrame(s_data)\n",
        "test_df = pd.DataFrame(t_data)"
      ]
    },
    {
      "cell_type": "code",
      "execution_count": 72,
      "metadata": {},
      "outputs": [
        {
          "name": "stdout",
          "output_type": "stream",
          "text": [
            "training data shape :  (7618, 3)\n",
            "test data shape :  (2540, 3)\n"
          ]
        }
      ],
      "source": [
        "# Shape of data\n",
        "print('training data shape : ', training_df.shape) # (7618, 3)\n",
        "print('test data shape : ', test_df.shape) # (2540, 3)"
      ]
    },
    {
      "cell_type": "markdown",
      "metadata": {
        "id": "oQQ4GDZdT5yk"
      },
      "source": [
        "\n",
        "\n",
        "---\n",
        "\n"
      ]
    },
    {
      "attachments": {},
      "cell_type": "markdown",
      "metadata": {},
      "source": [
        "Neural Network"
      ]
    },
    {
      "cell_type": "code",
      "execution_count": 131,
      "metadata": {},
      "outputs": [],
      "source": [
        "# define the number of classes\n",
        "num_classes = 4"
      ]
    },
    {
      "cell_type": "code",
      "execution_count": 132,
      "metadata": {},
      "outputs": [],
      "source": [
        "# define the input shape\n",
        "max_len = 600\n",
        "input_shape = (max_len,)\n",
        "\n",
        "# define the NN model\n",
        "model = Sequential()\n",
        "model.add(Dense(512, activation='relu', input_shape=input_shape))\n",
        "model.add(Dropout(0.5))\n",
        "model.add(Dense(256, activation='relu'))\n",
        "model.add(Dropout(0.5))\n",
        "model.add(Dense(num_classes, activation='softmax'))"
      ]
    },
    {
      "cell_type": "code",
      "execution_count": 133,
      "metadata": {
        "id": "sYHTRLuQURHt"
      },
      "outputs": [],
      "source": [
        "# compile the model\n",
        "model.compile(loss='categorical_crossentropy',\n",
        "              optimizer='adam',\n",
        "              metrics=['accuracy'])"
      ]
    },
    {
      "cell_type": "code",
      "execution_count": 134,
      "metadata": {},
      "outputs": [],
      "source": [
        "# Create input data\n",
        "train_data = training_df[[0,1]]\n",
        "test_data = test_df[[0,1]] \n",
        "\n",
        "# Tokenize the text data\n",
        "tokenizer = Tokenizer()\n",
        "tokenizer.fit_on_texts(train_data[0].values + train_data[1].values)"
      ]
    },
    {
      "cell_type": "code",
      "execution_count": 135,
      "metadata": {},
      "outputs": [],
      "source": [
        "# convert the input text to sequences\n",
        "x_train1 = tokenizer.texts_to_sequences(train_data[0].values)\n",
        "x_test1 = tokenizer.texts_to_sequences(test_data[0].values)\n",
        "\n",
        "x_train2 = tokenizer.texts_to_sequences(train_data[1].values)\n",
        "x_test2 = tokenizer.texts_to_sequences(test_data[1].values)"
      ]
    },
    {
      "cell_type": "code",
      "execution_count": 136,
      "metadata": {},
      "outputs": [],
      "source": [
        "# Pad the sequences to a fixed length\n",
        "max_sequence_length = 300\n",
        "x_train1 = pad_sequences(x_train1, maxlen=max_sequence_length)\n",
        "x_train2 = pad_sequences(x_train2, maxlen=max_sequence_length)\n",
        "x_test1 = pad_sequences(x_test1, maxlen=max_sequence_length)\n",
        "x_test2 = pad_sequences(x_test2, maxlen=max_sequence_length)"
      ]
    },
    {
      "cell_type": "code",
      "execution_count": 137,
      "metadata": {},
      "outputs": [],
      "source": [
        "# concatenate the two input matrices\n",
        "x_train = np.concatenate((x_train1, x_train2), axis=1)\n",
        "x_test = np.concatenate((x_test1, x_test2), axis=1)"
      ]
    },
    {
      "cell_type": "code",
      "execution_count": 138,
      "metadata": {},
      "outputs": [],
      "source": [
        "# Initialize a label encoder\n",
        "label_encoder = LabelEncoder()\n",
        "\n",
        "# Fit the encoder to the class labels and transform the labels to integers\n",
        "y_train_encoded = label_encoder.fit_transform(training_df[2])\n",
        "y_test_encoded = label_encoder.fit_transform(test_df[2])\n",
        "\n",
        "# Convert the output data to one-hot encoded format\n",
        "y_train = tf.keras.utils.to_categorical(y_train_encoded, num_classes=4)\n",
        "y_test = tf.keras.utils.to_categorical(y_test_encoded, num_classes=4)"
      ]
    },
    {
      "cell_type": "code",
      "execution_count": 143,
      "metadata": {},
      "outputs": [
        {
          "name": "stdout",
          "output_type": "stream",
          "text": [
            "Epoch 1/100\n",
            "239/239 [==============================] - 2s 10ms/step - loss: 1.0866 - accuracy: 0.6045 - val_loss: 1.0659 - val_accuracy: 0.6165\n",
            "Epoch 2/100\n",
            "239/239 [==============================] - 2s 7ms/step - loss: 1.0866 - accuracy: 0.6045 - val_loss: 1.0658 - val_accuracy: 0.6165\n",
            "Epoch 3/100\n",
            "239/239 [==============================] - 2s 7ms/step - loss: 1.1271 - accuracy: 0.6044 - val_loss: 1.0659 - val_accuracy: 0.6165\n",
            "Epoch 4/100\n",
            "239/239 [==============================] - 2s 9ms/step - loss: 1.0866 - accuracy: 0.6045 - val_loss: 1.0660 - val_accuracy: 0.6165\n",
            "Epoch 5/100\n",
            "239/239 [==============================] - 2s 8ms/step - loss: 1.0865 - accuracy: 0.6045 - val_loss: 1.0660 - val_accuracy: 0.6165\n",
            "Epoch 6/100\n",
            "239/239 [==============================] - 2s 7ms/step - loss: 1.0865 - accuracy: 0.6045 - val_loss: 1.0661 - val_accuracy: 0.6165\n",
            "Epoch 7/100\n",
            "239/239 [==============================] - 2s 7ms/step - loss: 1.1062 - accuracy: 0.6045 - val_loss: 1.0661 - val_accuracy: 0.6165\n",
            "Epoch 8/100\n",
            "239/239 [==============================] - 2s 6ms/step - loss: 1.0866 - accuracy: 0.6045 - val_loss: 1.0659 - val_accuracy: 0.6165\n",
            "Epoch 9/100\n",
            "239/239 [==============================] - 2s 6ms/step - loss: 1.0865 - accuracy: 0.6045 - val_loss: 1.0661 - val_accuracy: 0.6165\n",
            "Epoch 10/100\n",
            "239/239 [==============================] - 2s 8ms/step - loss: 1.0866 - accuracy: 0.6045 - val_loss: 1.0662 - val_accuracy: 0.6165\n",
            "Epoch 11/100\n",
            "239/239 [==============================] - 3s 11ms/step - loss: 1.0866 - accuracy: 0.6045 - val_loss: 1.0661 - val_accuracy: 0.6165\n",
            "Epoch 12/100\n",
            "239/239 [==============================] - 2s 8ms/step - loss: 1.0865 - accuracy: 0.6045 - val_loss: 1.0660 - val_accuracy: 0.6165\n",
            "Epoch 13/100\n",
            "239/239 [==============================] - 2s 8ms/step - loss: 1.0865 - accuracy: 0.6045 - val_loss: 1.0661 - val_accuracy: 0.6165\n",
            "Epoch 14/100\n",
            "239/239 [==============================] - 2s 9ms/step - loss: 1.0865 - accuracy: 0.6045 - val_loss: 1.0659 - val_accuracy: 0.6165\n",
            "Epoch 15/100\n",
            "239/239 [==============================] - 2s 9ms/step - loss: 1.0866 - accuracy: 0.6045 - val_loss: 1.0659 - val_accuracy: 0.6165\n",
            "Epoch 16/100\n",
            "239/239 [==============================] - 2s 8ms/step - loss: 1.0865 - accuracy: 0.6045 - val_loss: 1.0658 - val_accuracy: 0.6165\n",
            "Epoch 17/100\n",
            "239/239 [==============================] - 2s 8ms/step - loss: 1.0975 - accuracy: 0.6045 - val_loss: 1.0660 - val_accuracy: 0.6165\n",
            "Epoch 18/100\n",
            "239/239 [==============================] - 2s 8ms/step - loss: 1.0866 - accuracy: 0.6045 - val_loss: 1.0660 - val_accuracy: 0.6165\n",
            "Epoch 19/100\n",
            "239/239 [==============================] - 2s 10ms/step - loss: 1.0865 - accuracy: 0.6045 - val_loss: 1.0659 - val_accuracy: 0.6165\n",
            "Epoch 20/100\n",
            "239/239 [==============================] - 2s 10ms/step - loss: 1.0863 - accuracy: 0.6046 - val_loss: 1.0659 - val_accuracy: 0.6165\n",
            "Epoch 21/100\n",
            "239/239 [==============================] - 2s 9ms/step - loss: 1.0874 - accuracy: 0.6045 - val_loss: 1.0659 - val_accuracy: 0.6165\n",
            "Epoch 22/100\n",
            "239/239 [==============================] - 2s 8ms/step - loss: 1.0865 - accuracy: 0.6045 - val_loss: 1.0661 - val_accuracy: 0.6165\n",
            "Epoch 23/100\n",
            "239/239 [==============================] - 2s 8ms/step - loss: 1.0865 - accuracy: 0.6045 - val_loss: 1.0659 - val_accuracy: 0.6165\n",
            "Epoch 24/100\n",
            "239/239 [==============================] - 2s 8ms/step - loss: 1.0866 - accuracy: 0.6045 - val_loss: 1.0659 - val_accuracy: 0.6165\n",
            "Epoch 25/100\n",
            "239/239 [==============================] - 2s 7ms/step - loss: 1.0865 - accuracy: 0.6045 - val_loss: 1.0659 - val_accuracy: 0.6165\n",
            "Epoch 26/100\n",
            "239/239 [==============================] - 2s 7ms/step - loss: 1.0865 - accuracy: 0.6045 - val_loss: 1.0658 - val_accuracy: 0.6165\n",
            "Epoch 27/100\n",
            "239/239 [==============================] - 2s 8ms/step - loss: 1.0866 - accuracy: 0.6045 - val_loss: 1.0660 - val_accuracy: 0.6165\n",
            "Epoch 28/100\n",
            "239/239 [==============================] - 2s 8ms/step - loss: 1.0865 - accuracy: 0.6045 - val_loss: 1.0661 - val_accuracy: 0.6165\n",
            "Epoch 29/100\n",
            "239/239 [==============================] - 2s 8ms/step - loss: 1.0899 - accuracy: 0.6044 - val_loss: 1.0659 - val_accuracy: 0.6165\n",
            "Epoch 30/100\n",
            "239/239 [==============================] - 2s 7ms/step - loss: 1.0866 - accuracy: 0.6045 - val_loss: 1.0660 - val_accuracy: 0.6165\n",
            "Epoch 31/100\n",
            "239/239 [==============================] - 2s 7ms/step - loss: 1.1292 - accuracy: 0.6045 - val_loss: 1.0660 - val_accuracy: 0.6165\n",
            "Epoch 32/100\n",
            "239/239 [==============================] - 2s 8ms/step - loss: 1.0866 - accuracy: 0.6045 - val_loss: 1.0659 - val_accuracy: 0.6165\n",
            "Epoch 33/100\n",
            "239/239 [==============================] - 2s 7ms/step - loss: 1.1016 - accuracy: 0.6045 - val_loss: 1.0660 - val_accuracy: 0.6165\n",
            "Epoch 34/100\n",
            "239/239 [==============================] - 2s 7ms/step - loss: 1.0881 - accuracy: 0.6045 - val_loss: 1.0660 - val_accuracy: 0.6165\n",
            "Epoch 35/100\n",
            "239/239 [==============================] - 2s 7ms/step - loss: 1.0899 - accuracy: 0.6044 - val_loss: 1.0659 - val_accuracy: 0.6165\n",
            "Epoch 36/100\n",
            "239/239 [==============================] - 2s 7ms/step - loss: 1.0873 - accuracy: 0.6044 - val_loss: 1.0659 - val_accuracy: 0.6165\n",
            "Epoch 37/100\n",
            "239/239 [==============================] - 2s 8ms/step - loss: 1.0877 - accuracy: 0.6044 - val_loss: 1.0658 - val_accuracy: 0.6165\n",
            "Epoch 38/100\n",
            "239/239 [==============================] - 2s 7ms/step - loss: 1.1407 - accuracy: 0.6045 - val_loss: 1.0659 - val_accuracy: 0.6165\n",
            "Epoch 39/100\n",
            "239/239 [==============================] - 2s 7ms/step - loss: 1.0866 - accuracy: 0.6045 - val_loss: 1.0660 - val_accuracy: 0.6165\n",
            "Epoch 40/100\n",
            "239/239 [==============================] - 2s 8ms/step - loss: 1.0865 - accuracy: 0.6045 - val_loss: 1.0659 - val_accuracy: 0.6165\n",
            "Epoch 41/100\n",
            "239/239 [==============================] - 2s 7ms/step - loss: 1.1242 - accuracy: 0.6044 - val_loss: 1.0658 - val_accuracy: 0.6165\n",
            "Epoch 42/100\n",
            "239/239 [==============================] - 2s 8ms/step - loss: 1.1037 - accuracy: 0.6042 - val_loss: 1.0659 - val_accuracy: 0.6165\n",
            "Epoch 43/100\n",
            "239/239 [==============================] - 2s 8ms/step - loss: 1.0865 - accuracy: 0.6045 - val_loss: 1.0660 - val_accuracy: 0.6165\n",
            "Epoch 44/100\n",
            "239/239 [==============================] - 2s 8ms/step - loss: 1.0868 - accuracy: 0.6045 - val_loss: 1.0660 - val_accuracy: 0.6165\n",
            "Epoch 45/100\n",
            "239/239 [==============================] - 2s 8ms/step - loss: 1.1430 - accuracy: 0.6045 - val_loss: 1.0660 - val_accuracy: 0.6165\n",
            "Epoch 46/100\n",
            "239/239 [==============================] - 2s 8ms/step - loss: 1.0866 - accuracy: 0.6045 - val_loss: 1.0661 - val_accuracy: 0.6165\n",
            "Epoch 47/100\n",
            "239/239 [==============================] - 2s 8ms/step - loss: 1.0875 - accuracy: 0.6045 - val_loss: 1.0659 - val_accuracy: 0.6165\n",
            "Epoch 48/100\n",
            "239/239 [==============================] - 2s 7ms/step - loss: 1.0865 - accuracy: 0.6045 - val_loss: 1.0661 - val_accuracy: 0.6165\n",
            "Epoch 49/100\n",
            "239/239 [==============================] - 2s 7ms/step - loss: 1.0866 - accuracy: 0.6045 - val_loss: 1.0660 - val_accuracy: 0.6165\n",
            "Epoch 50/100\n",
            "239/239 [==============================] - 2s 7ms/step - loss: 1.0866 - accuracy: 0.6045 - val_loss: 1.0660 - val_accuracy: 0.6165\n",
            "Epoch 51/100\n",
            "239/239 [==============================] - 2s 8ms/step - loss: 1.0866 - accuracy: 0.6045 - val_loss: 1.0660 - val_accuracy: 0.6165\n",
            "Epoch 52/100\n",
            "239/239 [==============================] - 2s 7ms/step - loss: 1.2807 - accuracy: 0.6045 - val_loss: 1.0660 - val_accuracy: 0.6165\n",
            "Epoch 53/100\n",
            "239/239 [==============================] - 2s 7ms/step - loss: 1.1091 - accuracy: 0.6045 - val_loss: 1.0658 - val_accuracy: 0.6165\n",
            "Epoch 54/100\n",
            "239/239 [==============================] - 2s 8ms/step - loss: 1.0865 - accuracy: 0.6045 - val_loss: 1.0658 - val_accuracy: 0.6165\n",
            "Epoch 55/100\n",
            "239/239 [==============================] - 2s 8ms/step - loss: 1.1145 - accuracy: 0.6045 - val_loss: 1.0659 - val_accuracy: 0.6165\n",
            "Epoch 56/100\n",
            "239/239 [==============================] - 2s 8ms/step - loss: 1.0865 - accuracy: 0.6045 - val_loss: 1.0659 - val_accuracy: 0.6165\n",
            "Epoch 57/100\n",
            "239/239 [==============================] - 2s 9ms/step - loss: 1.0969 - accuracy: 0.6044 - val_loss: 1.0660 - val_accuracy: 0.6165\n",
            "Epoch 58/100\n",
            "239/239 [==============================] - 2s 7ms/step - loss: 1.0866 - accuracy: 0.6045 - val_loss: 1.0660 - val_accuracy: 0.6165\n",
            "Epoch 59/100\n",
            "239/239 [==============================] - 2s 7ms/step - loss: 1.0866 - accuracy: 0.6045 - val_loss: 1.0659 - val_accuracy: 0.6165\n",
            "Epoch 60/100\n",
            "239/239 [==============================] - 2s 8ms/step - loss: 1.0866 - accuracy: 0.6045 - val_loss: 1.0661 - val_accuracy: 0.6165\n",
            "Epoch 61/100\n",
            "239/239 [==============================] - 2s 7ms/step - loss: 1.0865 - accuracy: 0.6045 - val_loss: 1.0659 - val_accuracy: 0.6165\n",
            "Epoch 62/100\n",
            "239/239 [==============================] - 2s 10ms/step - loss: 1.0865 - accuracy: 0.6045 - val_loss: 1.0658 - val_accuracy: 0.6165\n",
            "Epoch 63/100\n",
            "239/239 [==============================] - 2s 7ms/step - loss: 1.0865 - accuracy: 0.6045 - val_loss: 1.0659 - val_accuracy: 0.6165\n",
            "Epoch 64/100\n",
            "239/239 [==============================] - 2s 8ms/step - loss: 1.0865 - accuracy: 0.6045 - val_loss: 1.0657 - val_accuracy: 0.6165\n",
            "Epoch 65/100\n",
            "239/239 [==============================] - 2s 7ms/step - loss: 1.0866 - accuracy: 0.6045 - val_loss: 1.0659 - val_accuracy: 0.6165\n",
            "Epoch 66/100\n",
            "239/239 [==============================] - 2s 7ms/step - loss: 1.0866 - accuracy: 0.6045 - val_loss: 1.0659 - val_accuracy: 0.6165\n",
            "Epoch 67/100\n",
            "239/239 [==============================] - 2s 8ms/step - loss: 1.0893 - accuracy: 0.6044 - val_loss: 1.0660 - val_accuracy: 0.6165\n",
            "Epoch 68/100\n",
            "239/239 [==============================] - 2s 8ms/step - loss: 1.0866 - accuracy: 0.6045 - val_loss: 1.0660 - val_accuracy: 0.6165\n",
            "Epoch 69/100\n",
            "239/239 [==============================] - 2s 7ms/step - loss: 1.0865 - accuracy: 0.6045 - val_loss: 1.0660 - val_accuracy: 0.6165\n",
            "Epoch 70/100\n",
            "239/239 [==============================] - 2s 8ms/step - loss: 1.0865 - accuracy: 0.6045 - val_loss: 1.0659 - val_accuracy: 0.6165\n",
            "Epoch 71/100\n",
            "239/239 [==============================] - 2s 8ms/step - loss: 1.0866 - accuracy: 0.6045 - val_loss: 1.0659 - val_accuracy: 0.6165\n",
            "Epoch 72/100\n",
            "239/239 [==============================] - 2s 7ms/step - loss: 1.0865 - accuracy: 0.6045 - val_loss: 1.0660 - val_accuracy: 0.6165\n",
            "Epoch 73/100\n",
            "239/239 [==============================] - 2s 7ms/step - loss: 1.0865 - accuracy: 0.6045 - val_loss: 1.0660 - val_accuracy: 0.6165\n",
            "Epoch 74/100\n",
            "239/239 [==============================] - 2s 7ms/step - loss: 1.0866 - accuracy: 0.6045 - val_loss: 1.0659 - val_accuracy: 0.6165\n",
            "Epoch 75/100\n",
            "239/239 [==============================] - 2s 8ms/step - loss: 1.0866 - accuracy: 0.6045 - val_loss: 1.0659 - val_accuracy: 0.6165\n",
            "Epoch 76/100\n",
            "239/239 [==============================] - 2s 7ms/step - loss: 1.1390 - accuracy: 0.6045 - val_loss: 1.0659 - val_accuracy: 0.6165\n",
            "Epoch 77/100\n",
            "239/239 [==============================] - 2s 7ms/step - loss: 1.0865 - accuracy: 0.6045 - val_loss: 1.0659 - val_accuracy: 0.6165\n",
            "Epoch 78/100\n",
            "239/239 [==============================] - 2s 7ms/step - loss: 1.0866 - accuracy: 0.6045 - val_loss: 1.0661 - val_accuracy: 0.6165\n",
            "Epoch 79/100\n",
            "239/239 [==============================] - 2s 8ms/step - loss: 1.0866 - accuracy: 0.6045 - val_loss: 1.0659 - val_accuracy: 0.6165\n",
            "Epoch 80/100\n",
            "239/239 [==============================] - 2s 7ms/step - loss: 1.0866 - accuracy: 0.6045 - val_loss: 1.0660 - val_accuracy: 0.6165\n",
            "Epoch 81/100\n",
            "239/239 [==============================] - 2s 7ms/step - loss: 1.0865 - accuracy: 0.6045 - val_loss: 1.0660 - val_accuracy: 0.6165\n",
            "Epoch 82/100\n",
            "239/239 [==============================] - 2s 7ms/step - loss: 1.0872 - accuracy: 0.6045 - val_loss: 1.0659 - val_accuracy: 0.6165\n",
            "Epoch 83/100\n",
            "239/239 [==============================] - 2s 9ms/step - loss: 1.0865 - accuracy: 0.6045 - val_loss: 1.0659 - val_accuracy: 0.6165\n",
            "Epoch 84/100\n",
            "239/239 [==============================] - 2s 8ms/step - loss: 1.0866 - accuracy: 0.6045 - val_loss: 1.0659 - val_accuracy: 0.6165\n",
            "Epoch 85/100\n",
            "239/239 [==============================] - 2s 7ms/step - loss: 1.0865 - accuracy: 0.6045 - val_loss: 1.0659 - val_accuracy: 0.6165\n",
            "Epoch 86/100\n",
            "239/239 [==============================] - 2s 8ms/step - loss: 1.0866 - accuracy: 0.6045 - val_loss: 1.0659 - val_accuracy: 0.6165\n",
            "Epoch 87/100\n",
            "239/239 [==============================] - 2s 8ms/step - loss: 1.1524 - accuracy: 0.6045 - val_loss: 1.0660 - val_accuracy: 0.6165\n",
            "Epoch 88/100\n",
            "239/239 [==============================] - 2s 8ms/step - loss: 1.0865 - accuracy: 0.6045 - val_loss: 1.0659 - val_accuracy: 0.6165\n",
            "Epoch 89/100\n",
            "239/239 [==============================] - 2s 7ms/step - loss: 1.0865 - accuracy: 0.6045 - val_loss: 1.0659 - val_accuracy: 0.6165\n",
            "Epoch 90/100\n",
            "239/239 [==============================] - 2s 7ms/step - loss: 1.1072 - accuracy: 0.6045 - val_loss: 1.0659 - val_accuracy: 0.6165\n",
            "Epoch 91/100\n",
            "239/239 [==============================] - 2s 8ms/step - loss: 1.0865 - accuracy: 0.6045 - val_loss: 1.0659 - val_accuracy: 0.6165\n",
            "Epoch 92/100\n",
            "239/239 [==============================] - 2s 8ms/step - loss: 1.0874 - accuracy: 0.6044 - val_loss: 1.0660 - val_accuracy: 0.6165\n",
            "Epoch 93/100\n",
            "239/239 [==============================] - 2s 7ms/step - loss: 1.0996 - accuracy: 0.6045 - val_loss: 1.0659 - val_accuracy: 0.6165\n",
            "Epoch 94/100\n",
            "239/239 [==============================] - 2s 8ms/step - loss: 1.0866 - accuracy: 0.6045 - val_loss: 1.0660 - val_accuracy: 0.6165\n",
            "Epoch 95/100\n",
            "239/239 [==============================] - 2s 8ms/step - loss: 1.0865 - accuracy: 0.6045 - val_loss: 1.0661 - val_accuracy: 0.6165\n",
            "Epoch 96/100\n",
            "239/239 [==============================] - 2s 7ms/step - loss: 1.0866 - accuracy: 0.6045 - val_loss: 1.0660 - val_accuracy: 0.6165\n",
            "Epoch 97/100\n",
            "239/239 [==============================] - 2s 8ms/step - loss: 1.0865 - accuracy: 0.6045 - val_loss: 1.0659 - val_accuracy: 0.6165\n",
            "Epoch 98/100\n",
            "239/239 [==============================] - 2s 8ms/step - loss: 1.0866 - accuracy: 0.6045 - val_loss: 1.0660 - val_accuracy: 0.6165\n",
            "Epoch 99/100\n",
            "239/239 [==============================] - 2s 7ms/step - loss: 1.0866 - accuracy: 0.6045 - val_loss: 1.0659 - val_accuracy: 0.6165\n",
            "Epoch 100/100\n",
            "239/239 [==============================] - 2s 8ms/step - loss: 1.0866 - accuracy: 0.6045 - val_loss: 1.0659 - val_accuracy: 0.6165\n"
          ]
        }
      ],
      "source": [
        "# train the model\n",
        "history = model.fit(x_train, y_train,\n",
        "          batch_size=32,\n",
        "          epochs=100,\n",
        "          validation_data=(x_test, y_test))"
      ]
    },
    {
      "cell_type": "code",
      "execution_count": 144,
      "metadata": {},
      "outputs": [
        {
          "data": {
            "application/vnd.plotly.v1+json": {
              "config": {
                "plotlyServerURL": "https://plot.ly"
              },
              "data": [
                {
                  "name": "Training",
                  "type": "scatter",
                  "x": [
                    1,
                    2,
                    3,
                    4,
                    5,
                    6,
                    7,
                    8,
                    9,
                    10,
                    11,
                    12,
                    13,
                    14,
                    15,
                    16,
                    17,
                    18,
                    19,
                    20,
                    21,
                    22,
                    23,
                    24,
                    25,
                    26,
                    27,
                    28,
                    29,
                    30,
                    31,
                    32,
                    33,
                    34,
                    35,
                    36,
                    37,
                    38,
                    39,
                    40,
                    41,
                    42,
                    43,
                    44,
                    45,
                    46,
                    47,
                    48,
                    49,
                    50,
                    51,
                    52,
                    53,
                    54,
                    55,
                    56,
                    57,
                    58,
                    59,
                    60,
                    61,
                    62,
                    63,
                    64,
                    65,
                    66,
                    67,
                    68,
                    69,
                    70,
                    71,
                    72,
                    73,
                    74,
                    75,
                    76,
                    77,
                    78,
                    79,
                    80,
                    81,
                    82,
                    83,
                    84,
                    85,
                    86,
                    87,
                    88,
                    89,
                    90,
                    91,
                    92,
                    93,
                    94,
                    95,
                    96,
                    97,
                    98,
                    99,
                    100
                  ],
                  "xaxis": "x",
                  "y": [
                    1.0865650177001953,
                    1.0865514278411865,
                    1.1270941495895386,
                    1.0865777730941772,
                    1.0865249633789062,
                    1.086523413658142,
                    1.1062157154083252,
                    1.0865534543991089,
                    1.0865397453308105,
                    1.086569905281067,
                    1.0865648984909058,
                    1.0865193605422974,
                    1.0865213871002197,
                    1.0865371227264404,
                    1.0865613222122192,
                    1.086474061012268,
                    1.0975316762924194,
                    1.086578369140625,
                    1.0865378379821777,
                    1.086300015449524,
                    1.087388515472412,
                    1.0865497589111328,
                    1.0865147113800049,
                    1.0865578651428223,
                    1.0865299701690674,
                    1.0865411758422852,
                    1.086560606956482,
                    1.086544394493103,
                    1.0899202823638916,
                    1.086565613746643,
                    1.1291965246200562,
                    1.0865809917449951,
                    1.1016147136688232,
                    1.088114619255066,
                    1.089867353439331,
                    1.087274432182312,
                    1.0876762866973877,
                    1.1406925916671753,
                    1.086584210395813,
                    1.0865368843078613,
                    1.1242293119430542,
                    1.103681206703186,
                    1.086540937423706,
                    1.0867756605148315,
                    1.1430479288101196,
                    1.0865813493728638,
                    1.0875197649002075,
                    1.0865235328674316,
                    1.0865527391433716,
                    1.0865803956985474,
                    1.0865614414215088,
                    1.2807163000106812,
                    1.1090773344039917,
                    1.0865453481674194,
                    1.1145339012145996,
                    1.0865346193313599,
                    1.0968542098999023,
                    1.086553692817688,
                    1.0865867137908936,
                    1.0865683555603027,
                    1.086544394493103,
                    1.0865272283554077,
                    1.0865448713302612,
                    1.086546778678894,
                    1.0865700244903564,
                    1.0865602493286133,
                    1.0892544984817505,
                    1.0865530967712402,
                    1.0865366458892822,
                    1.0865466594696045,
                    1.0865691900253296,
                    1.0865380764007568,
                    1.0865120887756348,
                    1.086568832397461,
                    1.0865737199783325,
                    1.1390184164047241,
                    1.0865312814712524,
                    1.0865604877471924,
                    1.0865812301635742,
                    1.0865588188171387,
                    1.0865414142608643,
                    1.0872383117675781,
                    1.0865418910980225,
                    1.0865583419799805,
                    1.0865278244018555,
                    1.086562156677246,
                    1.1523810625076294,
                    1.0865367650985718,
                    1.0865203142166138,
                    1.1072356700897217,
                    1.0865288972854614,
                    1.0874205827713013,
                    1.0996116399765015,
                    1.0865665674209595,
                    1.0865439176559448,
                    1.086559772491455,
                    1.0865404605865479,
                    1.0865544080734253,
                    1.0865651369094849,
                    1.0865532159805298
                  ],
                  "yaxis": "y"
                },
                {
                  "name": "Validation",
                  "type": "scatter",
                  "x": [
                    1,
                    2,
                    3,
                    4,
                    5,
                    6,
                    7,
                    8,
                    9,
                    10,
                    11,
                    12,
                    13,
                    14,
                    15,
                    16,
                    17,
                    18,
                    19,
                    20,
                    21,
                    22,
                    23,
                    24,
                    25,
                    26,
                    27,
                    28,
                    29,
                    30,
                    31,
                    32,
                    33,
                    34,
                    35,
                    36,
                    37,
                    38,
                    39,
                    40,
                    41,
                    42,
                    43,
                    44,
                    45,
                    46,
                    47,
                    48,
                    49,
                    50,
                    51,
                    52,
                    53,
                    54,
                    55,
                    56,
                    57,
                    58,
                    59,
                    60,
                    61,
                    62,
                    63,
                    64,
                    65,
                    66,
                    67,
                    68,
                    69,
                    70,
                    71,
                    72,
                    73,
                    74,
                    75,
                    76,
                    77,
                    78,
                    79,
                    80,
                    81,
                    82,
                    83,
                    84,
                    85,
                    86,
                    87,
                    88,
                    89,
                    90,
                    91,
                    92,
                    93,
                    94,
                    95,
                    96,
                    97,
                    98,
                    99,
                    100
                  ],
                  "xaxis": "x2",
                  "y": [
                    1.0658986568450928,
                    1.0658154487609863,
                    1.0659288167953491,
                    1.066011905670166,
                    1.0660338401794434,
                    1.0660898685455322,
                    1.066125512123108,
                    1.0658577680587769,
                    1.066070556640625,
                    1.066164493560791,
                    1.0661389827728271,
                    1.065985918045044,
                    1.0660520792007446,
                    1.0658960342407227,
                    1.065870761871338,
                    1.065825343132019,
                    1.0659716129302979,
                    1.0660221576690674,
                    1.0658833980560303,
                    1.0658506155014038,
                    1.0659250020980835,
                    1.0660547018051147,
                    1.06593656539917,
                    1.065878987312317,
                    1.065909504890442,
                    1.0658259391784668,
                    1.0659512281417847,
                    1.0660507678985596,
                    1.065877914428711,
                    1.066003441810608,
                    1.06602942943573,
                    1.0659489631652832,
                    1.065977692604065,
                    1.0659812688827515,
                    1.0659067630767822,
                    1.0659185647964478,
                    1.0657812356948853,
                    1.0659221410751343,
                    1.065976858139038,
                    1.0659221410751343,
                    1.0657917261123657,
                    1.065929651260376,
                    1.0659505128860474,
                    1.0659608840942383,
                    1.066016435623169,
                    1.0660789012908936,
                    1.0659229755401611,
                    1.0660922527313232,
                    1.06602942943573,
                    1.0659581422805786,
                    1.0659799575805664,
                    1.0659866333007812,
                    1.0658494234085083,
                    1.06582510471344,
                    1.0659345388412476,
                    1.0658767223358154,
                    1.0659931898117065,
                    1.0660247802734375,
                    1.0659029483795166,
                    1.0661203861236572,
                    1.0658581256866455,
                    1.0658420324325562,
                    1.065895676612854,
                    1.0657470226287842,
                    1.06586754322052,
                    1.065902590751648,
                    1.0659873485565186,
                    1.0660099983215332,
                    1.065999150276184,
                    1.0659427642822266,
                    1.0658626556396484,
                    1.065974235534668,
                    1.0659595727920532,
                    1.0659431219100952,
                    1.0658661127090454,
                    1.065926194190979,
                    1.0658854246139526,
                    1.0661022663116455,
                    1.065901517868042,
                    1.065983772277832,
                    1.0659925937652588,
                    1.0659356117248535,
                    1.0659421682357788,
                    1.0658583641052246,
                    1.065916657447815,
                    1.0658892393112183,
                    1.0660067796707153,
                    1.06587553024292,
                    1.0658644437789917,
                    1.0658643245697021,
                    1.0658924579620361,
                    1.0659985542297363,
                    1.0659376382827759,
                    1.0660488605499268,
                    1.066062569618225,
                    1.0659654140472412,
                    1.065925121307373,
                    1.0659700632095337,
                    1.0658665895462036,
                    1.0658626556396484
                  ],
                  "yaxis": "y2"
                }
              ],
              "layout": {
                "annotations": [
                  {
                    "font": {
                      "size": 16
                    },
                    "showarrow": false,
                    "text": "Training Loss",
                    "x": 0.225,
                    "xanchor": "center",
                    "xref": "paper",
                    "y": 1,
                    "yanchor": "bottom",
                    "yref": "paper"
                  },
                  {
                    "font": {
                      "size": 16
                    },
                    "showarrow": false,
                    "text": "Validation Loss",
                    "x": 0.775,
                    "xanchor": "center",
                    "xref": "paper",
                    "y": 1,
                    "yanchor": "bottom",
                    "yref": "paper"
                  }
                ],
                "height": 400,
                "template": {
                  "data": {
                    "bar": [
                      {
                        "error_x": {
                          "color": "#2a3f5f"
                        },
                        "error_y": {
                          "color": "#2a3f5f"
                        },
                        "marker": {
                          "line": {
                            "color": "#E5ECF6",
                            "width": 0.5
                          },
                          "pattern": {
                            "fillmode": "overlay",
                            "size": 10,
                            "solidity": 0.2
                          }
                        },
                        "type": "bar"
                      }
                    ],
                    "barpolar": [
                      {
                        "marker": {
                          "line": {
                            "color": "#E5ECF6",
                            "width": 0.5
                          },
                          "pattern": {
                            "fillmode": "overlay",
                            "size": 10,
                            "solidity": 0.2
                          }
                        },
                        "type": "barpolar"
                      }
                    ],
                    "carpet": [
                      {
                        "aaxis": {
                          "endlinecolor": "#2a3f5f",
                          "gridcolor": "white",
                          "linecolor": "white",
                          "minorgridcolor": "white",
                          "startlinecolor": "#2a3f5f"
                        },
                        "baxis": {
                          "endlinecolor": "#2a3f5f",
                          "gridcolor": "white",
                          "linecolor": "white",
                          "minorgridcolor": "white",
                          "startlinecolor": "#2a3f5f"
                        },
                        "type": "carpet"
                      }
                    ],
                    "choropleth": [
                      {
                        "colorbar": {
                          "outlinewidth": 0,
                          "ticks": ""
                        },
                        "type": "choropleth"
                      }
                    ],
                    "contour": [
                      {
                        "colorbar": {
                          "outlinewidth": 0,
                          "ticks": ""
                        },
                        "colorscale": [
                          [
                            0,
                            "#0d0887"
                          ],
                          [
                            0.1111111111111111,
                            "#46039f"
                          ],
                          [
                            0.2222222222222222,
                            "#7201a8"
                          ],
                          [
                            0.3333333333333333,
                            "#9c179e"
                          ],
                          [
                            0.4444444444444444,
                            "#bd3786"
                          ],
                          [
                            0.5555555555555556,
                            "#d8576b"
                          ],
                          [
                            0.6666666666666666,
                            "#ed7953"
                          ],
                          [
                            0.7777777777777778,
                            "#fb9f3a"
                          ],
                          [
                            0.8888888888888888,
                            "#fdca26"
                          ],
                          [
                            1,
                            "#f0f921"
                          ]
                        ],
                        "type": "contour"
                      }
                    ],
                    "contourcarpet": [
                      {
                        "colorbar": {
                          "outlinewidth": 0,
                          "ticks": ""
                        },
                        "type": "contourcarpet"
                      }
                    ],
                    "heatmap": [
                      {
                        "colorbar": {
                          "outlinewidth": 0,
                          "ticks": ""
                        },
                        "colorscale": [
                          [
                            0,
                            "#0d0887"
                          ],
                          [
                            0.1111111111111111,
                            "#46039f"
                          ],
                          [
                            0.2222222222222222,
                            "#7201a8"
                          ],
                          [
                            0.3333333333333333,
                            "#9c179e"
                          ],
                          [
                            0.4444444444444444,
                            "#bd3786"
                          ],
                          [
                            0.5555555555555556,
                            "#d8576b"
                          ],
                          [
                            0.6666666666666666,
                            "#ed7953"
                          ],
                          [
                            0.7777777777777778,
                            "#fb9f3a"
                          ],
                          [
                            0.8888888888888888,
                            "#fdca26"
                          ],
                          [
                            1,
                            "#f0f921"
                          ]
                        ],
                        "type": "heatmap"
                      }
                    ],
                    "heatmapgl": [
                      {
                        "colorbar": {
                          "outlinewidth": 0,
                          "ticks": ""
                        },
                        "colorscale": [
                          [
                            0,
                            "#0d0887"
                          ],
                          [
                            0.1111111111111111,
                            "#46039f"
                          ],
                          [
                            0.2222222222222222,
                            "#7201a8"
                          ],
                          [
                            0.3333333333333333,
                            "#9c179e"
                          ],
                          [
                            0.4444444444444444,
                            "#bd3786"
                          ],
                          [
                            0.5555555555555556,
                            "#d8576b"
                          ],
                          [
                            0.6666666666666666,
                            "#ed7953"
                          ],
                          [
                            0.7777777777777778,
                            "#fb9f3a"
                          ],
                          [
                            0.8888888888888888,
                            "#fdca26"
                          ],
                          [
                            1,
                            "#f0f921"
                          ]
                        ],
                        "type": "heatmapgl"
                      }
                    ],
                    "histogram": [
                      {
                        "marker": {
                          "pattern": {
                            "fillmode": "overlay",
                            "size": 10,
                            "solidity": 0.2
                          }
                        },
                        "type": "histogram"
                      }
                    ],
                    "histogram2d": [
                      {
                        "colorbar": {
                          "outlinewidth": 0,
                          "ticks": ""
                        },
                        "colorscale": [
                          [
                            0,
                            "#0d0887"
                          ],
                          [
                            0.1111111111111111,
                            "#46039f"
                          ],
                          [
                            0.2222222222222222,
                            "#7201a8"
                          ],
                          [
                            0.3333333333333333,
                            "#9c179e"
                          ],
                          [
                            0.4444444444444444,
                            "#bd3786"
                          ],
                          [
                            0.5555555555555556,
                            "#d8576b"
                          ],
                          [
                            0.6666666666666666,
                            "#ed7953"
                          ],
                          [
                            0.7777777777777778,
                            "#fb9f3a"
                          ],
                          [
                            0.8888888888888888,
                            "#fdca26"
                          ],
                          [
                            1,
                            "#f0f921"
                          ]
                        ],
                        "type": "histogram2d"
                      }
                    ],
                    "histogram2dcontour": [
                      {
                        "colorbar": {
                          "outlinewidth": 0,
                          "ticks": ""
                        },
                        "colorscale": [
                          [
                            0,
                            "#0d0887"
                          ],
                          [
                            0.1111111111111111,
                            "#46039f"
                          ],
                          [
                            0.2222222222222222,
                            "#7201a8"
                          ],
                          [
                            0.3333333333333333,
                            "#9c179e"
                          ],
                          [
                            0.4444444444444444,
                            "#bd3786"
                          ],
                          [
                            0.5555555555555556,
                            "#d8576b"
                          ],
                          [
                            0.6666666666666666,
                            "#ed7953"
                          ],
                          [
                            0.7777777777777778,
                            "#fb9f3a"
                          ],
                          [
                            0.8888888888888888,
                            "#fdca26"
                          ],
                          [
                            1,
                            "#f0f921"
                          ]
                        ],
                        "type": "histogram2dcontour"
                      }
                    ],
                    "mesh3d": [
                      {
                        "colorbar": {
                          "outlinewidth": 0,
                          "ticks": ""
                        },
                        "type": "mesh3d"
                      }
                    ],
                    "parcoords": [
                      {
                        "line": {
                          "colorbar": {
                            "outlinewidth": 0,
                            "ticks": ""
                          }
                        },
                        "type": "parcoords"
                      }
                    ],
                    "pie": [
                      {
                        "automargin": true,
                        "type": "pie"
                      }
                    ],
                    "scatter": [
                      {
                        "fillpattern": {
                          "fillmode": "overlay",
                          "size": 10,
                          "solidity": 0.2
                        },
                        "type": "scatter"
                      }
                    ],
                    "scatter3d": [
                      {
                        "line": {
                          "colorbar": {
                            "outlinewidth": 0,
                            "ticks": ""
                          }
                        },
                        "marker": {
                          "colorbar": {
                            "outlinewidth": 0,
                            "ticks": ""
                          }
                        },
                        "type": "scatter3d"
                      }
                    ],
                    "scattercarpet": [
                      {
                        "marker": {
                          "colorbar": {
                            "outlinewidth": 0,
                            "ticks": ""
                          }
                        },
                        "type": "scattercarpet"
                      }
                    ],
                    "scattergeo": [
                      {
                        "marker": {
                          "colorbar": {
                            "outlinewidth": 0,
                            "ticks": ""
                          }
                        },
                        "type": "scattergeo"
                      }
                    ],
                    "scattergl": [
                      {
                        "marker": {
                          "colorbar": {
                            "outlinewidth": 0,
                            "ticks": ""
                          }
                        },
                        "type": "scattergl"
                      }
                    ],
                    "scattermapbox": [
                      {
                        "marker": {
                          "colorbar": {
                            "outlinewidth": 0,
                            "ticks": ""
                          }
                        },
                        "type": "scattermapbox"
                      }
                    ],
                    "scatterpolar": [
                      {
                        "marker": {
                          "colorbar": {
                            "outlinewidth": 0,
                            "ticks": ""
                          }
                        },
                        "type": "scatterpolar"
                      }
                    ],
                    "scatterpolargl": [
                      {
                        "marker": {
                          "colorbar": {
                            "outlinewidth": 0,
                            "ticks": ""
                          }
                        },
                        "type": "scatterpolargl"
                      }
                    ],
                    "scatterternary": [
                      {
                        "marker": {
                          "colorbar": {
                            "outlinewidth": 0,
                            "ticks": ""
                          }
                        },
                        "type": "scatterternary"
                      }
                    ],
                    "surface": [
                      {
                        "colorbar": {
                          "outlinewidth": 0,
                          "ticks": ""
                        },
                        "colorscale": [
                          [
                            0,
                            "#0d0887"
                          ],
                          [
                            0.1111111111111111,
                            "#46039f"
                          ],
                          [
                            0.2222222222222222,
                            "#7201a8"
                          ],
                          [
                            0.3333333333333333,
                            "#9c179e"
                          ],
                          [
                            0.4444444444444444,
                            "#bd3786"
                          ],
                          [
                            0.5555555555555556,
                            "#d8576b"
                          ],
                          [
                            0.6666666666666666,
                            "#ed7953"
                          ],
                          [
                            0.7777777777777778,
                            "#fb9f3a"
                          ],
                          [
                            0.8888888888888888,
                            "#fdca26"
                          ],
                          [
                            1,
                            "#f0f921"
                          ]
                        ],
                        "type": "surface"
                      }
                    ],
                    "table": [
                      {
                        "cells": {
                          "fill": {
                            "color": "#EBF0F8"
                          },
                          "line": {
                            "color": "white"
                          }
                        },
                        "header": {
                          "fill": {
                            "color": "#C8D4E3"
                          },
                          "line": {
                            "color": "white"
                          }
                        },
                        "type": "table"
                      }
                    ]
                  },
                  "layout": {
                    "annotationdefaults": {
                      "arrowcolor": "#2a3f5f",
                      "arrowhead": 0,
                      "arrowwidth": 1
                    },
                    "autotypenumbers": "strict",
                    "coloraxis": {
                      "colorbar": {
                        "outlinewidth": 0,
                        "ticks": ""
                      }
                    },
                    "colorscale": {
                      "diverging": [
                        [
                          0,
                          "#8e0152"
                        ],
                        [
                          0.1,
                          "#c51b7d"
                        ],
                        [
                          0.2,
                          "#de77ae"
                        ],
                        [
                          0.3,
                          "#f1b6da"
                        ],
                        [
                          0.4,
                          "#fde0ef"
                        ],
                        [
                          0.5,
                          "#f7f7f7"
                        ],
                        [
                          0.6,
                          "#e6f5d0"
                        ],
                        [
                          0.7,
                          "#b8e186"
                        ],
                        [
                          0.8,
                          "#7fbc41"
                        ],
                        [
                          0.9,
                          "#4d9221"
                        ],
                        [
                          1,
                          "#276419"
                        ]
                      ],
                      "sequential": [
                        [
                          0,
                          "#0d0887"
                        ],
                        [
                          0.1111111111111111,
                          "#46039f"
                        ],
                        [
                          0.2222222222222222,
                          "#7201a8"
                        ],
                        [
                          0.3333333333333333,
                          "#9c179e"
                        ],
                        [
                          0.4444444444444444,
                          "#bd3786"
                        ],
                        [
                          0.5555555555555556,
                          "#d8576b"
                        ],
                        [
                          0.6666666666666666,
                          "#ed7953"
                        ],
                        [
                          0.7777777777777778,
                          "#fb9f3a"
                        ],
                        [
                          0.8888888888888888,
                          "#fdca26"
                        ],
                        [
                          1,
                          "#f0f921"
                        ]
                      ],
                      "sequentialminus": [
                        [
                          0,
                          "#0d0887"
                        ],
                        [
                          0.1111111111111111,
                          "#46039f"
                        ],
                        [
                          0.2222222222222222,
                          "#7201a8"
                        ],
                        [
                          0.3333333333333333,
                          "#9c179e"
                        ],
                        [
                          0.4444444444444444,
                          "#bd3786"
                        ],
                        [
                          0.5555555555555556,
                          "#d8576b"
                        ],
                        [
                          0.6666666666666666,
                          "#ed7953"
                        ],
                        [
                          0.7777777777777778,
                          "#fb9f3a"
                        ],
                        [
                          0.8888888888888888,
                          "#fdca26"
                        ],
                        [
                          1,
                          "#f0f921"
                        ]
                      ]
                    },
                    "colorway": [
                      "#636efa",
                      "#EF553B",
                      "#00cc96",
                      "#ab63fa",
                      "#FFA15A",
                      "#19d3f3",
                      "#FF6692",
                      "#B6E880",
                      "#FF97FF",
                      "#FECB52"
                    ],
                    "font": {
                      "color": "#2a3f5f"
                    },
                    "geo": {
                      "bgcolor": "white",
                      "lakecolor": "white",
                      "landcolor": "#E5ECF6",
                      "showlakes": true,
                      "showland": true,
                      "subunitcolor": "white"
                    },
                    "hoverlabel": {
                      "align": "left"
                    },
                    "hovermode": "closest",
                    "mapbox": {
                      "style": "light"
                    },
                    "paper_bgcolor": "white",
                    "plot_bgcolor": "#E5ECF6",
                    "polar": {
                      "angularaxis": {
                        "gridcolor": "white",
                        "linecolor": "white",
                        "ticks": ""
                      },
                      "bgcolor": "#E5ECF6",
                      "radialaxis": {
                        "gridcolor": "white",
                        "linecolor": "white",
                        "ticks": ""
                      }
                    },
                    "scene": {
                      "xaxis": {
                        "backgroundcolor": "#E5ECF6",
                        "gridcolor": "white",
                        "gridwidth": 2,
                        "linecolor": "white",
                        "showbackground": true,
                        "ticks": "",
                        "zerolinecolor": "white"
                      },
                      "yaxis": {
                        "backgroundcolor": "#E5ECF6",
                        "gridcolor": "white",
                        "gridwidth": 2,
                        "linecolor": "white",
                        "showbackground": true,
                        "ticks": "",
                        "zerolinecolor": "white"
                      },
                      "zaxis": {
                        "backgroundcolor": "#E5ECF6",
                        "gridcolor": "white",
                        "gridwidth": 2,
                        "linecolor": "white",
                        "showbackground": true,
                        "ticks": "",
                        "zerolinecolor": "white"
                      }
                    },
                    "shapedefaults": {
                      "line": {
                        "color": "#2a3f5f"
                      }
                    },
                    "ternary": {
                      "aaxis": {
                        "gridcolor": "white",
                        "linecolor": "white",
                        "ticks": ""
                      },
                      "baxis": {
                        "gridcolor": "white",
                        "linecolor": "white",
                        "ticks": ""
                      },
                      "bgcolor": "#E5ECF6",
                      "caxis": {
                        "gridcolor": "white",
                        "linecolor": "white",
                        "ticks": ""
                      }
                    },
                    "title": {
                      "x": 0.05
                    },
                    "xaxis": {
                      "automargin": true,
                      "gridcolor": "white",
                      "linecolor": "white",
                      "ticks": "",
                      "title": {
                        "standoff": 15
                      },
                      "zerolinecolor": "white",
                      "zerolinewidth": 2
                    },
                    "yaxis": {
                      "automargin": true,
                      "gridcolor": "white",
                      "linecolor": "white",
                      "ticks": "",
                      "title": {
                        "standoff": 15
                      },
                      "zerolinecolor": "white",
                      "zerolinewidth": 2
                    }
                  }
                },
                "title": {
                  "text": "Model Loss"
                },
                "width": 800,
                "xaxis": {
                  "anchor": "y",
                  "domain": [
                    0,
                    0.45
                  ]
                },
                "xaxis2": {
                  "anchor": "y2",
                  "domain": [
                    0.55,
                    1
                  ]
                },
                "yaxis": {
                  "anchor": "x",
                  "domain": [
                    0,
                    1
                  ]
                },
                "yaxis2": {
                  "anchor": "x2",
                  "domain": [
                    0,
                    1
                  ]
                }
              }
            }
          },
          "metadata": {},
          "output_type": "display_data"
        }
      ],
      "source": [
        "# Model loss graph\n",
        "fig = make_subplots(rows=1, cols=2, subplot_titles=('Training Loss', 'Validation Loss'))\n",
        "\n",
        "fig.add_trace(go.Scatter(x=list(range(1, len(history.history['loss'])+1)), y=history.history['loss'], name='Training'), row=1, col=1)\n",
        "fig.add_trace(go.Scatter(x=list(range(1, len(history.history['val_loss'])+1)), y=history.history['val_loss'], name='Validation'), row=1, col=2)\n",
        "\n",
        "fig.update_layout(height=400, width=800, title_text=\"Model Loss\")\n",
        "fig.show()"
      ]
    },
    {
      "cell_type": "code",
      "execution_count": 145,
      "metadata": {},
      "outputs": [
        {
          "data": {
            "application/vnd.plotly.v1+json": {
              "config": {
                "plotlyServerURL": "https://plot.ly"
              },
              "data": [
                {
                  "name": "Training",
                  "type": "scatter",
                  "x": [
                    1,
                    2,
                    3,
                    4,
                    5,
                    6,
                    7,
                    8,
                    9,
                    10,
                    11,
                    12,
                    13,
                    14,
                    15,
                    16,
                    17,
                    18,
                    19,
                    20,
                    21,
                    22,
                    23,
                    24,
                    25,
                    26,
                    27,
                    28,
                    29,
                    30,
                    31,
                    32,
                    33,
                    34,
                    35,
                    36,
                    37,
                    38,
                    39,
                    40,
                    41,
                    42,
                    43,
                    44,
                    45,
                    46,
                    47,
                    48,
                    49,
                    50,
                    51,
                    52,
                    53,
                    54,
                    55,
                    56,
                    57,
                    58,
                    59,
                    60,
                    61,
                    62,
                    63,
                    64,
                    65,
                    66,
                    67,
                    68,
                    69,
                    70,
                    71,
                    72,
                    73,
                    74,
                    75,
                    76,
                    77,
                    78,
                    79,
                    80,
                    81,
                    82,
                    83,
                    84,
                    85,
                    86,
                    87,
                    88,
                    89,
                    90,
                    91,
                    92,
                    93,
                    94,
                    95,
                    96,
                    97,
                    98,
                    99,
                    100
                  ],
                  "xaxis": "x",
                  "y": [
                    0.6044893860816956,
                    0.6044893860816956,
                    0.6043580770492554,
                    0.6044893860816956,
                    0.6044893860816956,
                    0.6044893860816956,
                    0.6044893860816956,
                    0.6044893860816956,
                    0.6044893860816956,
                    0.6044893860816956,
                    0.6044893860816956,
                    0.6044893860816956,
                    0.6044893860816956,
                    0.6044893860816956,
                    0.6044893860816956,
                    0.6044893860816956,
                    0.6044893860816956,
                    0.6044893860816956,
                    0.6044893860816956,
                    0.604620635509491,
                    0.6044893860816956,
                    0.6044893860816956,
                    0.6044893860816956,
                    0.6044893860816956,
                    0.6044893860816956,
                    0.6044893860816956,
                    0.6044893860816956,
                    0.6044893860816956,
                    0.6043580770492554,
                    0.6044893860816956,
                    0.6044893860816956,
                    0.6044893860816956,
                    0.6044893860816956,
                    0.6044893860816956,
                    0.6043580770492554,
                    0.6043580770492554,
                    0.6043580770492554,
                    0.6044893860816956,
                    0.6044893860816956,
                    0.6044893860816956,
                    0.6043580770492554,
                    0.60422682762146,
                    0.6044893860816956,
                    0.6044893860816956,
                    0.6044893860816956,
                    0.6044893860816956,
                    0.6044893860816956,
                    0.6044893860816956,
                    0.6044893860816956,
                    0.6044893860816956,
                    0.6044893860816956,
                    0.6044893860816956,
                    0.6044893860816956,
                    0.6044893860816956,
                    0.6044893860816956,
                    0.6044893860816956,
                    0.6043580770492554,
                    0.6044893860816956,
                    0.6044893860816956,
                    0.6044893860816956,
                    0.6044893860816956,
                    0.6044893860816956,
                    0.6044893860816956,
                    0.6044893860816956,
                    0.6044893860816956,
                    0.6044893860816956,
                    0.6043580770492554,
                    0.6044893860816956,
                    0.6044893860816956,
                    0.6044893860816956,
                    0.6044893860816956,
                    0.6044893860816956,
                    0.6044893860816956,
                    0.6044893860816956,
                    0.6044893860816956,
                    0.6044893860816956,
                    0.6044893860816956,
                    0.6044893860816956,
                    0.6044893860816956,
                    0.6044893860816956,
                    0.6044893860816956,
                    0.6044893860816956,
                    0.6044893860816956,
                    0.6044893860816956,
                    0.6044893860816956,
                    0.6044893860816956,
                    0.6044893860816956,
                    0.6044893860816956,
                    0.6044893860816956,
                    0.6044893860816956,
                    0.6044893860816956,
                    0.6043580770492554,
                    0.6044893860816956,
                    0.6044893860816956,
                    0.6044893860816956,
                    0.6044893860816956,
                    0.6044893860816956,
                    0.6044893860816956,
                    0.6044893860816956,
                    0.6044893860816956
                  ],
                  "yaxis": "y"
                },
                {
                  "name": "Validation",
                  "type": "scatter",
                  "x": [
                    1,
                    2,
                    3,
                    4,
                    5,
                    6,
                    7,
                    8,
                    9,
                    10,
                    11,
                    12,
                    13,
                    14,
                    15,
                    16,
                    17,
                    18,
                    19,
                    20,
                    21,
                    22,
                    23,
                    24,
                    25,
                    26,
                    27,
                    28,
                    29,
                    30,
                    31,
                    32,
                    33,
                    34,
                    35,
                    36,
                    37,
                    38,
                    39,
                    40,
                    41,
                    42,
                    43,
                    44,
                    45,
                    46,
                    47,
                    48,
                    49,
                    50,
                    51,
                    52,
                    53,
                    54,
                    55,
                    56,
                    57,
                    58,
                    59,
                    60,
                    61,
                    62,
                    63,
                    64,
                    65,
                    66,
                    67,
                    68,
                    69,
                    70,
                    71,
                    72,
                    73,
                    74,
                    75,
                    76,
                    77,
                    78,
                    79,
                    80,
                    81,
                    82,
                    83,
                    84,
                    85,
                    86,
                    87,
                    88,
                    89,
                    90,
                    91,
                    92,
                    93,
                    94,
                    95,
                    96,
                    97,
                    98,
                    99,
                    100
                  ],
                  "xaxis": "x2",
                  "y": [
                    0.6165354251861572,
                    0.6165354251861572,
                    0.6165354251861572,
                    0.6165354251861572,
                    0.6165354251861572,
                    0.6165354251861572,
                    0.6165354251861572,
                    0.6165354251861572,
                    0.6165354251861572,
                    0.6165354251861572,
                    0.6165354251861572,
                    0.6165354251861572,
                    0.6165354251861572,
                    0.6165354251861572,
                    0.6165354251861572,
                    0.6165354251861572,
                    0.6165354251861572,
                    0.6165354251861572,
                    0.6165354251861572,
                    0.6165354251861572,
                    0.6165354251861572,
                    0.6165354251861572,
                    0.6165354251861572,
                    0.6165354251861572,
                    0.6165354251861572,
                    0.6165354251861572,
                    0.6165354251861572,
                    0.6165354251861572,
                    0.6165354251861572,
                    0.6165354251861572,
                    0.6165354251861572,
                    0.6165354251861572,
                    0.6165354251861572,
                    0.6165354251861572,
                    0.6165354251861572,
                    0.6165354251861572,
                    0.6165354251861572,
                    0.6165354251861572,
                    0.6165354251861572,
                    0.6165354251861572,
                    0.6165354251861572,
                    0.6165354251861572,
                    0.6165354251861572,
                    0.6165354251861572,
                    0.6165354251861572,
                    0.6165354251861572,
                    0.6165354251861572,
                    0.6165354251861572,
                    0.6165354251861572,
                    0.6165354251861572,
                    0.6165354251861572,
                    0.6165354251861572,
                    0.6165354251861572,
                    0.6165354251861572,
                    0.6165354251861572,
                    0.6165354251861572,
                    0.6165354251861572,
                    0.6165354251861572,
                    0.6165354251861572,
                    0.6165354251861572,
                    0.6165354251861572,
                    0.6165354251861572,
                    0.6165354251861572,
                    0.6165354251861572,
                    0.6165354251861572,
                    0.6165354251861572,
                    0.6165354251861572,
                    0.6165354251861572,
                    0.6165354251861572,
                    0.6165354251861572,
                    0.6165354251861572,
                    0.6165354251861572,
                    0.6165354251861572,
                    0.6165354251861572,
                    0.6165354251861572,
                    0.6165354251861572,
                    0.6165354251861572,
                    0.6165354251861572,
                    0.6165354251861572,
                    0.6165354251861572,
                    0.6165354251861572,
                    0.6165354251861572,
                    0.6165354251861572,
                    0.6165354251861572,
                    0.6165354251861572,
                    0.6165354251861572,
                    0.6165354251861572,
                    0.6165354251861572,
                    0.6165354251861572,
                    0.6165354251861572,
                    0.6165354251861572,
                    0.6165354251861572,
                    0.6165354251861572,
                    0.6165354251861572,
                    0.6165354251861572,
                    0.6165354251861572,
                    0.6165354251861572,
                    0.6165354251861572,
                    0.6165354251861572,
                    0.6165354251861572
                  ],
                  "yaxis": "y2"
                }
              ],
              "layout": {
                "annotations": [
                  {
                    "font": {
                      "size": 16
                    },
                    "showarrow": false,
                    "text": "Training Accuracy",
                    "x": 0.225,
                    "xanchor": "center",
                    "xref": "paper",
                    "y": 1,
                    "yanchor": "bottom",
                    "yref": "paper"
                  },
                  {
                    "font": {
                      "size": 16
                    },
                    "showarrow": false,
                    "text": "Validation Accuracy",
                    "x": 0.775,
                    "xanchor": "center",
                    "xref": "paper",
                    "y": 1,
                    "yanchor": "bottom",
                    "yref": "paper"
                  }
                ],
                "height": 400,
                "template": {
                  "data": {
                    "bar": [
                      {
                        "error_x": {
                          "color": "#2a3f5f"
                        },
                        "error_y": {
                          "color": "#2a3f5f"
                        },
                        "marker": {
                          "line": {
                            "color": "#E5ECF6",
                            "width": 0.5
                          },
                          "pattern": {
                            "fillmode": "overlay",
                            "size": 10,
                            "solidity": 0.2
                          }
                        },
                        "type": "bar"
                      }
                    ],
                    "barpolar": [
                      {
                        "marker": {
                          "line": {
                            "color": "#E5ECF6",
                            "width": 0.5
                          },
                          "pattern": {
                            "fillmode": "overlay",
                            "size": 10,
                            "solidity": 0.2
                          }
                        },
                        "type": "barpolar"
                      }
                    ],
                    "carpet": [
                      {
                        "aaxis": {
                          "endlinecolor": "#2a3f5f",
                          "gridcolor": "white",
                          "linecolor": "white",
                          "minorgridcolor": "white",
                          "startlinecolor": "#2a3f5f"
                        },
                        "baxis": {
                          "endlinecolor": "#2a3f5f",
                          "gridcolor": "white",
                          "linecolor": "white",
                          "minorgridcolor": "white",
                          "startlinecolor": "#2a3f5f"
                        },
                        "type": "carpet"
                      }
                    ],
                    "choropleth": [
                      {
                        "colorbar": {
                          "outlinewidth": 0,
                          "ticks": ""
                        },
                        "type": "choropleth"
                      }
                    ],
                    "contour": [
                      {
                        "colorbar": {
                          "outlinewidth": 0,
                          "ticks": ""
                        },
                        "colorscale": [
                          [
                            0,
                            "#0d0887"
                          ],
                          [
                            0.1111111111111111,
                            "#46039f"
                          ],
                          [
                            0.2222222222222222,
                            "#7201a8"
                          ],
                          [
                            0.3333333333333333,
                            "#9c179e"
                          ],
                          [
                            0.4444444444444444,
                            "#bd3786"
                          ],
                          [
                            0.5555555555555556,
                            "#d8576b"
                          ],
                          [
                            0.6666666666666666,
                            "#ed7953"
                          ],
                          [
                            0.7777777777777778,
                            "#fb9f3a"
                          ],
                          [
                            0.8888888888888888,
                            "#fdca26"
                          ],
                          [
                            1,
                            "#f0f921"
                          ]
                        ],
                        "type": "contour"
                      }
                    ],
                    "contourcarpet": [
                      {
                        "colorbar": {
                          "outlinewidth": 0,
                          "ticks": ""
                        },
                        "type": "contourcarpet"
                      }
                    ],
                    "heatmap": [
                      {
                        "colorbar": {
                          "outlinewidth": 0,
                          "ticks": ""
                        },
                        "colorscale": [
                          [
                            0,
                            "#0d0887"
                          ],
                          [
                            0.1111111111111111,
                            "#46039f"
                          ],
                          [
                            0.2222222222222222,
                            "#7201a8"
                          ],
                          [
                            0.3333333333333333,
                            "#9c179e"
                          ],
                          [
                            0.4444444444444444,
                            "#bd3786"
                          ],
                          [
                            0.5555555555555556,
                            "#d8576b"
                          ],
                          [
                            0.6666666666666666,
                            "#ed7953"
                          ],
                          [
                            0.7777777777777778,
                            "#fb9f3a"
                          ],
                          [
                            0.8888888888888888,
                            "#fdca26"
                          ],
                          [
                            1,
                            "#f0f921"
                          ]
                        ],
                        "type": "heatmap"
                      }
                    ],
                    "heatmapgl": [
                      {
                        "colorbar": {
                          "outlinewidth": 0,
                          "ticks": ""
                        },
                        "colorscale": [
                          [
                            0,
                            "#0d0887"
                          ],
                          [
                            0.1111111111111111,
                            "#46039f"
                          ],
                          [
                            0.2222222222222222,
                            "#7201a8"
                          ],
                          [
                            0.3333333333333333,
                            "#9c179e"
                          ],
                          [
                            0.4444444444444444,
                            "#bd3786"
                          ],
                          [
                            0.5555555555555556,
                            "#d8576b"
                          ],
                          [
                            0.6666666666666666,
                            "#ed7953"
                          ],
                          [
                            0.7777777777777778,
                            "#fb9f3a"
                          ],
                          [
                            0.8888888888888888,
                            "#fdca26"
                          ],
                          [
                            1,
                            "#f0f921"
                          ]
                        ],
                        "type": "heatmapgl"
                      }
                    ],
                    "histogram": [
                      {
                        "marker": {
                          "pattern": {
                            "fillmode": "overlay",
                            "size": 10,
                            "solidity": 0.2
                          }
                        },
                        "type": "histogram"
                      }
                    ],
                    "histogram2d": [
                      {
                        "colorbar": {
                          "outlinewidth": 0,
                          "ticks": ""
                        },
                        "colorscale": [
                          [
                            0,
                            "#0d0887"
                          ],
                          [
                            0.1111111111111111,
                            "#46039f"
                          ],
                          [
                            0.2222222222222222,
                            "#7201a8"
                          ],
                          [
                            0.3333333333333333,
                            "#9c179e"
                          ],
                          [
                            0.4444444444444444,
                            "#bd3786"
                          ],
                          [
                            0.5555555555555556,
                            "#d8576b"
                          ],
                          [
                            0.6666666666666666,
                            "#ed7953"
                          ],
                          [
                            0.7777777777777778,
                            "#fb9f3a"
                          ],
                          [
                            0.8888888888888888,
                            "#fdca26"
                          ],
                          [
                            1,
                            "#f0f921"
                          ]
                        ],
                        "type": "histogram2d"
                      }
                    ],
                    "histogram2dcontour": [
                      {
                        "colorbar": {
                          "outlinewidth": 0,
                          "ticks": ""
                        },
                        "colorscale": [
                          [
                            0,
                            "#0d0887"
                          ],
                          [
                            0.1111111111111111,
                            "#46039f"
                          ],
                          [
                            0.2222222222222222,
                            "#7201a8"
                          ],
                          [
                            0.3333333333333333,
                            "#9c179e"
                          ],
                          [
                            0.4444444444444444,
                            "#bd3786"
                          ],
                          [
                            0.5555555555555556,
                            "#d8576b"
                          ],
                          [
                            0.6666666666666666,
                            "#ed7953"
                          ],
                          [
                            0.7777777777777778,
                            "#fb9f3a"
                          ],
                          [
                            0.8888888888888888,
                            "#fdca26"
                          ],
                          [
                            1,
                            "#f0f921"
                          ]
                        ],
                        "type": "histogram2dcontour"
                      }
                    ],
                    "mesh3d": [
                      {
                        "colorbar": {
                          "outlinewidth": 0,
                          "ticks": ""
                        },
                        "type": "mesh3d"
                      }
                    ],
                    "parcoords": [
                      {
                        "line": {
                          "colorbar": {
                            "outlinewidth": 0,
                            "ticks": ""
                          }
                        },
                        "type": "parcoords"
                      }
                    ],
                    "pie": [
                      {
                        "automargin": true,
                        "type": "pie"
                      }
                    ],
                    "scatter": [
                      {
                        "fillpattern": {
                          "fillmode": "overlay",
                          "size": 10,
                          "solidity": 0.2
                        },
                        "type": "scatter"
                      }
                    ],
                    "scatter3d": [
                      {
                        "line": {
                          "colorbar": {
                            "outlinewidth": 0,
                            "ticks": ""
                          }
                        },
                        "marker": {
                          "colorbar": {
                            "outlinewidth": 0,
                            "ticks": ""
                          }
                        },
                        "type": "scatter3d"
                      }
                    ],
                    "scattercarpet": [
                      {
                        "marker": {
                          "colorbar": {
                            "outlinewidth": 0,
                            "ticks": ""
                          }
                        },
                        "type": "scattercarpet"
                      }
                    ],
                    "scattergeo": [
                      {
                        "marker": {
                          "colorbar": {
                            "outlinewidth": 0,
                            "ticks": ""
                          }
                        },
                        "type": "scattergeo"
                      }
                    ],
                    "scattergl": [
                      {
                        "marker": {
                          "colorbar": {
                            "outlinewidth": 0,
                            "ticks": ""
                          }
                        },
                        "type": "scattergl"
                      }
                    ],
                    "scattermapbox": [
                      {
                        "marker": {
                          "colorbar": {
                            "outlinewidth": 0,
                            "ticks": ""
                          }
                        },
                        "type": "scattermapbox"
                      }
                    ],
                    "scatterpolar": [
                      {
                        "marker": {
                          "colorbar": {
                            "outlinewidth": 0,
                            "ticks": ""
                          }
                        },
                        "type": "scatterpolar"
                      }
                    ],
                    "scatterpolargl": [
                      {
                        "marker": {
                          "colorbar": {
                            "outlinewidth": 0,
                            "ticks": ""
                          }
                        },
                        "type": "scatterpolargl"
                      }
                    ],
                    "scatterternary": [
                      {
                        "marker": {
                          "colorbar": {
                            "outlinewidth": 0,
                            "ticks": ""
                          }
                        },
                        "type": "scatterternary"
                      }
                    ],
                    "surface": [
                      {
                        "colorbar": {
                          "outlinewidth": 0,
                          "ticks": ""
                        },
                        "colorscale": [
                          [
                            0,
                            "#0d0887"
                          ],
                          [
                            0.1111111111111111,
                            "#46039f"
                          ],
                          [
                            0.2222222222222222,
                            "#7201a8"
                          ],
                          [
                            0.3333333333333333,
                            "#9c179e"
                          ],
                          [
                            0.4444444444444444,
                            "#bd3786"
                          ],
                          [
                            0.5555555555555556,
                            "#d8576b"
                          ],
                          [
                            0.6666666666666666,
                            "#ed7953"
                          ],
                          [
                            0.7777777777777778,
                            "#fb9f3a"
                          ],
                          [
                            0.8888888888888888,
                            "#fdca26"
                          ],
                          [
                            1,
                            "#f0f921"
                          ]
                        ],
                        "type": "surface"
                      }
                    ],
                    "table": [
                      {
                        "cells": {
                          "fill": {
                            "color": "#EBF0F8"
                          },
                          "line": {
                            "color": "white"
                          }
                        },
                        "header": {
                          "fill": {
                            "color": "#C8D4E3"
                          },
                          "line": {
                            "color": "white"
                          }
                        },
                        "type": "table"
                      }
                    ]
                  },
                  "layout": {
                    "annotationdefaults": {
                      "arrowcolor": "#2a3f5f",
                      "arrowhead": 0,
                      "arrowwidth": 1
                    },
                    "autotypenumbers": "strict",
                    "coloraxis": {
                      "colorbar": {
                        "outlinewidth": 0,
                        "ticks": ""
                      }
                    },
                    "colorscale": {
                      "diverging": [
                        [
                          0,
                          "#8e0152"
                        ],
                        [
                          0.1,
                          "#c51b7d"
                        ],
                        [
                          0.2,
                          "#de77ae"
                        ],
                        [
                          0.3,
                          "#f1b6da"
                        ],
                        [
                          0.4,
                          "#fde0ef"
                        ],
                        [
                          0.5,
                          "#f7f7f7"
                        ],
                        [
                          0.6,
                          "#e6f5d0"
                        ],
                        [
                          0.7,
                          "#b8e186"
                        ],
                        [
                          0.8,
                          "#7fbc41"
                        ],
                        [
                          0.9,
                          "#4d9221"
                        ],
                        [
                          1,
                          "#276419"
                        ]
                      ],
                      "sequential": [
                        [
                          0,
                          "#0d0887"
                        ],
                        [
                          0.1111111111111111,
                          "#46039f"
                        ],
                        [
                          0.2222222222222222,
                          "#7201a8"
                        ],
                        [
                          0.3333333333333333,
                          "#9c179e"
                        ],
                        [
                          0.4444444444444444,
                          "#bd3786"
                        ],
                        [
                          0.5555555555555556,
                          "#d8576b"
                        ],
                        [
                          0.6666666666666666,
                          "#ed7953"
                        ],
                        [
                          0.7777777777777778,
                          "#fb9f3a"
                        ],
                        [
                          0.8888888888888888,
                          "#fdca26"
                        ],
                        [
                          1,
                          "#f0f921"
                        ]
                      ],
                      "sequentialminus": [
                        [
                          0,
                          "#0d0887"
                        ],
                        [
                          0.1111111111111111,
                          "#46039f"
                        ],
                        [
                          0.2222222222222222,
                          "#7201a8"
                        ],
                        [
                          0.3333333333333333,
                          "#9c179e"
                        ],
                        [
                          0.4444444444444444,
                          "#bd3786"
                        ],
                        [
                          0.5555555555555556,
                          "#d8576b"
                        ],
                        [
                          0.6666666666666666,
                          "#ed7953"
                        ],
                        [
                          0.7777777777777778,
                          "#fb9f3a"
                        ],
                        [
                          0.8888888888888888,
                          "#fdca26"
                        ],
                        [
                          1,
                          "#f0f921"
                        ]
                      ]
                    },
                    "colorway": [
                      "#636efa",
                      "#EF553B",
                      "#00cc96",
                      "#ab63fa",
                      "#FFA15A",
                      "#19d3f3",
                      "#FF6692",
                      "#B6E880",
                      "#FF97FF",
                      "#FECB52"
                    ],
                    "font": {
                      "color": "#2a3f5f"
                    },
                    "geo": {
                      "bgcolor": "white",
                      "lakecolor": "white",
                      "landcolor": "#E5ECF6",
                      "showlakes": true,
                      "showland": true,
                      "subunitcolor": "white"
                    },
                    "hoverlabel": {
                      "align": "left"
                    },
                    "hovermode": "closest",
                    "mapbox": {
                      "style": "light"
                    },
                    "paper_bgcolor": "white",
                    "plot_bgcolor": "#E5ECF6",
                    "polar": {
                      "angularaxis": {
                        "gridcolor": "white",
                        "linecolor": "white",
                        "ticks": ""
                      },
                      "bgcolor": "#E5ECF6",
                      "radialaxis": {
                        "gridcolor": "white",
                        "linecolor": "white",
                        "ticks": ""
                      }
                    },
                    "scene": {
                      "xaxis": {
                        "backgroundcolor": "#E5ECF6",
                        "gridcolor": "white",
                        "gridwidth": 2,
                        "linecolor": "white",
                        "showbackground": true,
                        "ticks": "",
                        "zerolinecolor": "white"
                      },
                      "yaxis": {
                        "backgroundcolor": "#E5ECF6",
                        "gridcolor": "white",
                        "gridwidth": 2,
                        "linecolor": "white",
                        "showbackground": true,
                        "ticks": "",
                        "zerolinecolor": "white"
                      },
                      "zaxis": {
                        "backgroundcolor": "#E5ECF6",
                        "gridcolor": "white",
                        "gridwidth": 2,
                        "linecolor": "white",
                        "showbackground": true,
                        "ticks": "",
                        "zerolinecolor": "white"
                      }
                    },
                    "shapedefaults": {
                      "line": {
                        "color": "#2a3f5f"
                      }
                    },
                    "ternary": {
                      "aaxis": {
                        "gridcolor": "white",
                        "linecolor": "white",
                        "ticks": ""
                      },
                      "baxis": {
                        "gridcolor": "white",
                        "linecolor": "white",
                        "ticks": ""
                      },
                      "bgcolor": "#E5ECF6",
                      "caxis": {
                        "gridcolor": "white",
                        "linecolor": "white",
                        "ticks": ""
                      }
                    },
                    "title": {
                      "x": 0.05
                    },
                    "xaxis": {
                      "automargin": true,
                      "gridcolor": "white",
                      "linecolor": "white",
                      "ticks": "",
                      "title": {
                        "standoff": 15
                      },
                      "zerolinecolor": "white",
                      "zerolinewidth": 2
                    },
                    "yaxis": {
                      "automargin": true,
                      "gridcolor": "white",
                      "linecolor": "white",
                      "ticks": "",
                      "title": {
                        "standoff": 15
                      },
                      "zerolinecolor": "white",
                      "zerolinewidth": 2
                    }
                  }
                },
                "title": {
                  "text": "Model Accuracy"
                },
                "width": 800,
                "xaxis": {
                  "anchor": "y",
                  "domain": [
                    0,
                    0.45
                  ]
                },
                "xaxis2": {
                  "anchor": "y2",
                  "domain": [
                    0.55,
                    1
                  ]
                },
                "yaxis": {
                  "anchor": "x",
                  "domain": [
                    0,
                    1
                  ]
                },
                "yaxis2": {
                  "anchor": "x2",
                  "domain": [
                    0,
                    1
                  ]
                }
              }
            }
          },
          "metadata": {},
          "output_type": "display_data"
        }
      ],
      "source": [
        "# Model Accuracy graph\n",
        "fig = make_subplots(rows=1, cols=2, subplot_titles=('Training Accuracy', 'Validation Accuracy'))\n",
        "\n",
        "fig.add_trace(go.Scatter(x=list(range(1, len(history.history['accuracy'])+1)), y=history.history['accuracy'], name='Training'), row=1, col=1)\n",
        "fig.add_trace(go.Scatter(x=list(range(1, len(history.history['val_accuracy'])+1)), y=history.history['val_accuracy'], name='Validation'), row=1, col=2)\n",
        "\n",
        "fig.update_layout(height=400, width=800, title_text=\"Model Accuracy\")\n",
        "fig.show()"
      ]
    },
    {
      "cell_type": "code",
      "execution_count": 147,
      "metadata": {},
      "outputs": [
        {
          "name": "stdout",
          "output_type": "stream",
          "text": [
            "17/17 [==============================] - 0s 6ms/step - loss: 1.0659 - accuracy: 0.6165\n",
            "Test loss: 1.0658626556396484\n",
            "Test accuracy: 0.6165354251861572\n"
          ]
        }
      ],
      "source": [
        "# Evaluate the model on the testing data\n",
        "loss, accuracy = model.evaluate(x_test, y_test, batch_size=150)\n",
        "print('Test loss:', loss)\n",
        "print('Test accuracy:', accuracy)"
      ]
    },
    {
      "cell_type": "code",
      "execution_count": 149,
      "metadata": {},
      "outputs": [
        {
          "name": "stdout",
          "output_type": "stream",
          "text": [
            "80/80 [==============================] - 0s 3ms/step\n",
            "              precision    recall  f1-score   support\n",
            "\n",
            "           0       0.00      0.00      0.00       186\n",
            "           1       0.00      0.00      0.00       337\n",
            "           2       0.00      0.00      0.00       451\n",
            "           3       0.62      1.00      0.76      1566\n",
            "\n",
            "    accuracy                           0.62      2540\n",
            "   macro avg       0.15      0.25      0.19      2540\n",
            "weighted avg       0.38      0.62      0.47      2540\n",
            "\n"
          ]
        }
      ],
      "source": [
        "# predict target values on the test data\n",
        "preds = model.predict(x_test)\n",
        "\n",
        "# convert the predicted values to the original labels\n",
        "preds = np.argmax(preds, axis=1)\n",
        "\n",
        "# convert the test labels to the original labels\n",
        "y_test = np.argmax(y_test, axis=1)\n",
        "\n",
        "# print the classification report\n",
        "print(classification_report(y_test, preds))"
      ]
    },
    {
      "cell_type": "code",
      "execution_count": 150,
      "metadata": {},
      "outputs": [
        {
          "data": {
            "image/png": "[encoded data removed]",
            "text/plain": [
              "<Figure size 400x400 with 2 Axes>"
            ]
          },
          "metadata": {},
          "output_type": "display_data"
        }
      ],
      "source": [
        "# plot the confusion matrix\n",
        "cm = confusion_matrix(y_test, preds)\n",
        "disp = ConfusionMatrixDisplay(confusion_matrix=cm)\n",
        "\n",
        "disp.plot(cmap=plt.cm.Blues)\n",
        "disp.figure_.set_size_inches(4,4)\n",
        "plt.xticks(rotation=50)\n",
        "plt.show()"
      ]
    },
    {
      "cell_type": "markdown",
      "metadata": {
        "id": "nhf8ohaCUQys"
      },
      "source": [
        "**MLP**"
      ]
    },
    {
      "cell_type": "code",
      "execution_count": 151,
      "metadata": {
        "id": "SYOJr6_3UWXf"
      },
      "outputs": [],
      "source": [
        "from sklearn.neural_network import MLPRegressor"
      ]
    },
    {
      "cell_type": "code",
      "execution_count": 152,
      "metadata": {
        "colab": {
          "base_uri": "https://localhost:8080/"
        },
        "id": "ATUA2NUxUXU-",
        "outputId": "4a75135a-1044-4010-c796-23d1cb81a63d"
      },
      "outputs": [
        {
          "data": {
            "text/html": [
              "<style>#sk-container-id-1 {color: black;background-color: white;}#sk-container-id-1 pre{padding: 0;}#sk-container-id-1 div.sk-toggleable {background-color: white;}#sk-container-id-1 label.sk-toggleable__label {cursor: pointer;display: block;width: 100%;margin-bottom: 0;padding: 0.3em;box-sizing: border-box;text-align: center;}#sk-container-id-1 label.sk-toggleable__label-arrow:before {content: \"▸\";float: left;margin-right: 0.25em;color: #696969;}#sk-container-id-1 label.sk-toggleable__label-arrow:hover:before {color: black;}#sk-container-id-1 div.sk-estimator:hover label.sk-toggleable__label-arrow:before {color: black;}#sk-container-id-1 div.sk-toggleable__content {max-height: 0;max-width: 0;overflow: hidden;text-align: left;background-color: #f0f8ff;}#sk-container-id-1 div.sk-toggleable__content pre {margin: 0.2em;color: black;border-radius: 0.25em;background-color: #f0f8ff;}#sk-container-id-1 input.sk-toggleable__control:checked~div.sk-toggleable__content {max-height: 200px;max-width: 100%;overflow: auto;}#sk-container-id-1 input.sk-toggleable__control:checked~label.sk-toggleable__label-arrow:before {content: \"▾\";}#sk-container-id-1 div.sk-estimator input.sk-toggleable__control:checked~label.sk-toggleable__label {background-color: #d4ebff;}#sk-container-id-1 div.sk-label input.sk-toggleable__control:checked~label.sk-toggleable__label {background-color: #d4ebff;}#sk-container-id-1 input.sk-hidden--visually {border: 0;clip: rect(1px 1px 1px 1px);clip: rect(1px, 1px, 1px, 1px);height: 1px;margin: -1px;overflow: hidden;padding: 0;position: absolute;width: 1px;}#sk-container-id-1 div.sk-estimator {font-family: monospace;background-color: #f0f8ff;border: 1px dotted black;border-radius: 0.25em;box-sizing: border-box;margin-bottom: 0.5em;}#sk-container-id-1 div.sk-estimator:hover {background-color: #d4ebff;}#sk-container-id-1 div.sk-parallel-item::after {content: \"\";width: 100%;border-bottom: 1px solid gray;flex-grow: 1;}#sk-container-id-1 div.sk-label:hover label.sk-toggleable__label {background-color: #d4ebff;}#sk-container-id-1 div.sk-serial::before {content: \"\";position: absolute;border-left: 1px solid gray;box-sizing: border-box;top: 0;bottom: 0;left: 50%;z-index: 0;}#sk-container-id-1 div.sk-serial {display: flex;flex-direction: column;align-items: center;background-color: white;padding-right: 0.2em;padding-left: 0.2em;position: relative;}#sk-container-id-1 div.sk-item {position: relative;z-index: 1;}#sk-container-id-1 div.sk-parallel {display: flex;align-items: stretch;justify-content: center;background-color: white;position: relative;}#sk-container-id-1 div.sk-item::before, #sk-container-id-1 div.sk-parallel-item::before {content: \"\";position: absolute;border-left: 1px solid gray;box-sizing: border-box;top: 0;bottom: 0;left: 50%;z-index: -1;}#sk-container-id-1 div.sk-parallel-item {display: flex;flex-direction: column;z-index: 1;position: relative;background-color: white;}#sk-container-id-1 div.sk-parallel-item:first-child::after {align-self: flex-end;width: 50%;}#sk-container-id-1 div.sk-parallel-item:last-child::after {align-self: flex-start;width: 50%;}#sk-container-id-1 div.sk-parallel-item:only-child::after {width: 0;}#sk-container-id-1 div.sk-dashed-wrapped {border: 1px dashed gray;margin: 0 0.4em 0.5em 0.4em;box-sizing: border-box;padding-bottom: 0.4em;background-color: white;}#sk-container-id-1 div.sk-label label {font-family: monospace;font-weight: bold;display: inline-block;line-height: 1.2em;}#sk-container-id-1 div.sk-label-container {text-align: center;}#sk-container-id-1 div.sk-container {/* jupyter's `normalize.less` sets `[hidden] { display: none; }` but bootstrap.min.css set `[hidden] { display: none !important; }` so we also need the `!important` here to be able to override the default hidden behavior on the sphinx rendered scikit-learn.org. See: https://github.com/scikit-learn/scikit-learn/issues/21755 */display: inline-block !important;position: relative;}#sk-container-id-1 div.sk-text-repr-fallback {display: none;}</style><div id=\"sk-container-id-1\" class=\"sk-top-container\"><div class=\"sk-text-repr-fallback\"><pre>MLPRegressor(activation=&#x27;tanh&#x27;,\n",
              "             hidden_layer_sizes=(100, 100, 100, 100, 100, 100, 100, 100, 8),\n",
              "             max_iter=500, random_state=1)</pre><b>In a Jupyter environment, please rerun this cell to show the HTML representation or trust the notebook. <br />On GitHub, the HTML representation is unable to render, please try loading this page with nbviewer.org.</b></div><div class=\"sk-container\" hidden><div class=\"sk-item\"><div class=\"sk-estimator sk-toggleable\"><input class=\"sk-toggleable__control sk-hidden--visually\" id=\"sk-estimator-id-1\" type=\"checkbox\" checked><label for=\"sk-estimator-id-1\" class=\"sk-toggleable__label sk-toggleable__label-arrow\">MLPRegressor</label><div class=\"sk-toggleable__content\"><pre>MLPRegressor(activation=&#x27;tanh&#x27;,\n",
              "             hidden_layer_sizes=(100, 100, 100, 100, 100, 100, 100, 100, 8),\n",
              "             max_iter=500, random_state=1)</pre></div></div></div></div></div>"
            ],
            "text/plain": [
              "MLPRegressor(activation='tanh',\n",
              "             hidden_layer_sizes=(100, 100, 100, 100, 100, 100, 100, 100, 8),\n",
              "             max_iter=500, random_state=1)"
            ]
          },
          "execution_count": 152,
          "metadata": {},
          "output_type": "execute_result"
        }
      ],
      "source": [
        "nn = MLPRegressor(hidden_layer_sizes=(100,100,100,100,100,100,100,100,8), random_state=1, max_iter=500, activation='tanh')\n",
        "nn.fit(x_train, y_train)"
      ]
    },
    {
      "cell_type": "code",
      "execution_count": 178,
      "metadata": {},
      "outputs": [],
      "source": [
        "mlp_y_pred_probs = nn.predict(x_test)\n",
        "mlp_y_pred_labels = np.argmax(mlp_y_pred_probs, axis=1)"
      ]
    },
    {
      "cell_type": "code",
      "execution_count": 186,
      "metadata": {},
      "outputs": [
        {
          "name": "stdout",
          "output_type": "stream",
          "text": [
            "              precision    recall  f1-score   support\n",
            "\n",
            "           0       0.12      0.05      0.07       186\n",
            "           1       0.15      0.09      0.12       337\n",
            "           2       0.21      0.06      0.09       451\n",
            "           3       0.63      0.86      0.73      1566\n",
            "\n",
            "    accuracy                           0.56      2540\n",
            "   macro avg       0.28      0.26      0.25      2540\n",
            "weighted avg       0.45      0.56      0.48      2540\n",
            "\n"
          ]
        }
      ],
      "source": [
        "print(classification_report(y_test, mlp_y_pred_labels))"
      ]
    },
    {
      "cell_type": "code",
      "execution_count": 187,
      "metadata": {},
      "outputs": [
        {
          "data": {
            "image/png": "[encoded data removed]",
            "text/plain": [
              "<Figure size 400x400 with 2 Axes>"
            ]
          },
          "metadata": {},
          "output_type": "display_data"
        }
      ],
      "source": [
        "# plot the confusion matrix\n",
        "cm = confusion_matrix(y_test, mlp_y_pred_labels)\n",
        "disp = ConfusionMatrixDisplay(confusion_matrix=cm)\n",
        "\n",
        "disp.plot(cmap=plt.cm.Blues)\n",
        "disp.figure_.set_size_inches(4,4)\n",
        "plt.xticks(rotation=50)\n",
        "plt.show()"
      ]
    },
    {
      "cell_type": "markdown",
      "metadata": {
        "id": "ku9z0Rx2VEBu"
      },
      "source": [
        "**ExtraTrees**"
      ]
    },
    {
      "cell_type": "code",
      "execution_count": 188,
      "metadata": {
        "id": "H35fyP9_VPKt"
      },
      "outputs": [],
      "source": [
        "from sklearn.ensemble import ExtraTreesRegressor as ET"
      ]
    },
    {
      "cell_type": "code",
      "execution_count": 189,
      "metadata": {
        "colab": {
          "base_uri": "https://localhost:8080/"
        },
        "id": "OnBPHo7BN4Fg",
        "outputId": "460fa24b-9dab-42fe-c4ce-eb8e89d0d30b"
      },
      "outputs": [
        {
          "data": {
            "text/html": [
              "<style>#sk-container-id-2 {color: black;background-color: white;}#sk-container-id-2 pre{padding: 0;}#sk-container-id-2 div.sk-toggleable {background-color: white;}#sk-container-id-2 label.sk-toggleable__label {cursor: pointer;display: block;width: 100%;margin-bottom: 0;padding: 0.3em;box-sizing: border-box;text-align: center;}#sk-container-id-2 label.sk-toggleable__label-arrow:before {content: \"▸\";float: left;margin-right: 0.25em;color: #696969;}#sk-container-id-2 label.sk-toggleable__label-arrow:hover:before {color: black;}#sk-container-id-2 div.sk-estimator:hover label.sk-toggleable__label-arrow:before {color: black;}#sk-container-id-2 div.sk-toggleable__content {max-height: 0;max-width: 0;overflow: hidden;text-align: left;background-color: #f0f8ff;}#sk-container-id-2 div.sk-toggleable__content pre {margin: 0.2em;color: black;border-radius: 0.25em;background-color: #f0f8ff;}#sk-container-id-2 input.sk-toggleable__control:checked~div.sk-toggleable__content {max-height: 200px;max-width: 100%;overflow: auto;}#sk-container-id-2 input.sk-toggleable__control:checked~label.sk-toggleable__label-arrow:before {content: \"▾\";}#sk-container-id-2 div.sk-estimator input.sk-toggleable__control:checked~label.sk-toggleable__label {background-color: #d4ebff;}#sk-container-id-2 div.sk-label input.sk-toggleable__control:checked~label.sk-toggleable__label {background-color: #d4ebff;}#sk-container-id-2 input.sk-hidden--visually {border: 0;clip: rect(1px 1px 1px 1px);clip: rect(1px, 1px, 1px, 1px);height: 1px;margin: -1px;overflow: hidden;padding: 0;position: absolute;width: 1px;}#sk-container-id-2 div.sk-estimator {font-family: monospace;background-color: #f0f8ff;border: 1px dotted black;border-radius: 0.25em;box-sizing: border-box;margin-bottom: 0.5em;}#sk-container-id-2 div.sk-estimator:hover {background-color: #d4ebff;}#sk-container-id-2 div.sk-parallel-item::after {content: \"\";width: 100%;border-bottom: 1px solid gray;flex-grow: 1;}#sk-container-id-2 div.sk-label:hover label.sk-toggleable__label {background-color: #d4ebff;}#sk-container-id-2 div.sk-serial::before {content: \"\";position: absolute;border-left: 1px solid gray;box-sizing: border-box;top: 0;bottom: 0;left: 50%;z-index: 0;}#sk-container-id-2 div.sk-serial {display: flex;flex-direction: column;align-items: center;background-color: white;padding-right: 0.2em;padding-left: 0.2em;position: relative;}#sk-container-id-2 div.sk-item {position: relative;z-index: 1;}#sk-container-id-2 div.sk-parallel {display: flex;align-items: stretch;justify-content: center;background-color: white;position: relative;}#sk-container-id-2 div.sk-item::before, #sk-container-id-2 div.sk-parallel-item::before {content: \"\";position: absolute;border-left: 1px solid gray;box-sizing: border-box;top: 0;bottom: 0;left: 50%;z-index: -1;}#sk-container-id-2 div.sk-parallel-item {display: flex;flex-direction: column;z-index: 1;position: relative;background-color: white;}#sk-container-id-2 div.sk-parallel-item:first-child::after {align-self: flex-end;width: 50%;}#sk-container-id-2 div.sk-parallel-item:last-child::after {align-self: flex-start;width: 50%;}#sk-container-id-2 div.sk-parallel-item:only-child::after {width: 0;}#sk-container-id-2 div.sk-dashed-wrapped {border: 1px dashed gray;margin: 0 0.4em 0.5em 0.4em;box-sizing: border-box;padding-bottom: 0.4em;background-color: white;}#sk-container-id-2 div.sk-label label {font-family: monospace;font-weight: bold;display: inline-block;line-height: 1.2em;}#sk-container-id-2 div.sk-label-container {text-align: center;}#sk-container-id-2 div.sk-container {/* jupyter's `normalize.less` sets `[hidden] { display: none; }` but bootstrap.min.css set `[hidden] { display: none !important; }` so we also need the `!important` here to be able to override the default hidden behavior on the sphinx rendered scikit-learn.org. See: https://github.com/scikit-learn/scikit-learn/issues/21755 */display: inline-block !important;position: relative;}#sk-container-id-2 div.sk-text-repr-fallback {display: none;}</style><div id=\"sk-container-id-2\" class=\"sk-top-container\"><div class=\"sk-text-repr-fallback\"><pre>ExtraTreesRegressor(min_samples_split=10, n_estimators=250)</pre><b>In a Jupyter environment, please rerun this cell to show the HTML representation or trust the notebook. <br />On GitHub, the HTML representation is unable to render, please try loading this page with nbviewer.org.</b></div><div class=\"sk-container\" hidden><div class=\"sk-item\"><div class=\"sk-estimator sk-toggleable\"><input class=\"sk-toggleable__control sk-hidden--visually\" id=\"sk-estimator-id-2\" type=\"checkbox\" checked><label for=\"sk-estimator-id-2\" class=\"sk-toggleable__label sk-toggleable__label-arrow\">ExtraTreesRegressor</label><div class=\"sk-toggleable__content\"><pre>ExtraTreesRegressor(min_samples_split=10, n_estimators=250)</pre></div></div></div></div></div>"
            ],
            "text/plain": [
              "ExtraTreesRegressor(min_samples_split=10, n_estimators=250)"
            ]
          },
          "execution_count": 189,
          "metadata": {},
          "output_type": "execute_result"
        }
      ],
      "source": [
        "et = ET(n_estimators=250, min_samples_split=10)\n",
        "et.fit(x_train, y_train)"
      ]
    },
    {
      "cell_type": "code",
      "execution_count": 193,
      "metadata": {
        "colab": {
          "base_uri": "https://localhost:8080/"
        },
        "id": "NXUYf9KOOlD3",
        "outputId": "53a24b6b-8532-42af-c4bd-7da0a6f94044"
      },
      "outputs": [],
      "source": [
        "et_pred_test = et.predict(x_test)\n",
        "et_pred_test = np.argmax(et_pred_test, axis=1)"
      ]
    },
    {
      "cell_type": "code",
      "execution_count": 194,
      "metadata": {},
      "outputs": [
        {
          "name": "stdout",
          "output_type": "stream",
          "text": [
            "              precision    recall  f1-score   support\n",
            "\n",
            "           0       0.48      0.11      0.18       186\n",
            "           1       0.34      0.11      0.16       337\n",
            "           2       0.35      0.06      0.10       451\n",
            "           3       0.65      0.96      0.77      1566\n",
            "\n",
            "    accuracy                           0.62      2540\n",
            "   macro avg       0.45      0.31      0.30      2540\n",
            "weighted avg       0.54      0.62      0.53      2540\n",
            "\n"
          ]
        }
      ],
      "source": [
        "print(classification_report(y_test, et_pred_test))"
      ]
    },
    {
      "cell_type": "code",
      "execution_count": 195,
      "metadata": {},
      "outputs": [
        {
          "data": {
            "image/png": "[encoded data removed]",
            "text/plain": [
              "<Figure size 400x400 with 2 Axes>"
            ]
          },
          "metadata": {},
          "output_type": "display_data"
        }
      ],
      "source": [
        "# plot the confusion matrix\n",
        "cm = confusion_matrix(y_test, et_pred_test)\n",
        "disp = ConfusionMatrixDisplay(confusion_matrix=cm)\n",
        "\n",
        "disp.plot(cmap=plt.cm.Blues)\n",
        "disp.figure_.set_size_inches(4,4)\n",
        "plt.xticks(rotation=50)\n",
        "plt.show()"
      ]
    },
    {
      "cell_type": "markdown",
      "metadata": {
        "id": "JmDw3rzoVhml"
      },
      "source": [
        "**ElasticNet**"
      ]
    },
    {
      "cell_type": "code",
      "execution_count": 233,
      "metadata": {
        "id": "zinbKJI2Vq12"
      },
      "outputs": [],
      "source": [
        "from sklearn.linear_model import ElasticNet"
      ]
    },
    {
      "cell_type": "code",
      "execution_count": 247,
      "metadata": {},
      "outputs": [],
      "source": [
        "mlp_y_pred_labels_temp = mlp_y_pred_labels.reshape(2540)"
      ]
    },
    {
      "cell_type": "code",
      "execution_count": 249,
      "metadata": {
        "colab": {
          "base_uri": "https://localhost:8080/"
        },
        "id": "iUoW6ndPVh_m",
        "outputId": "4787895b-cf51-43ca-de59-b8e0675d63b2"
      },
      "outputs": [
        {
          "data": {
            "text/html": [
              "<style>#sk-container-id-4 {color: black;background-color: white;}#sk-container-id-4 pre{padding: 0;}#sk-container-id-4 div.sk-toggleable {background-color: white;}#sk-container-id-4 label.sk-toggleable__label {cursor: pointer;display: block;width: 100%;margin-bottom: 0;padding: 0.3em;box-sizing: border-box;text-align: center;}#sk-container-id-4 label.sk-toggleable__label-arrow:before {content: \"▸\";float: left;margin-right: 0.25em;color: #696969;}#sk-container-id-4 label.sk-toggleable__label-arrow:hover:before {color: black;}#sk-container-id-4 div.sk-estimator:hover label.sk-toggleable__label-arrow:before {color: black;}#sk-container-id-4 div.sk-toggleable__content {max-height: 0;max-width: 0;overflow: hidden;text-align: left;background-color: #f0f8ff;}#sk-container-id-4 div.sk-toggleable__content pre {margin: 0.2em;color: black;border-radius: 0.25em;background-color: #f0f8ff;}#sk-container-id-4 input.sk-toggleable__control:checked~div.sk-toggleable__content {max-height: 200px;max-width: 100%;overflow: auto;}#sk-container-id-4 input.sk-toggleable__control:checked~label.sk-toggleable__label-arrow:before {content: \"▾\";}#sk-container-id-4 div.sk-estimator input.sk-toggleable__control:checked~label.sk-toggleable__label {background-color: #d4ebff;}#sk-container-id-4 div.sk-label input.sk-toggleable__control:checked~label.sk-toggleable__label {background-color: #d4ebff;}#sk-container-id-4 input.sk-hidden--visually {border: 0;clip: rect(1px 1px 1px 1px);clip: rect(1px, 1px, 1px, 1px);height: 1px;margin: -1px;overflow: hidden;padding: 0;position: absolute;width: 1px;}#sk-container-id-4 div.sk-estimator {font-family: monospace;background-color: #f0f8ff;border: 1px dotted black;border-radius: 0.25em;box-sizing: border-box;margin-bottom: 0.5em;}#sk-container-id-4 div.sk-estimator:hover {background-color: #d4ebff;}#sk-container-id-4 div.sk-parallel-item::after {content: \"\";width: 100%;border-bottom: 1px solid gray;flex-grow: 1;}#sk-container-id-4 div.sk-label:hover label.sk-toggleable__label {background-color: #d4ebff;}#sk-container-id-4 div.sk-serial::before {content: \"\";position: absolute;border-left: 1px solid gray;box-sizing: border-box;top: 0;bottom: 0;left: 50%;z-index: 0;}#sk-container-id-4 div.sk-serial {display: flex;flex-direction: column;align-items: center;background-color: white;padding-right: 0.2em;padding-left: 0.2em;position: relative;}#sk-container-id-4 div.sk-item {position: relative;z-index: 1;}#sk-container-id-4 div.sk-parallel {display: flex;align-items: stretch;justify-content: center;background-color: white;position: relative;}#sk-container-id-4 div.sk-item::before, #sk-container-id-4 div.sk-parallel-item::before {content: \"\";position: absolute;border-left: 1px solid gray;box-sizing: border-box;top: 0;bottom: 0;left: 50%;z-index: -1;}#sk-container-id-4 div.sk-parallel-item {display: flex;flex-direction: column;z-index: 1;position: relative;background-color: white;}#sk-container-id-4 div.sk-parallel-item:first-child::after {align-self: flex-end;width: 50%;}#sk-container-id-4 div.sk-parallel-item:last-child::after {align-self: flex-start;width: 50%;}#sk-container-id-4 div.sk-parallel-item:only-child::after {width: 0;}#sk-container-id-4 div.sk-dashed-wrapped {border: 1px dashed gray;margin: 0 0.4em 0.5em 0.4em;box-sizing: border-box;padding-bottom: 0.4em;background-color: white;}#sk-container-id-4 div.sk-label label {font-family: monospace;font-weight: bold;display: inline-block;line-height: 1.2em;}#sk-container-id-4 div.sk-label-container {text-align: center;}#sk-container-id-4 div.sk-container {/* jupyter's `normalize.less` sets `[hidden] { display: none; }` but bootstrap.min.css set `[hidden] { display: none !important; }` so we also need the `!important` here to be able to override the default hidden behavior on the sphinx rendered scikit-learn.org. See: https://github.com/scikit-learn/scikit-learn/issues/21755 */display: inline-block !important;position: relative;}#sk-container-id-4 div.sk-text-repr-fallback {display: none;}</style><div id=\"sk-container-id-4\" class=\"sk-top-container\"><div class=\"sk-text-repr-fallback\"><pre>ElasticNet(alpha=0.01, fit_intercept=False)</pre><b>In a Jupyter environment, please rerun this cell to show the HTML representation or trust the notebook. <br />On GitHub, the HTML representation is unable to render, please try loading this page with nbviewer.org.</b></div><div class=\"sk-container\" hidden><div class=\"sk-item\"><div class=\"sk-estimator sk-toggleable\"><input class=\"sk-toggleable__control sk-hidden--visually\" id=\"sk-estimator-id-4\" type=\"checkbox\" checked><label for=\"sk-estimator-id-4\" class=\"sk-toggleable__label sk-toggleable__label-arrow\">ElasticNet</label><div class=\"sk-toggleable__content\"><pre>ElasticNet(alpha=0.01, fit_intercept=False)</pre></div></div></div></div></div>"
            ],
            "text/plain": [
              "ElasticNet(alpha=0.01, fit_intercept=False)"
            ]
          },
          "execution_count": 249,
          "metadata": {},
          "output_type": "execute_result"
        }
      ],
      "source": [
        "# Blending\n",
        "ensemble = ElasticNet(alpha=0.01, l1_ratio=0.5, fit_intercept=False)\n",
        "ensemble.fit(np.vstack((et_pred_test, mlp_y_pred_labels_temp)).T, y_test)"
      ]
    },
    {
      "cell_type": "code",
      "execution_count": 286,
      "metadata": {},
      "outputs": [],
      "source": [
        "ensemble_pred = ensemble.predict(np.vstack((et_pred_test, mlp_y_pred_labels_temp)).T)"
      ]
    },
    {
      "cell_type": "code",
      "execution_count": 294,
      "metadata": {},
      "outputs": [],
      "source": [
        "# define a custom function to distribute result into 4 classes\n",
        "def distribute(numbers):\n",
        "    min_num = min(numbers)\n",
        "    max_num = max(numbers)\n",
        "    diff = (max_num - min_num) / 4\n",
        "    labels = []\n",
        "    for n in numbers:\n",
        "        if n < min_num + diff:\n",
        "            labels.append(0)\n",
        "        elif n < min_num + 2 * diff:\n",
        "            labels.append(1)\n",
        "        elif n < min_num + 3 * diff:\n",
        "            labels.append(2)\n",
        "        else:\n",
        "            labels.append(3)\n",
        "    return labels\n",
        "\n",
        "labels = distribute(ensemble_pred)\n"
      ]
    },
    {
      "cell_type": "code",
      "execution_count": 296,
      "metadata": {},
      "outputs": [
        {
          "data": {
            "text/plain": [
              "(array([0, 1, 2, 3]), array([  42,  105,   74, 2319], dtype=int64))"
            ]
          },
          "execution_count": 296,
          "metadata": {},
          "output_type": "execute_result"
        }
      ],
      "source": [
        "np.unique(labels, return_counts=True)"
      ]
    },
    {
      "cell_type": "code",
      "execution_count": 297,
      "metadata": {},
      "outputs": [
        {
          "name": "stdout",
          "output_type": "stream",
          "text": [
            "              precision    recall  f1-score   support\n",
            "\n",
            "           0       0.48      0.11      0.18       186\n",
            "           1       0.34      0.11      0.16       337\n",
            "           2       0.35      0.06      0.10       451\n",
            "           3       0.65      0.96      0.77      1566\n",
            "\n",
            "    accuracy                           0.62      2540\n",
            "   macro avg       0.45      0.31      0.30      2540\n",
            "weighted avg       0.54      0.62      0.53      2540\n",
            "\n"
          ]
        }
      ],
      "source": [
        "print(classification_report(y_test, labels))"
      ]
    },
    {
      "cell_type": "code",
      "execution_count": 298,
      "metadata": {},
      "outputs": [
        {
          "data": {
            "image/png": "[encoded data removed]",
            "text/plain": [
              "<Figure size 400x400 with 2 Axes>"
            ]
          },
          "metadata": {},
          "output_type": "display_data"
        }
      ],
      "source": [
        "# plot the confusion matrix\n",
        "ensemble_cm = confusion_matrix(y_test, labels)\n",
        "ensemble_disp = ConfusionMatrixDisplay(confusion_matrix=ensemble_cm)\n",
        "\n",
        "ensemble_disp.plot(cmap=plt.cm.Blues)\n",
        "ensemble_disp.figure_.set_size_inches(4,4)\n",
        "plt.xticks(rotation=50)\n",
        "plt.show()"
      ]
    }
  ],
  "metadata": {
    "colab": {
      "provenance": []
    },
    "kernelspec": {
      "display_name": "Python 3",
      "name": "python3"
    },
    "language_info": {
      "codemirror_mode": {
        "name": "ipython",
        "version": 3
      },
      "file_extension": ".py",
      "mimetype": "text/x-python",
      "name": "python",
      "nbconvert_exporter": "python",
      "pygments_lexer": "ipython3",
      "version": "3.10.9"
    }
  },
  "nbformat": 4,
  "nbformat_minor": 0
}
