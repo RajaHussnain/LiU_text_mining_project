{
  "nbformat": 4,
  "nbformat_minor": 0,
  "metadata": {
    "colab": {
      "provenance": []
    },
    "kernelspec": {
      "name": "python3",
      "display_name": "Python 3"
    },
    "language_info": {
      "name": "python"
    }
  },
  "cells": [
    {
      "cell_type": "code",
      "source": [
        "import pandas as pd\n",
        "import numpy as np\n",
        "import matplotlib.pyplot as plt\n",
        "from bs4 import BeautifulSoup\n",
        "from nltk.stem.porter import *\n",
        "import re\n",
        "from sklearn.feature_extraction import text"
      ],
      "metadata": {
        "id": "vnqoBdWFTqtu"
      },
      "execution_count": 1,
      "outputs": []
    },
    {
      "cell_type": "code",
      "source": [
        "training_data = pd.read_csv('train.csv', index_col = [0])"
      ],
      "metadata": {
        "id": "cHWvYAXsTtNe"
      },
      "execution_count": 5,
      "outputs": []
    },
    {
      "cell_type": "code",
      "source": [
        "test_data = pd.read_csv('test.csv', index_col = [0])"
      ],
      "metadata": {
        "id": "ck5eZ1oNTwSF"
      },
      "execution_count": 2,
      "outputs": []
    },
    {
      "cell_type": "code",
      "source": [
        "training_data.product_description = training_data.product_description.fillna('')\n",
        "test_data.product_description = test_data.product_description.fillna('')"
      ],
      "metadata": {
        "id": "7myYoGxATxOO"
      },
      "execution_count": 6,
      "outputs": []
    },
    {
      "cell_type": "markdown",
      "source": [
        "Preprocessing"
      ],
      "metadata": {
        "id": "XL1t6I9XT3FO"
      }
    },
    {
      "cell_type": "code",
      "source": [
        "# stop word removal\n",
        "stemmer = PorterStemmer()\n",
        "sw=[]\n",
        "ML_STOP_WORDS = ['http','www','img','border','color','style','padding','table','font','inch','width','height']\n",
        "ML_STOP_WORDS += list(text.ENGLISH_STOP_WORDS)\n",
        "for stw in ML_STOP_WORDS:\n",
        "    sw.append(\"z\"+str(stw))\n",
        "ML_STOP_WORDS += sw\n",
        "for i in range(len(ML_STOP_WORDS)):\n",
        "    ML_STOP_WORDS[i]=stemmer.stem(ML_STOP_WORDS[i])"
      ],
      "metadata": {
        "id": "7quO1NSXTztZ"
      },
      "execution_count": 3,
      "outputs": []
    },
    {
      "cell_type": "code",
      "source": [
        "# declarations\n",
        "def ML_TEXT_CLEAN(f2,f3):\n",
        "    if len(f2)<3:\n",
        "        f2=\"feature2null\"\n",
        "    if len(f3)<3:\n",
        "        f3=\"feature3null\"\n",
        "    tx = BeautifulSoup(f3)\n",
        "    tx1 = [x.extract() for x in tx.findAll('script')]\n",
        "    tx = tx.get_text(\" \").strip()\n",
        "    #s = (\" \").join([\"z\"+ str(z) for z in f2.split(\" \")]) + \" \" + tx\n",
        "    s = (\" \").join([str(z) for z in f2.split(\" \")]) + \" \" + tx\n",
        "    s = re.sub(\"[^a-zA-Z0-9]\",\" \", s)\n",
        "    s = re.sub(\"[0-9]{1,3}px\",\" \", s)\n",
        "    s = re.sub(\" [0-9]{1,6} |000\",\" \", s)\n",
        "    s = (\" \").join([stemmer.stem(z) for z in s.split(\" \") if len(z)>2])\n",
        "    s = s.lower()\n",
        "    return s"
      ],
      "metadata": {
        "id": "NZvEKwMoT8K2"
      },
      "execution_count": 4,
      "outputs": []
    },
    {
      "cell_type": "code",
      "source": [
        "# Cleaning training data\n",
        "s_data = []\n",
        "for i in range(len(training_data.id)):\n",
        "    s = ML_TEXT_CLEAN(training_data.product_title[i], training_data.product_description[i])\n",
        "    s_data.append((training_data[\"query\"][i], s, str(training_data[\"median_relevance\"][i])))"
      ],
      "metadata": {
        "id": "pcYKpob8T-B0"
      },
      "execution_count": 7,
      "outputs": []
    },
    {
      "cell_type": "code",
      "source": [
        "# Cleaning test data\n",
        "t_data = []\n",
        "for i in range(len(test_data.id)):\n",
        "    s = ML_TEXT_CLEAN(test_data.product_title[i], test_data.product_description[i])\n",
        "    t_data.append((test_data[\"query\"][i], s, test_data.id[i]))"
      ],
      "metadata": {
        "id": "cuQwrn1IUCae"
      },
      "execution_count": 8,
      "outputs": []
    },
    {
      "cell_type": "code",
      "source": [
        "training_df = pd.DataFrame(s_data)\n",
        "test_df = pd.DataFrame(t_data)"
      ],
      "metadata": {
        "id": "xGaqs_2IUD8_"
      },
      "execution_count": 9,
      "outputs": []
    },
    {
      "cell_type": "code",
      "source": [
        "# tf-idf Vectorizer\n",
        "from sklearn.feature_extraction.text import TfidfVectorizer\n",
        "from sklearn.decomposition import TruncatedSVD as SVD\n",
        "\n",
        "tf_idf             = TfidfVectorizer(lowercase=True, stop_words= ML_STOP_WORDS, analyzer='word', ngram_range=(1,2), strip_accents='unicode')\n",
        "svd                = SVD(n_components=200)\n",
        "X_query_doc_tf_idf = svd.fit_transform(tf_idf.fit_transform(training_df[0], training_df[1]))\n",
        "X_query_tf_idf     = svd.transform(tf_idf.transform(training_df[0]))\n",
        "X_doc_tf_idf       = svd.transform(tf_idf.transform(training_df[1]))"
      ],
      "metadata": {
        "id": "-BRCX4V1UGV4"
      },
      "execution_count": 10,
      "outputs": []
    },
    {
      "cell_type": "code",
      "source": [
        "# query-doc tf-idf dot product\n",
        "N = len(training_df)\n",
        "dot     = np.reshape([X_query_tf_idf[i].dot(X_doc_tf_idf[i]) for i in range(len(X_query_tf_idf))], (N,1))\n",
        "\n",
        "# Query Perfect Match\n",
        "#N = len(training_df)\n",
        "#match = np.reshape([1 if re.search(training_df[0].iloc[i].lower(), training_df[1].iloc[i].lower()) else 0 for i in range(N)], (N,1))\n",
        "\n",
        "print(\"Extra features done!\")"
      ],
      "metadata": {
        "colab": {
          "base_uri": "https://localhost:8080/"
        },
        "id": "XWXfmVdpUI9F",
        "outputId": "9459b60d-82aa-46c1-b4a1-8e5057f50dc4"
      },
      "execution_count": 11,
      "outputs": [
        {
          "output_type": "stream",
          "name": "stdout",
          "text": [
            "Extra features done!\n"
          ]
        }
      ]
    },
    {
      "cell_type": "code",
      "source": [
        "from sklearn.preprocessing import StandardScaler\n",
        "\n",
        "ss = StandardScaler()\n",
        "X_query_doc_tf_idf = ss.fit_transform(X_query_doc_tf_idf)\n",
        "\n",
        "ss = StandardScaler()\n",
        "dot = ss.fit_transform(dot)\n",
        "\n",
        "X = np.hstack((X_query_doc_tf_idf,dot))"
      ],
      "metadata": {
        "id": "tFT7aF23ULk1"
      },
      "execution_count": 12,
      "outputs": []
    },
    {
      "cell_type": "markdown",
      "source": [
        "\n",
        "\n",
        "---\n",
        "\n"
      ],
      "metadata": {
        "id": "oQQ4GDZdT5yk"
      }
    },
    {
      "cell_type": "code",
      "source": [
        "# Training and validation sets\n",
        "from sklearn.model_selection import train_test_split\n",
        "\n",
        "X_train, X_val, y_train, y_val = train_test_split(X[:len(training_df)], training_df[2], test_size=0.15,\n",
        "                                                      stratify=training_df[2])\n",
        "\n",
        "from sklearn.metrics import cohen_kappa_score as kappa\n",
        "\n",
        "Kappa = lambda y_pred, y_true: kappa(np.clip(np.round(y_pred), 1, 4), y_true, weights=\"quadratic\")"
      ],
      "metadata": {
        "id": "sYHTRLuQURHt"
      },
      "execution_count": 13,
      "outputs": []
    },
    {
      "cell_type": "markdown",
      "source": [
        "**MLP**"
      ],
      "metadata": {
        "id": "nhf8ohaCUQys"
      }
    },
    {
      "cell_type": "code",
      "source": [
        "from sklearn.neural_network import MLPRegressor"
      ],
      "metadata": {
        "id": "SYOJr6_3UWXf"
      },
      "execution_count": 14,
      "outputs": []
    },
    {
      "cell_type": "code",
      "source": [
        "nn = MLPRegressor(hidden_layer_sizes=(100,100,100,100,100,100,100,100,8), random_state=1, max_iter=500, activation='tanh')\n",
        "nn.fit(X_train, y_train)"
      ],
      "metadata": {
        "colab": {
          "base_uri": "https://localhost:8080/"
        },
        "id": "ATUA2NUxUXU-",
        "outputId": "4a75135a-1044-4010-c796-23d1cb81a63d"
      },
      "execution_count": 15,
      "outputs": [
        {
          "output_type": "execute_result",
          "data": {
            "text/plain": [
              "MLPRegressor(activation='tanh',\n",
              "             hidden_layer_sizes=(100, 100, 100, 100, 100, 100, 100, 100, 8),\n",
              "             max_iter=500, random_state=1)"
            ]
          },
          "metadata": {},
          "execution_count": 15
        }
      ]
    },
    {
      "cell_type": "code",
      "source": [
        "nn_pred_val = nn.predict(X_val)"
      ],
      "metadata": {
        "id": "chPmOCzHN-Zu"
      },
      "execution_count": 23,
      "outputs": []
    },
    {
      "cell_type": "code",
      "source": [
        "y_val = pd.to_numeric(y_val)"
      ],
      "metadata": {
        "id": "xQZPzlmrOdQW"
      },
      "execution_count": 25,
      "outputs": []
    },
    {
      "cell_type": "code",
      "source": [
        "print(\"NN Kappa: {0}\".format(Kappa(nn_pred_val, y_val)))"
      ],
      "metadata": {
        "colab": {
          "base_uri": "https://localhost:8080/"
        },
        "id": "Ct7JQ-aTOTcO",
        "outputId": "67148994-c64d-4829-ddbc-b7a17d062903"
      },
      "execution_count": 26,
      "outputs": [
        {
          "output_type": "stream",
          "name": "stdout",
          "text": [
            "NN Kappa: 0.51896055341184\n"
          ]
        }
      ]
    },
    {
      "cell_type": "markdown",
      "source": [
        "Test sample data:"
      ],
      "metadata": {
        "id": "PFWfHA95UnE_"
      }
    },
    {
      "cell_type": "code",
      "source": [
        "# Vectorize test data\n",
        "#Y_query_doc_tf_idf = svd.fit_transform(tf_idf.fit_transform(test_df[0], test_df[1]))\n",
        "#Y_query_tf_idf     = svd.transform(tf_idf.transform(test_df[0]))\n",
        "#Y_doc_tf_idf       = svd.transform(tf_idf.transform(test_df[1]))"
      ],
      "metadata": {
        "id": "PJ-qINqaUaLV"
      },
      "execution_count": 16,
      "outputs": []
    },
    {
      "cell_type": "code",
      "source": [
        "# query-doc tf-idf dot product\n",
        "#N = len(test_df)\n",
        "#dot = np.reshape([Y_query_tf_idf[i].dot(Y_doc_tf_idf[i]) for i in range(len(Y_query_tf_idf))], (N,1))"
      ],
      "metadata": {
        "id": "XlAKXO2hN6fq"
      },
      "execution_count": 17,
      "outputs": []
    },
    {
      "cell_type": "code",
      "source": [
        "'''\n",
        "ss = StandardScaler()\n",
        "X_query_doc_tf_idf = ss.fit_transform(Y_query_doc_tf_idf)\n",
        "\n",
        "ss = StandardScaler()\n",
        "dot = ss.fit_transform(dot)\n",
        "\n",
        "Y = np.hstack((Y_query_doc_tf_idf,dot))\n",
        "'''"
      ],
      "metadata": {
        "id": "B5JSvJbFOSu3"
      },
      "execution_count": 18,
      "outputs": []
    },
    {
      "cell_type": "code",
      "source": [
        "#nn_pred_test = nn.predict(Y)"
      ],
      "metadata": {
        "id": "kAU4ZkJYOWNP"
      },
      "execution_count": 27,
      "outputs": []
    },
    {
      "cell_type": "code",
      "source": [
        "#y_test = pd.to_numeric(test_data.median_relevance)"
      ],
      "metadata": {
        "id": "8pFjeU3mOcsn"
      },
      "execution_count": 28,
      "outputs": []
    },
    {
      "cell_type": "markdown",
      "source": [
        "**ExtraTrees**"
      ],
      "metadata": {
        "id": "ku9z0Rx2VEBu"
      }
    },
    {
      "cell_type": "code",
      "source": [
        "from sklearn.ensemble import ExtraTreesRegressor as ET"
      ],
      "metadata": {
        "id": "H35fyP9_VPKt"
      },
      "execution_count": 30,
      "outputs": []
    },
    {
      "cell_type": "code",
      "source": [
        "et = ET(n_estimators=250, min_samples_split=10)\n",
        "et.fit(X_train, y_train)"
      ],
      "metadata": {
        "colab": {
          "base_uri": "https://localhost:8080/"
        },
        "id": "OnBPHo7BN4Fg",
        "outputId": "460fa24b-9dab-42fe-c4ce-eb8e89d0d30b"
      },
      "execution_count": 31,
      "outputs": [
        {
          "output_type": "execute_result",
          "data": {
            "text/plain": [
              "ExtraTreesRegressor(min_samples_split=10, n_estimators=250)"
            ]
          },
          "metadata": {},
          "execution_count": 31
        }
      ]
    },
    {
      "cell_type": "code",
      "source": [
        "et_pred_val = et.predict(X_val)\n",
        "print(\"ET Kappa: {0}\".format(Kappa(et_pred_val, y_val)))"
      ],
      "metadata": {
        "colab": {
          "base_uri": "https://localhost:8080/"
        },
        "id": "NXUYf9KOOlD3",
        "outputId": "53a24b6b-8532-42af-c4bd-7da0a6f94044"
      },
      "execution_count": 38,
      "outputs": [
        {
          "output_type": "stream",
          "name": "stdout",
          "text": [
            "ET Kappa: 0.5305658593170102\n"
          ]
        }
      ]
    },
    {
      "cell_type": "markdown",
      "source": [
        "**ElasticNet**"
      ],
      "metadata": {
        "id": "JmDw3rzoVhml"
      }
    },
    {
      "cell_type": "code",
      "source": [
        "from sklearn.linear_model import ElasticNet"
      ],
      "metadata": {
        "id": "zinbKJI2Vq12"
      },
      "execution_count": 40,
      "outputs": []
    },
    {
      "cell_type": "code",
      "source": [
        "# Blending\n",
        "ensemble = ElasticNet(alpha=0.01, l1_ratio=0.5, fit_intercept=False)\n",
        "ensemble.fit(np.vstack((et_pred_val, nn_pred_val)).T, y_val)"
      ],
      "metadata": {
        "colab": {
          "base_uri": "https://localhost:8080/"
        },
        "id": "iUoW6ndPVh_m",
        "outputId": "4787895b-cf51-43ca-de59-b8e0675d63b2"
      },
      "execution_count": 53,
      "outputs": [
        {
          "output_type": "execute_result",
          "data": {
            "text/plain": [
              "ElasticNet(alpha=0.01, fit_intercept=False)"
            ]
          },
          "metadata": {},
          "execution_count": 53
        }
      ]
    },
    {
      "cell_type": "code",
      "source": [
        "ensemble_pred = ensemble.predict(np.vstack((et_pred_val, nn_pred_val)).T)\n",
        "print(\"Ensemble Kappa (in-sample): {0}\".format(Kappa(ensemble_pred, y_val)))"
      ],
      "metadata": {
        "colab": {
          "base_uri": "https://localhost:8080/"
        },
        "id": "sXjtuY63V8e4",
        "outputId": "439460f3-1836-4ec1-fed2-a9c80c336ea8"
      },
      "execution_count": 54,
      "outputs": [
        {
          "output_type": "stream",
          "name": "stdout",
          "text": [
            "Ensemble Kappa (in-sample): 0.5234087887388139\n"
          ]
        }
      ]
    }
  ]
}