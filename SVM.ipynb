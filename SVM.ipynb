{
  "cells": [
    {
      "cell_type": "code",
      "execution_count": 21,
      "metadata": {
        "id": "OZJ3kSGVp8uL"
      },
      "outputs": [],
      "source": [
        "import pandas as pd\n",
        "import numpy as np\n",
        "import matplotlib.pyplot as plt\n",
        "from bs4 import BeautifulSoup\n",
        "from nltk.stem.porter import *\n",
        "import re\n",
        "from sklearn.feature_extraction import text\n",
        "from sklearn.metrics import classification_report, confusion_matrix, ConfusionMatrixDisplay\n",
        "\n",
        "# hide warnings\n",
        "import warnings \n",
        "warnings.filterwarnings(\"ignore\")"
      ]
    },
    {
      "cell_type": "code",
      "execution_count": 2,
      "metadata": {
        "id": "ttuxJg9a-CPm"
      },
      "outputs": [],
      "source": [
        "training_data = pd.read_csv('Data/train.csv', index_col = [0])"
      ]
    },
    {
      "cell_type": "code",
      "execution_count": 3,
      "metadata": {
        "id": "dd5ppRHKPLca"
      },
      "outputs": [],
      "source": [
        "test_data = pd.read_csv('Data/test.csv', index_col = [0])"
      ]
    },
    {
      "cell_type": "code",
      "execution_count": 4,
      "metadata": {
        "id": "CVAgF4GsUVf7"
      },
      "outputs": [],
      "source": [
        "training_data.product_description = training_data.product_description.fillna('')\n",
        "test_data.product_description = test_data.product_description.fillna('')"
      ]
    },
    {
      "cell_type": "markdown",
      "metadata": {
        "id": "nxHnYUc8A1a4"
      },
      "source": [
        "Preprocessing"
      ]
    },
    {
      "cell_type": "code",
      "execution_count": 5,
      "metadata": {
        "id": "cXtIl4vEA_Bv"
      },
      "outputs": [],
      "source": [
        "# stop word removal\n",
        "stemmer = PorterStemmer()\n",
        "sw=[]\n",
        "ML_STOP_WORDS = ['http','www','img','border','color','style','padding','table','font','inch','width','height']\n",
        "ML_STOP_WORDS += list(text.ENGLISH_STOP_WORDS)\n",
        "for stw in ML_STOP_WORDS:\n",
        "    sw.append(str(stw))\n",
        "ML_STOP_WORDS += sw\n",
        "for i in range(len(ML_STOP_WORDS)):\n",
        "    ML_STOP_WORDS[i]=stemmer.stem(ML_STOP_WORDS[i])"
      ]
    },
    {
      "cell_type": "code",
      "execution_count": 6,
      "metadata": {
        "id": "xe_uw6LLgmSM"
      },
      "outputs": [],
      "source": [
        "# declarations\n",
        "def ML_TEXT_CLEAN(f2,f3):\n",
        "    if len(f2)<3:\n",
        "        f2=\"feature2null\"\n",
        "    if len(f3)<3:\n",
        "        f3=\"feature3null\"\n",
        "    tx = BeautifulSoup(f3)\n",
        "    tx1 = [x.extract() for x in tx.findAll('script')]\n",
        "    tx = tx.get_text(\" \").strip()\n",
        "    s = (\" \").join([\"z\"+ str(z) for z in f2.split(\" \")]) + \" \" + tx\n",
        "    s = re.sub(\"[^a-zA-Z0-9]\",\" \", s)\n",
        "    s = re.sub(\"[0-9]{1,3}px\",\" \", s)\n",
        "    s = re.sub(\" [0-9]{1,6} |000\",\" \", s)\n",
        "    s = (\" \").join([stemmer.stem(z) for z in s.split(\" \") if len(z)>2])\n",
        "    s = s.lower()\n",
        "    return s"
      ]
    },
    {
      "cell_type": "code",
      "execution_count": 7,
      "metadata": {
        "id": "g1Qp6Dj2hSlt"
      },
      "outputs": [],
      "source": [
        "# Cleaning training data\n",
        "s_data = []\n",
        "for i in range(len(training_data.id)):\n",
        "    s = ML_TEXT_CLEAN(training_data.product_title[i], training_data.product_description[i])\n",
        "    s_data.append((training_data[\"query\"][i], s, str(training_data[\"median_relevance\"][i])))"
      ]
    },
    {
      "cell_type": "code",
      "execution_count": 8,
      "metadata": {
        "id": "RdzH_ScDC1Kf"
      },
      "outputs": [],
      "source": [
        "# Cleaning test data\n",
        "t_data = []\n",
        "for i in range(len(test_data.id)):\n",
        "    s = ML_TEXT_CLEAN(test_data.product_title[i], test_data.product_description[i])\n",
        "    t_data.append((test_data[\"query\"][i], s, str(test_data[\"median_relevance\"][i])))"
      ]
    },
    {
      "cell_type": "code",
      "execution_count": 9,
      "metadata": {
        "id": "xkOYCX2TZG0f"
      },
      "outputs": [],
      "source": [
        "training_df = pd.DataFrame(s_data)\n",
        "test_df = pd.DataFrame(t_data)"
      ]
    },
    {
      "cell_type": "code",
      "execution_count": 10,
      "metadata": {},
      "outputs": [
        {
          "data": {
            "text/plain": [
              "(7618, 3)"
            ]
          },
          "execution_count": 10,
          "metadata": {},
          "output_type": "execute_result"
        }
      ],
      "source": [
        "training_df.shape"
      ]
    },
    {
      "cell_type": "code",
      "execution_count": 11,
      "metadata": {},
      "outputs": [
        {
          "data": {
            "text/plain": [
              "(2540, 3)"
            ]
          },
          "execution_count": 11,
          "metadata": {},
          "output_type": "execute_result"
        }
      ],
      "source": [
        "test_df.shape"
      ]
    },
    {
      "cell_type": "markdown",
      "metadata": {
        "id": "AENCOuLyeY20"
      },
      "source": [
        "\n",
        "\n",
        "---\n",
        "\n"
      ]
    },
    {
      "cell_type": "markdown",
      "metadata": {
        "id": "q0_eg8n9_l7H"
      },
      "source": [
        "SVM"
      ]
    },
    {
      "cell_type": "code",
      "execution_count": 12,
      "metadata": {
        "id": "5IBc4JAG_uWf"
      },
      "outputs": [],
      "source": [
        "from sklearn.pipeline import Pipeline\n",
        "from sklearn.feature_extraction.text import CountVectorizer\n",
        "from sklearn.svm import SVC\n",
        "from sklearn.decomposition import TruncatedSVD\n",
        "from sklearn.metrics import classification_report\n",
        "from sklearn.preprocessing import StandardScaler\n",
        "from sklearn.feature_extraction.text import TfidfVectorizer"
      ]
    },
    {
      "cell_type": "code",
      "execution_count": 13,
      "metadata": {
        "id": "gZkkqr9Un9se"
      },
      "outputs": [],
      "source": [
        "clf = Pipeline([('v',TfidfVectorizer(max_features=None, strip_accents='unicode', analyzer='word', token_pattern=r'\\w{1,}', ngram_range=(1, 6),\n",
        "                                     use_idf=True, smooth_idf=True, sublinear_tf=True, stop_words = ML_STOP_WORDS)),\n",
        "                ('svd', TruncatedSVD(n_components=100)),  ('scl', StandardScaler()), ('svm', SVC(C=10))])\n",
        "\n",
        "# Concatenate the two features into a single feature\n",
        "training_data = training_df[0] + ' ' + training_df[1]\n",
        "\n",
        "# Fit the model on the training data\n",
        "clf.fit(training_data, training_df[2])\n",
        "\n",
        "# Concatenate the two features into a single feature for the test data\n",
        "test_data = test_df[0] + ' ' + test_df[1]\n",
        "\n",
        "# Predict the output feature for the test data\n",
        "predictions = clf.predict(test_data)"
      ]
    },
    {
      "cell_type": "code",
      "execution_count": 14,
      "metadata": {},
      "outputs": [
        {
          "name": "stdout",
          "output_type": "stream",
          "text": [
            "              precision    recall  f1-score   support\n",
            "\n",
            "           1       0.68      0.11      0.19       186\n",
            "           2       0.38      0.19      0.26       337\n",
            "           3       0.37      0.10      0.15       451\n",
            "           4       0.66      0.94      0.78      1566\n",
            "\n",
            "    accuracy                           0.63      2540\n",
            "   macro avg       0.52      0.34      0.34      2540\n",
            "weighted avg       0.57      0.63      0.55      2540\n",
            "\n"
          ]
        }
      ],
      "source": [
        "print(classification_report(test_df[2], predictions))"
      ]
    },
    {
      "cell_type": "code",
      "execution_count": 22,
      "metadata": {},
      "outputs": [
        {
          "data": {
            "image/png": "[encoded data removed]",
            "text/plain": [
              "<Figure size 400x400 with 2 Axes>"
            ]
          },
          "metadata": {},
          "output_type": "display_data"
        }
      ],
      "source": [
        "# plot the confusion matrix\n",
        "svm_cm = confusion_matrix(test_df[2], predictions)\n",
        "svm_disp = ConfusionMatrixDisplay(confusion_matrix=svm_cm)\n",
        "\n",
        "svm_disp.plot(cmap=plt.cm.Blues)\n",
        "svm_disp.figure_.set_size_inches(4,4)\n",
        "plt.xticks(rotation=50)\n",
        "plt.show()"
      ]
    },
    {
      "cell_type": "markdown",
      "metadata": {
        "id": "IyyDGk_2mgZa"
      },
      "source": [
        "\n",
        "\n",
        "---\n",
        "\n"
      ]
    },
    {
      "attachments": {},
      "cell_type": "markdown",
      "metadata": {},
      "source": [
        "Grid search"
      ]
    },
    {
      "cell_type": "code",
      "execution_count": 15,
      "metadata": {},
      "outputs": [],
      "source": [
        "from sklearn.pipeline import Pipeline\n",
        "from sklearn.feature_extraction.text import TfidfVectorizer\n",
        "from sklearn.decomposition import TruncatedSVD\n",
        "from sklearn.preprocessing import StandardScaler\n",
        "from sklearn.svm import SVC\n",
        "from sklearn.model_selection import GridSearchCV\n",
        "from sklearn.metrics import classification_report"
      ]
    },
    {
      "cell_type": "code",
      "execution_count": 17,
      "metadata": {},
      "outputs": [],
      "source": [
        "\n",
        "svm_pipeline = Pipeline([\n",
        "    ('vectorizer', TfidfVectorizer(max_features=None, strip_accents='unicode', analyzer='word', \n",
        "                                    token_pattern=r'\\w{1,}', ngram_range=(1, 6),\n",
        "                                    use_idf=True, smooth_idf=True, sublinear_tf=True, \n",
        "                                    stop_words=ML_STOP_WORDS)),\n",
        "    ('svd', TruncatedSVD(n_components=100)),  \n",
        "    ('scl', StandardScaler()), \n",
        "    ('svm', SVC())])\n",
        "\n",
        "# Hyperparameter for grid search\n",
        "param_grid = {'svm__C': [0.1, 1, 10],\n",
        "              'svm__kernel': ['linear', 'rbf']}"
      ]
    },
    {
      "cell_type": "code",
      "execution_count": 18,
      "metadata": {},
      "outputs": [
        {
          "name": "stdout",
          "output_type": "stream",
          "text": [
            "Fitting 5 folds for each of 6 candidates, totalling 30 fits\n"
          ]
        },
        {
          "data": {
            "text/html": [
              "<style>#sk-container-id-1 {color: black;background-color: white;}#sk-container-id-1 pre{padding: 0;}#sk-container-id-1 div.sk-toggleable {background-color: white;}#sk-container-id-1 label.sk-toggleable__label {cursor: pointer;display: block;width: 100%;margin-bottom: 0;padding: 0.3em;box-sizing: border-box;text-align: center;}#sk-container-id-1 label.sk-toggleable__label-arrow:before {content: \"▸\";float: left;margin-right: 0.25em;color: #696969;}#sk-container-id-1 label.sk-toggleable__label-arrow:hover:before {color: black;}#sk-container-id-1 div.sk-estimator:hover label.sk-toggleable__label-arrow:before {color: black;}#sk-container-id-1 div.sk-toggleable__content {max-height: 0;max-width: 0;overflow: hidden;text-align: left;background-color: #f0f8ff;}#sk-container-id-1 div.sk-toggleable__content pre {margin: 0.2em;color: black;border-radius: 0.25em;background-color: #f0f8ff;}#sk-container-id-1 input.sk-toggleable__control:checked~div.sk-toggleable__content {max-height: 200px;max-width: 100%;overflow: auto;}#sk-container-id-1 input.sk-toggleable__control:checked~label.sk-toggleable__label-arrow:before {content: \"▾\";}#sk-container-id-1 div.sk-estimator input.sk-toggleable__control:checked~label.sk-toggleable__label {background-color: #d4ebff;}#sk-container-id-1 div.sk-label input.sk-toggleable__control:checked~label.sk-toggleable__label {background-color: #d4ebff;}#sk-container-id-1 input.sk-hidden--visually {border: 0;clip: rect(1px 1px 1px 1px);clip: rect(1px, 1px, 1px, 1px);height: 1px;margin: -1px;overflow: hidden;padding: 0;position: absolute;width: 1px;}#sk-container-id-1 div.sk-estimator {font-family: monospace;background-color: #f0f8ff;border: 1px dotted black;border-radius: 0.25em;box-sizing: border-box;margin-bottom: 0.5em;}#sk-container-id-1 div.sk-estimator:hover {background-color: #d4ebff;}#sk-container-id-1 div.sk-parallel-item::after {content: \"\";width: 100%;border-bottom: 1px solid gray;flex-grow: 1;}#sk-container-id-1 div.sk-label:hover label.sk-toggleable__label {background-color: #d4ebff;}#sk-container-id-1 div.sk-serial::before {content: \"\";position: absolute;border-left: 1px solid gray;box-sizing: border-box;top: 0;bottom: 0;left: 50%;z-index: 0;}#sk-container-id-1 div.sk-serial {display: flex;flex-direction: column;align-items: center;background-color: white;padding-right: 0.2em;padding-left: 0.2em;position: relative;}#sk-container-id-1 div.sk-item {position: relative;z-index: 1;}#sk-container-id-1 div.sk-parallel {display: flex;align-items: stretch;justify-content: center;background-color: white;position: relative;}#sk-container-id-1 div.sk-item::before, #sk-container-id-1 div.sk-parallel-item::before {content: \"\";position: absolute;border-left: 1px solid gray;box-sizing: border-box;top: 0;bottom: 0;left: 50%;z-index: -1;}#sk-container-id-1 div.sk-parallel-item {display: flex;flex-direction: column;z-index: 1;position: relative;background-color: white;}#sk-container-id-1 div.sk-parallel-item:first-child::after {align-self: flex-end;width: 50%;}#sk-container-id-1 div.sk-parallel-item:last-child::after {align-self: flex-start;width: 50%;}#sk-container-id-1 div.sk-parallel-item:only-child::after {width: 0;}#sk-container-id-1 div.sk-dashed-wrapped {border: 1px dashed gray;margin: 0 0.4em 0.5em 0.4em;box-sizing: border-box;padding-bottom: 0.4em;background-color: white;}#sk-container-id-1 div.sk-label label {font-family: monospace;font-weight: bold;display: inline-block;line-height: 1.2em;}#sk-container-id-1 div.sk-label-container {text-align: center;}#sk-container-id-1 div.sk-container {/* jupyter's `normalize.less` sets `[hidden] { display: none; }` but bootstrap.min.css set `[hidden] { display: none !important; }` so we also need the `!important` here to be able to override the default hidden behavior on the sphinx rendered scikit-learn.org. See: https://github.com/scikit-learn/scikit-learn/issues/21755 */display: inline-block !important;position: relative;}#sk-container-id-1 div.sk-text-repr-fallback {display: none;}</style><div id=\"sk-container-id-1\" class=\"sk-top-container\"><div class=\"sk-text-repr-fallback\"><pre>GridSearchCV(cv=5,\n",
              "             estimator=Pipeline(steps=[(&#x27;vectorizer&#x27;,\n",
              "                                        TfidfVectorizer(ngram_range=(1, 6),\n",
              "                                                        stop_words=[&#x27;http&#x27;,\n",
              "                                                                    &#x27;www&#x27;,\n",
              "                                                                    &#x27;img&#x27;,\n",
              "                                                                    &#x27;border&#x27;,\n",
              "                                                                    &#x27;color&#x27;,\n",
              "                                                                    &#x27;style&#x27;,\n",
              "                                                                    &#x27;pad&#x27;,\n",
              "                                                                    &#x27;tabl&#x27;,\n",
              "                                                                    &#x27;font&#x27;,\n",
              "                                                                    &#x27;inch&#x27;,\n",
              "                                                                    &#x27;width&#x27;,\n",
              "                                                                    &#x27;height&#x27;,\n",
              "                                                                    &#x27;might&#x27;,\n",
              "                                                                    &#x27;alon&#x27;,\n",
              "                                                                    &#x27;everyon&#x27;,\n",
              "                                                                    &#x27;and&#x27;,\n",
              "                                                                    &#x27;becom&#x27;,\n",
              "                                                                    &#x27;un&#x27;,\n",
              "                                                                    &#x27;least&#x27;,\n",
              "                                                                    &#x27;though&#x27;,\n",
              "                                                                    &#x27;or&#x27;,\n",
              "                                                                    &#x27;back&#x27;,\n",
              "                                                                    &#x27;hereaft&#x27;,\n",
              "                                                                    &#x27;some&#x27;,\n",
              "                                                                    &#x27;up&#x27;,\n",
              "                                                                    &#x27;five&#x27;,\n",
              "                                                                    &#x27;someon&#x27;,\n",
              "                                                                    &#x27;abov&#x27;,\n",
              "                                                                    &#x27;more&#x27;,\n",
              "                                                                    &#x27;yet&#x27;, ...],\n",
              "                                                        strip_accents=&#x27;unicode&#x27;,\n",
              "                                                        sublinear_tf=True,\n",
              "                                                        token_pattern=&#x27;\\\\w{1,}&#x27;)),\n",
              "                                       (&#x27;svd&#x27;, TruncatedSVD(n_components=100)),\n",
              "                                       (&#x27;scl&#x27;, StandardScaler()),\n",
              "                                       (&#x27;svm&#x27;, SVC())]),\n",
              "             n_jobs=-1,\n",
              "             param_grid={&#x27;svm__C&#x27;: [0.1, 1, 10],\n",
              "                         &#x27;svm__kernel&#x27;: [&#x27;linear&#x27;, &#x27;rbf&#x27;]},\n",
              "             verbose=1)</pre><b>In a Jupyter environment, please rerun this cell to show the HTML representation or trust the notebook. <br />On GitHub, the HTML representation is unable to render, please try loading this page with nbviewer.org.</b></div><div class=\"sk-container\" hidden><div class=\"sk-item sk-dashed-wrapped\"><div class=\"sk-label-container\"><div class=\"sk-label sk-toggleable\"><input class=\"sk-toggleable__control sk-hidden--visually\" id=\"sk-estimator-id-1\" type=\"checkbox\" ><label for=\"sk-estimator-id-1\" class=\"sk-toggleable__label sk-toggleable__label-arrow\">GridSearchCV</label><div class=\"sk-toggleable__content\"><pre>GridSearchCV(cv=5,\n",
              "             estimator=Pipeline(steps=[(&#x27;vectorizer&#x27;,\n",
              "                                        TfidfVectorizer(ngram_range=(1, 6),\n",
              "                                                        stop_words=[&#x27;http&#x27;,\n",
              "                                                                    &#x27;www&#x27;,\n",
              "                                                                    &#x27;img&#x27;,\n",
              "                                                                    &#x27;border&#x27;,\n",
              "                                                                    &#x27;color&#x27;,\n",
              "                                                                    &#x27;style&#x27;,\n",
              "                                                                    &#x27;pad&#x27;,\n",
              "                                                                    &#x27;tabl&#x27;,\n",
              "                                                                    &#x27;font&#x27;,\n",
              "                                                                    &#x27;inch&#x27;,\n",
              "                                                                    &#x27;width&#x27;,\n",
              "                                                                    &#x27;height&#x27;,\n",
              "                                                                    &#x27;might&#x27;,\n",
              "                                                                    &#x27;alon&#x27;,\n",
              "                                                                    &#x27;everyon&#x27;,\n",
              "                                                                    &#x27;and&#x27;,\n",
              "                                                                    &#x27;becom&#x27;,\n",
              "                                                                    &#x27;un&#x27;,\n",
              "                                                                    &#x27;least&#x27;,\n",
              "                                                                    &#x27;though&#x27;,\n",
              "                                                                    &#x27;or&#x27;,\n",
              "                                                                    &#x27;back&#x27;,\n",
              "                                                                    &#x27;hereaft&#x27;,\n",
              "                                                                    &#x27;some&#x27;,\n",
              "                                                                    &#x27;up&#x27;,\n",
              "                                                                    &#x27;five&#x27;,\n",
              "                                                                    &#x27;someon&#x27;,\n",
              "                                                                    &#x27;abov&#x27;,\n",
              "                                                                    &#x27;more&#x27;,\n",
              "                                                                    &#x27;yet&#x27;, ...],\n",
              "                                                        strip_accents=&#x27;unicode&#x27;,\n",
              "                                                        sublinear_tf=True,\n",
              "                                                        token_pattern=&#x27;\\\\w{1,}&#x27;)),\n",
              "                                       (&#x27;svd&#x27;, TruncatedSVD(n_components=100)),\n",
              "                                       (&#x27;scl&#x27;, StandardScaler()),\n",
              "                                       (&#x27;svm&#x27;, SVC())]),\n",
              "             n_jobs=-1,\n",
              "             param_grid={&#x27;svm__C&#x27;: [0.1, 1, 10],\n",
              "                         &#x27;svm__kernel&#x27;: [&#x27;linear&#x27;, &#x27;rbf&#x27;]},\n",
              "             verbose=1)</pre></div></div></div><div class=\"sk-parallel\"><div class=\"sk-parallel-item\"><div class=\"sk-item\"><div class=\"sk-label-container\"><div class=\"sk-label sk-toggleable\"><input class=\"sk-toggleable__control sk-hidden--visually\" id=\"sk-estimator-id-2\" type=\"checkbox\" ><label for=\"sk-estimator-id-2\" class=\"sk-toggleable__label sk-toggleable__label-arrow\">estimator: Pipeline</label><div class=\"sk-toggleable__content\"><pre>Pipeline(steps=[(&#x27;vectorizer&#x27;,\n",
              "                 TfidfVectorizer(ngram_range=(1, 6),\n",
              "                                 stop_words=[&#x27;http&#x27;, &#x27;www&#x27;, &#x27;img&#x27;, &#x27;border&#x27;,\n",
              "                                             &#x27;color&#x27;, &#x27;style&#x27;, &#x27;pad&#x27;, &#x27;tabl&#x27;,\n",
              "                                             &#x27;font&#x27;, &#x27;inch&#x27;, &#x27;width&#x27;, &#x27;height&#x27;,\n",
              "                                             &#x27;might&#x27;, &#x27;alon&#x27;, &#x27;everyon&#x27;, &#x27;and&#x27;,\n",
              "                                             &#x27;becom&#x27;, &#x27;un&#x27;, &#x27;least&#x27;, &#x27;though&#x27;,\n",
              "                                             &#x27;or&#x27;, &#x27;back&#x27;, &#x27;hereaft&#x27;, &#x27;some&#x27;,\n",
              "                                             &#x27;up&#x27;, &#x27;five&#x27;, &#x27;someon&#x27;, &#x27;abov&#x27;,\n",
              "                                             &#x27;more&#x27;, &#x27;yet&#x27;, ...],\n",
              "                                 strip_accents=&#x27;unicode&#x27;, sublinear_tf=True,\n",
              "                                 token_pattern=&#x27;\\\\w{1,}&#x27;)),\n",
              "                (&#x27;svd&#x27;, TruncatedSVD(n_components=100)),\n",
              "                (&#x27;scl&#x27;, StandardScaler()), (&#x27;svm&#x27;, SVC())])</pre></div></div></div><div class=\"sk-serial\"><div class=\"sk-item\"><div class=\"sk-serial\"><div class=\"sk-item\"><div class=\"sk-estimator sk-toggleable\"><input class=\"sk-toggleable__control sk-hidden--visually\" id=\"sk-estimator-id-3\" type=\"checkbox\" ><label for=\"sk-estimator-id-3\" class=\"sk-toggleable__label sk-toggleable__label-arrow\">TfidfVectorizer</label><div class=\"sk-toggleable__content\"><pre>TfidfVectorizer(ngram_range=(1, 6),\n",
              "                stop_words=[&#x27;http&#x27;, &#x27;www&#x27;, &#x27;img&#x27;, &#x27;border&#x27;, &#x27;color&#x27;, &#x27;style&#x27;,\n",
              "                            &#x27;pad&#x27;, &#x27;tabl&#x27;, &#x27;font&#x27;, &#x27;inch&#x27;, &#x27;width&#x27;, &#x27;height&#x27;,\n",
              "                            &#x27;might&#x27;, &#x27;alon&#x27;, &#x27;everyon&#x27;, &#x27;and&#x27;, &#x27;becom&#x27;, &#x27;un&#x27;,\n",
              "                            &#x27;least&#x27;, &#x27;though&#x27;, &#x27;or&#x27;, &#x27;back&#x27;, &#x27;hereaft&#x27;, &#x27;some&#x27;,\n",
              "                            &#x27;up&#x27;, &#x27;five&#x27;, &#x27;someon&#x27;, &#x27;abov&#x27;, &#x27;more&#x27;, &#x27;yet&#x27;, ...],\n",
              "                strip_accents=&#x27;unicode&#x27;, sublinear_tf=True,\n",
              "                token_pattern=&#x27;\\\\w{1,}&#x27;)</pre></div></div></div><div class=\"sk-item\"><div class=\"sk-estimator sk-toggleable\"><input class=\"sk-toggleable__control sk-hidden--visually\" id=\"sk-estimator-id-4\" type=\"checkbox\" ><label for=\"sk-estimator-id-4\" class=\"sk-toggleable__label sk-toggleable__label-arrow\">TruncatedSVD</label><div class=\"sk-toggleable__content\"><pre>TruncatedSVD(n_components=100)</pre></div></div></div><div class=\"sk-item\"><div class=\"sk-estimator sk-toggleable\"><input class=\"sk-toggleable__control sk-hidden--visually\" id=\"sk-estimator-id-5\" type=\"checkbox\" ><label for=\"sk-estimator-id-5\" class=\"sk-toggleable__label sk-toggleable__label-arrow\">StandardScaler</label><div class=\"sk-toggleable__content\"><pre>StandardScaler()</pre></div></div></div><div class=\"sk-item\"><div class=\"sk-estimator sk-toggleable\"><input class=\"sk-toggleable__control sk-hidden--visually\" id=\"sk-estimator-id-6\" type=\"checkbox\" ><label for=\"sk-estimator-id-6\" class=\"sk-toggleable__label sk-toggleable__label-arrow\">SVC</label><div class=\"sk-toggleable__content\"><pre>SVC()</pre></div></div></div></div></div></div></div></div></div></div></div></div>"
            ],
            "text/plain": [
              "GridSearchCV(cv=5,\n",
              "             estimator=Pipeline(steps=[('vectorizer',\n",
              "                                        TfidfVectorizer(ngram_range=(1, 6),\n",
              "                                                        stop_words=['http',\n",
              "                                                                    'www',\n",
              "                                                                    'img',\n",
              "                                                                    'border',\n",
              "                                                                    'color',\n",
              "                                                                    'style',\n",
              "                                                                    'pad',\n",
              "                                                                    'tabl',\n",
              "                                                                    'font',\n",
              "                                                                    'inch',\n",
              "                                                                    'width',\n",
              "                                                                    'height',\n",
              "                                                                    'might',\n",
              "                                                                    'alon',\n",
              "                                                                    'everyon',\n",
              "                                                                    'and',\n",
              "                                                                    'becom',\n",
              "                                                                    'un',\n",
              "                                                                    'least',\n",
              "                                                                    'though',\n",
              "                                                                    'or',\n",
              "                                                                    'back',\n",
              "                                                                    'hereaft',\n",
              "                                                                    'some',\n",
              "                                                                    'up',\n",
              "                                                                    'five',\n",
              "                                                                    'someon',\n",
              "                                                                    'abov',\n",
              "                                                                    'more',\n",
              "                                                                    'yet', ...],\n",
              "                                                        strip_accents='unicode',\n",
              "                                                        sublinear_tf=True,\n",
              "                                                        token_pattern='\\\\w{1,}')),\n",
              "                                       ('svd', TruncatedSVD(n_components=100)),\n",
              "                                       ('scl', StandardScaler()),\n",
              "                                       ('svm', SVC())]),\n",
              "             n_jobs=-1,\n",
              "             param_grid={'svm__C': [0.1, 1, 10],\n",
              "                         'svm__kernel': ['linear', 'rbf']},\n",
              "             verbose=1)"
            ]
          },
          "execution_count": 18,
          "metadata": {},
          "output_type": "execute_result"
        }
      ],
      "source": [
        "# Grid search using cross-validation\n",
        "grid_search = GridSearchCV(svm_pipeline, param_grid=param_grid, cv=5, n_jobs=-1, verbose=1)\n",
        "\n",
        "grid_search.fit(training_data, training_df[2])"
      ]
    },
    {
      "cell_type": "code",
      "execution_count": 19,
      "metadata": {},
      "outputs": [
        {
          "name": "stdout",
          "output_type": "stream",
          "text": [
            "Best parameters:  {'svm__C': 10, 'svm__kernel': 'rbf'}\n",
            "Best score:  0.6185329755645286\n"
          ]
        }
      ],
      "source": [
        "# Best hyperparameters and score\n",
        "print('Best parameters: ', grid_search.best_params_)\n",
        "print('Best score: ', grid_search.best_score_)"
      ]
    },
    {
      "cell_type": "code",
      "execution_count": 20,
      "metadata": {},
      "outputs": [
        {
          "name": "stdout",
          "output_type": "stream",
          "text": [
            "              precision    recall  f1-score   support\n",
            "\n",
            "           1       0.67      0.09      0.15       186\n",
            "           2       0.35      0.20      0.25       337\n",
            "           3       0.35      0.09      0.14       451\n",
            "           4       0.66      0.93      0.77      1566\n",
            "\n",
            "    accuracy                           0.62      2540\n",
            "   macro avg       0.51      0.33      0.33      2540\n",
            "weighted avg       0.57      0.62      0.55      2540\n",
            "\n"
          ]
        }
      ],
      "source": [
        "y_pred = grid_search.predict(test_data)\n",
        "print(classification_report(test_df[2], y_pred))"
      ]
    }
  ],
  "metadata": {
    "colab": {
      "provenance": []
    },
    "kernelspec": {
      "display_name": "Python 3",
      "name": "python3"
    },
    "language_info": {
      "codemirror_mode": {
        "name": "ipython",
        "version": 3
      },
      "file_extension": ".py",
      "mimetype": "text/x-python",
      "name": "python",
      "nbconvert_exporter": "python",
      "pygments_lexer": "ipython3",
      "version": "3.10.9"
    }
  },
  "nbformat": 4,
  "nbformat_minor": 0
}
