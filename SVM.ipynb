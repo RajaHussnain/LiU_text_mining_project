{
  "nbformat": 4,
  "nbformat_minor": 0,
  "metadata": {
    "colab": {
      "provenance": []
    },
    "kernelspec": {
      "name": "python3",
      "display_name": "Python 3"
    },
    "language_info": {
      "name": "python"
    }
  },
  "cells": [
    {
      "cell_type": "code",
      "execution_count": null,
      "metadata": {
        "id": "OZJ3kSGVp8uL"
      },
      "outputs": [],
      "source": [
        "import pandas as pd\n",
        "import numpy as np\n",
        "import matplotlib.pyplot as plt\n",
        "from bs4 import BeautifulSoup\n",
        "from nltk.stem.porter import *\n",
        "import re\n",
        "from sklearn.feature_extraction import text"
      ]
    },
    {
      "cell_type": "code",
      "source": [
        "training_data = pd.read_csv('train.csv', index_col = [0])"
      ],
      "metadata": {
        "id": "ttuxJg9a-CPm"
      },
      "execution_count": null,
      "outputs": []
    },
    {
      "cell_type": "code",
      "source": [
        "test_data = pd.read_csv('test.csv', index_col = [0])"
      ],
      "metadata": {
        "id": "dd5ppRHKPLca"
      },
      "execution_count": null,
      "outputs": []
    },
    {
      "cell_type": "code",
      "source": [
        "training_data.product_description = training_data.product_description.fillna('')\n",
        "test_data.product_description = test_data.product_description.fillna('')"
      ],
      "metadata": {
        "id": "CVAgF4GsUVf7"
      },
      "execution_count": null,
      "outputs": []
    },
    {
      "cell_type": "markdown",
      "source": [
        "Preprocessing"
      ],
      "metadata": {
        "id": "nxHnYUc8A1a4"
      }
    },
    {
      "cell_type": "code",
      "source": [
        "# stop word removal\n",
        "stemmer = PorterStemmer()\n",
        "sw=[]\n",
        "ML_STOP_WORDS = ['http','www','img','border','color','style','padding','table','font','inch','width','height']\n",
        "ML_STOP_WORDS += list(text.ENGLISH_STOP_WORDS)\n",
        "for stw in ML_STOP_WORDS:\n",
        "    sw.append(str(stw))\n",
        "ML_STOP_WORDS += sw\n",
        "for i in range(len(ML_STOP_WORDS)):\n",
        "    ML_STOP_WORDS[i]=stemmer.stem(ML_STOP_WORDS[i])"
      ],
      "metadata": {
        "id": "cXtIl4vEA_Bv"
      },
      "execution_count": null,
      "outputs": []
    },
    {
      "cell_type": "code",
      "source": [
        "# declarations\n",
        "def ML_TEXT_CLEAN(f2,f3):\n",
        "    if len(f2)<3:\n",
        "        f2=\"feature2null\"\n",
        "    if len(f3)<3:\n",
        "        f3=\"feature3null\"\n",
        "    tx = BeautifulSoup(f3)\n",
        "    tx1 = [x.extract() for x in tx.findAll('script')]\n",
        "    tx = tx.get_text(\" \").strip()\n",
        "    s = (\" \").join([\"z\"+ str(z) for z in f2.split(\" \")]) + \" \" + tx\n",
        "    s = re.sub(\"[^a-zA-Z0-9]\",\" \", s)\n",
        "    s = re.sub(\"[0-9]{1,3}px\",\" \", s)\n",
        "    s = re.sub(\" [0-9]{1,6} |000\",\" \", s)\n",
        "    s = (\" \").join([stemmer.stem(z) for z in s.split(\" \") if len(z)>2])\n",
        "    s = s.lower()\n",
        "    return s"
      ],
      "metadata": {
        "id": "xe_uw6LLgmSM"
      },
      "execution_count": null,
      "outputs": []
    },
    {
      "cell_type": "code",
      "source": [
        "# Cleaning training data\n",
        "s_data = []\n",
        "for i in range(len(training_data.id)):\n",
        "    s = ML_TEXT_CLEAN(training_data.product_title[i], training_data.product_description[i])\n",
        "    s_data.append((training_data[\"query\"][i], s, str(training_data[\"median_relevance\"][i])))"
      ],
      "metadata": {
        "id": "g1Qp6Dj2hSlt"
      },
      "execution_count": null,
      "outputs": []
    },
    {
      "cell_type": "code",
      "source": [
        "# Cleaning test data\n",
        "t_data = []\n",
        "for i in range(len(test_data.id)):\n",
        "    s = ML_TEXT_CLEAN(test_data.product_title[i], test_data.product_description[i])\n",
        "    t_data.append((test_data[\"query\"][i], s, test_data.id[i]))"
      ],
      "metadata": {
        "id": "RdzH_ScDC1Kf"
      },
      "execution_count": null,
      "outputs": []
    },
    {
      "cell_type": "code",
      "source": [
        "training_df = pd.DataFrame(s_data)\n",
        "test_df = pd.DataFrame(t_data)"
      ],
      "metadata": {
        "id": "xkOYCX2TZG0f"
      },
      "execution_count": null,
      "outputs": []
    },
    {
      "cell_type": "markdown",
      "source": [
        "\n",
        "\n",
        "---\n",
        "\n"
      ],
      "metadata": {
        "id": "AENCOuLyeY20"
      }
    },
    {
      "cell_type": "markdown",
      "source": [
        "SVM"
      ],
      "metadata": {
        "id": "q0_eg8n9_l7H"
      }
    },
    {
      "cell_type": "code",
      "source": [
        "from sklearn.pipeline import Pipeline\n",
        "from sklearn.feature_extraction.text import CountVectorizer\n",
        "from sklearn.svm import SVC\n",
        "from sklearn.decomposition import TruncatedSVD\n",
        "from sklearn.metrics import classification_report\n",
        "from sklearn.preprocessing import StandardScaler"
      ],
      "metadata": {
        "id": "5IBc4JAG_uWf"
      },
      "execution_count": null,
      "outputs": []
    },
    {
      "cell_type": "code",
      "source": [
        "from sklearn.feature_extraction.text import TfidfVectorizer"
      ],
      "metadata": {
        "id": "NbkbnGl8NjEj"
      },
      "execution_count": null,
      "outputs": []
    },
    {
      "cell_type": "code",
      "source": [
        "clf = Pipeline([('v',TfidfVectorizer(max_features=None, strip_accents='unicode', analyzer='word', token_pattern=r'\\w{1,}', ngram_range=(1, 6),\n",
        "                                     use_idf=True, smooth_idf=True, sublinear_tf=True, stop_words = ML_STOP_WORDS)),\n",
        "                ('svd', TruncatedSVD(n_components=100)),  ('scl', StandardScaler()), ('svm', SVC(C=10))])\n",
        "clf.fit(training_df[1], training_df[2])"
      ],
      "metadata": {
        "id": "gZkkqr9Un9se"
      },
      "execution_count": null,
      "outputs": []
    },
    {
      "cell_type": "code",
      "source": [
        "t_labels_svm = clf.predict(test_df[1])"
      ],
      "metadata": {
        "id": "PSve1WLqcwRR"
      },
      "execution_count": null,
      "outputs": []
    },
    {
      "cell_type": "code",
      "source": [
        "t_labels_svm_df = pd.DataFrame (t_labels_svm, columns = ['median_relevance'])"
      ],
      "metadata": {
        "id": "i3NOxtmnpRpj"
      },
      "execution_count": null,
      "outputs": []
    },
    {
      "cell_type": "code",
      "source": [
        "t_labels_svm_df = pd.to_numeric(t_labels_svm_df['median_relevance'])"
      ],
      "metadata": {
        "id": "Ei2MYfTWpirk"
      },
      "execution_count": null,
      "outputs": []
    },
    {
      "cell_type": "code",
      "source": [
        "print(classification_report(test_data['median_relevance'], t_labels_svm_df))"
      ],
      "metadata": {
        "colab": {
          "base_uri": "https://localhost:8080/"
        },
        "id": "ocK7JYy2YAaN",
        "outputId": "d01a3742-e869-4dd7-f35f-99270500f88f"
      },
      "execution_count": null,
      "outputs": [
        {
          "output_type": "stream",
          "name": "stdout",
          "text": [
            "              precision    recall  f1-score   support\n",
            "\n",
            "           1       0.50      0.05      0.09       186\n",
            "           2       0.38      0.11      0.17       337\n",
            "           3       0.41      0.09      0.14       451\n",
            "           4       0.64      0.95      0.76      1566\n",
            "\n",
            "    accuracy                           0.62      2540\n",
            "   macro avg       0.48      0.30      0.29      2540\n",
            "weighted avg       0.55      0.62      0.53      2540\n",
            "\n"
          ]
        }
      ]
    },
    {
      "cell_type": "markdown",
      "source": [
        "\n",
        "\n",
        "---\n",
        "\n"
      ],
      "metadata": {
        "id": "IyyDGk_2mgZa"
      }
    }
  ]
}