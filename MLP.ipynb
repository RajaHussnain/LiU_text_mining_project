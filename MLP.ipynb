{
  "nbformat": 4,
  "nbformat_minor": 0,
  "metadata": {
    "colab": {
      "provenance": []
    },
    "kernelspec": {
      "name": "python3",
      "display_name": "Python 3"
    },
    "language_info": {
      "name": "python"
    }
  },
  "cells": [
    {
      "cell_type": "code",
      "execution_count": 1,
      "metadata": {
        "id": "OZJ3kSGVp8uL"
      },
      "outputs": [],
      "source": [
        "import pandas as pd\n",
        "import numpy as np\n",
        "import matplotlib.pyplot as plt\n",
        "from bs4 import BeautifulSoup\n",
        "from nltk.stem.porter import *\n",
        "import re\n",
        "from sklearn.feature_extraction import text"
      ]
    },
    {
      "cell_type": "code",
      "source": [
        "training_data = pd.read_csv('train.csv', index_col = [0])"
      ],
      "metadata": {
        "id": "ttuxJg9a-CPm"
      },
      "execution_count": 6,
      "outputs": []
    },
    {
      "cell_type": "code",
      "source": [
        "test_data = pd.read_csv('test.csv', index_col = [0])"
      ],
      "metadata": {
        "id": "dd5ppRHKPLca"
      },
      "execution_count": 5,
      "outputs": []
    },
    {
      "cell_type": "code",
      "source": [
        "training_data.product_description = training_data.product_description.fillna('')\n",
        "test_data.product_description = test_data.product_description.fillna('')"
      ],
      "metadata": {
        "id": "CVAgF4GsUVf7"
      },
      "execution_count": 7,
      "outputs": []
    },
    {
      "cell_type": "markdown",
      "source": [
        "Preprocessing"
      ],
      "metadata": {
        "id": "nxHnYUc8A1a4"
      }
    },
    {
      "cell_type": "code",
      "source": [
        "# stop word removal\n",
        "stemmer = PorterStemmer()\n",
        "sw=[]\n",
        "ML_STOP_WORDS = ['http','www','img','border','color','style','padding','table','font','inch','width','height']\n",
        "ML_STOP_WORDS += list(text.ENGLISH_STOP_WORDS)\n",
        "for stw in ML_STOP_WORDS:\n",
        "    sw.append(\"z\"+str(stw))\n",
        "ML_STOP_WORDS += sw\n",
        "for i in range(len(ML_STOP_WORDS)):\n",
        "    ML_STOP_WORDS[i]=stemmer.stem(ML_STOP_WORDS[i])"
      ],
      "metadata": {
        "id": "cXtIl4vEA_Bv"
      },
      "execution_count": 2,
      "outputs": []
    },
    {
      "cell_type": "code",
      "source": [
        "# declarations\n",
        "def ML_TEXT_CLEAN(f2,f3):\n",
        "    if len(f2)<3:\n",
        "        f2=\"feature2null\"\n",
        "    if len(f3)<3:\n",
        "        f3=\"feature3null\"\n",
        "    tx = BeautifulSoup(f3)\n",
        "    tx1 = [x.extract() for x in tx.findAll('script')]\n",
        "    tx = tx.get_text(\" \").strip()\n",
        "    #s = (\" \").join([\"z\"+ str(z) for z in f2.split(\" \")]) + \" \" + tx\n",
        "    s = (\" \").join([str(z) for z in f2.split(\" \")]) + \" \" + tx\n",
        "    s = re.sub(\"[^a-zA-Z0-9]\",\" \", s)\n",
        "    s = re.sub(\"[0-9]{1,3}px\",\" \", s)\n",
        "    s = re.sub(\" [0-9]{1,6} |000\",\" \", s)\n",
        "    s = (\" \").join([stemmer.stem(z) for z in s.split(\" \") if len(z)>2])\n",
        "    s = s.lower()\n",
        "    return s"
      ],
      "metadata": {
        "id": "xe_uw6LLgmSM"
      },
      "execution_count": 3,
      "outputs": []
    },
    {
      "cell_type": "code",
      "source": [
        "# Cleaning training data\n",
        "s_data = []\n",
        "for i in range(len(training_data.id)):\n",
        "    s = ML_TEXT_CLEAN(training_data.product_title[i], training_data.product_description[i])\n",
        "    s_data.append((training_data[\"query\"][i], s, str(training_data[\"median_relevance\"][i])))"
      ],
      "metadata": {
        "id": "g1Qp6Dj2hSlt"
      },
      "execution_count": 8,
      "outputs": []
    },
    {
      "cell_type": "code",
      "source": [
        "# Cleaning test data\n",
        "t_data = []\n",
        "for i in range(len(test_data.id)):\n",
        "    s = ML_TEXT_CLEAN(test_data.product_title[i], test_data.product_description[i])\n",
        "    t_data.append((test_data[\"query\"][i], s, test_data.id[i]))"
      ],
      "metadata": {
        "id": "RdzH_ScDC1Kf"
      },
      "execution_count": 9,
      "outputs": []
    },
    {
      "cell_type": "code",
      "source": [
        "training_df = pd.DataFrame(s_data)\n",
        "test_df = pd.DataFrame(t_data)"
      ],
      "metadata": {
        "id": "xkOYCX2TZG0f"
      },
      "execution_count": 10,
      "outputs": []
    },
    {
      "cell_type": "code",
      "source": [
        "# tf-idf Vectorizer\n",
        "from sklearn.feature_extraction.text import TfidfVectorizer\n",
        "from sklearn.decomposition import TruncatedSVD as SVD\n",
        "\n",
        "tf_idf             = TfidfVectorizer(lowercase=True, stop_words= ML_STOP_WORDS, analyzer='word', ngram_range=(1,2), strip_accents='unicode')\n",
        "svd                = SVD(n_components=200)\n",
        "X_query_doc_tf_idf = svd.fit_transform(tf_idf.fit_transform(training_df[0], training_df[1]))\n",
        "X_query_tf_idf     = svd.transform(tf_idf.transform(training_df[0]))\n",
        "X_doc_tf_idf       = svd.transform(tf_idf.transform(training_df[1]))"
      ],
      "metadata": {
        "id": "46WGGvo-4ov9"
      },
      "execution_count": 11,
      "outputs": []
    },
    {
      "cell_type": "code",
      "source": [
        "# query-doc tf-idf dot product\n",
        "N = len(training_df)\n",
        "dot     = np.reshape([X_query_tf_idf[i].dot(X_doc_tf_idf[i]) for i in range(len(X_query_tf_idf))], (N,1))\n",
        "\n",
        "# Query Perfect Match\n",
        "#N = len(training_df)\n",
        "#match = np.reshape([1 if re.search(training_df[0].iloc[i].lower(), training_df[1].iloc[i].lower()) else 0 for i in range(N)], (N,1))\n",
        "\n",
        "print(\"Extra features done!\")"
      ],
      "metadata": {
        "colab": {
          "base_uri": "https://localhost:8080/"
        },
        "id": "DHdwNhSl7X_M",
        "outputId": "b8696aa1-21e2-4596-d792-6ba88787f2d2"
      },
      "execution_count": 12,
      "outputs": [
        {
          "output_type": "stream",
          "name": "stdout",
          "text": [
            "Extra features done!\n"
          ]
        }
      ]
    },
    {
      "cell_type": "code",
      "source": [
        "from sklearn.preprocessing import StandardScaler\n",
        "\n",
        "ss = StandardScaler()\n",
        "X_query_doc_tf_idf = ss.fit_transform(X_query_doc_tf_idf)\n",
        "\n",
        "ss = StandardScaler()\n",
        "dot = ss.fit_transform(dot)\n",
        "\n",
        "X = np.hstack((X_query_doc_tf_idf,dot))"
      ],
      "metadata": {
        "id": "ggjjoOYZ9GTS"
      },
      "execution_count": 13,
      "outputs": []
    },
    {
      "cell_type": "markdown",
      "source": [
        "\n",
        "\n",
        "---\n",
        "\n"
      ],
      "metadata": {
        "id": "AENCOuLyeY20"
      }
    },
    {
      "cell_type": "markdown",
      "source": [
        "**MLP**"
      ],
      "metadata": {
        "id": "i7t3Edkxs4jj"
      }
    },
    {
      "cell_type": "code",
      "source": [
        "# Training and validation sets\n",
        "from sklearn.model_selection import train_test_split\n",
        "\n",
        "X_train, X_val, y_train, y_val = train_test_split(X[:len(training_df)], training_df[2], test_size=0.15,\n",
        "                                                      stratify=training_df[2])\n",
        "\n",
        "from sklearn.metrics import cohen_kappa_score as kappa\n",
        "\n",
        "Kappa = lambda y_pred, y_true: kappa(np.clip(np.round(y_pred), 1, 4), y_true, weights=\"quadratic\")"
      ],
      "metadata": {
        "id": "KvOZH_tn00PW"
      },
      "execution_count": 14,
      "outputs": []
    },
    {
      "cell_type": "code",
      "source": [
        "from sklearn.neural_network import MLPRegressor"
      ],
      "metadata": {
        "id": "gj2z9feIusTQ"
      },
      "execution_count": 15,
      "outputs": []
    },
    {
      "cell_type": "code",
      "source": [
        "# Neural Net\n",
        "#nn = MLPRegressor(hidden_layer_sizes=(100, ), random_state=1, max_iter=500)\n",
        "#nn = MLPRegressor(hidden_layer_sizes=(100,100,100,100,100,100,100,100,8), random_state=1, max_iter=500, activation='relu')\n",
        "#nn = MLPRegressor(hidden_layer_sizes=(100,100,100,100,100,100,100,100,8), random_state=1, max_iter=500, activation='identity')\n",
        "#nn = MLPRegressor(hidden_layer_sizes=(100,100,100,100,100,100,100,100,8), random_state=1, max_iter=500, activation='tanh')\n",
        "nn = MLPRegressor(hidden_layer_sizes=(100,100,100,100,100,100,100,100,8), random_state=1, max_iter=500, activation='tanh',\n",
        "                  learning_rate='adaptive', learning_rate_init=0.0001, early_stopping=True)\n",
        "nn.fit(X_train, y_train)"
      ],
      "metadata": {
        "id": "HyjpxHpRgqAJ",
        "colab": {
          "base_uri": "https://localhost:8080/"
        },
        "outputId": "c866a052-2986-43c5-ee94-f53077a9e109"
      },
      "execution_count": 16,
      "outputs": [
        {
          "output_type": "execute_result",
          "data": {
            "text/plain": [
              "MLPRegressor(activation='tanh', early_stopping=True,\n",
              "             hidden_layer_sizes=(100, 100, 100, 100, 100, 100, 100, 100, 8),\n",
              "             learning_rate='adaptive', learning_rate_init=0.0001, max_iter=500,\n",
              "             random_state=1)"
            ]
          },
          "metadata": {},
          "execution_count": 16
        }
      ]
    },
    {
      "cell_type": "markdown",
      "source": [
        "For validation data:"
      ],
      "metadata": {
        "id": "iImHqZrDCZio"
      }
    },
    {
      "cell_type": "code",
      "source": [
        "nn_pred = nn.predict(X_val)"
      ],
      "metadata": {
        "id": "E6UKaETK8NdM"
      },
      "execution_count": 17,
      "outputs": []
    },
    {
      "cell_type": "code",
      "source": [
        "y_val = pd.to_numeric(y_val)"
      ],
      "metadata": {
        "id": "Ldk-I_LPA_Y4"
      },
      "execution_count": 18,
      "outputs": []
    },
    {
      "cell_type": "code",
      "source": [
        "print(\"NN Kappa: {0}\".format(Kappa(nn_pred, y_val)))"
      ],
      "metadata": {
        "colab": {
          "base_uri": "https://localhost:8080/"
        },
        "id": "ljOaHmptAU7Q",
        "outputId": "4c9cdc85-eabb-4345-861f-4269186d3d1b"
      },
      "execution_count": 19,
      "outputs": [
        {
          "output_type": "stream",
          "name": "stdout",
          "text": [
            "NN Kappa: 0.5078249498190097\n"
          ]
        }
      ]
    },
    {
      "cell_type": "markdown",
      "source": [
        "With:\n",
        "\n",
        "\n",
        "1.   hidden_layer_sizes=(100, ), random_state=1, max_iter=500\n",
        "2.   hidden_layer_sizes=(100,100,100,100,100,100,100,100,8), random_state=1, max_iter=500, activation='identity'\n",
        "3.   hidden_layer_sizes=(100,100,100,100,100,100,100,100,8), random_state=1, max_iter=500, activation='relu'\n",
        "4.   hidden_layer_sizes=(100,100,100,100,100,100,100,100,8), random_state=1, max_iter=500, activation='tanh'\n",
        "5.   hidden_layer_sizes=(100,100,100,100,100,100,100,100,8), random_state=1, max_iter=500, activation='tanh',learning_rate='adaptive', learning_rate_init=0.0001, early_stopping=True\n",
        "\n",
        "\n",
        "\n",
        "1.   we get validation accuracy around **0.50293**\n",
        "and test data acccuracy around **0.00000**\n",
        "2.   we get validation accuracy around **0.48371**\n",
        "and test data acccuracy around **0.14346**\n",
        "3.   we get validation accuracy around **0.39754**\n",
        "and test data acccuracy around **0.12073**\n",
        "4.   we get validation accuracy around **0.48605**\n",
        "and test data acccuracy around **0.20501**\n",
        "5.   we get validation accuracy around **0.50782**\n",
        "and test data acccuracy around **0.14874**"
      ],
      "metadata": {
        "id": "x6euNM9lH_Dl"
      }
    },
    {
      "cell_type": "markdown",
      "source": [
        "For test data:"
      ],
      "metadata": {
        "id": "GUNP8-b9CVsu"
      }
    },
    {
      "cell_type": "code",
      "source": [
        "# Vectorize test data\n",
        "\n",
        "Y_query_doc_tf_idf = svd.fit_transform(tf_idf.fit_transform(test_df[0], test_df[1]))\n",
        "Y_query_tf_idf     = svd.transform(tf_idf.transform(test_df[0]))\n",
        "Y_doc_tf_idf       = svd.transform(tf_idf.transform(test_df[1]))"
      ],
      "metadata": {
        "id": "dZ2oXOqaCwJp"
      },
      "execution_count": 20,
      "outputs": []
    },
    {
      "cell_type": "code",
      "source": [
        "# query-doc tf-idf dot product\n",
        "N = len(test_df)\n",
        "dot     = np.reshape([Y_query_tf_idf[i].dot(Y_doc_tf_idf[i]) for i in range(len(Y_query_tf_idf))], (N,1))"
      ],
      "metadata": {
        "id": "T9eL5UpFDDg-"
      },
      "execution_count": 21,
      "outputs": []
    },
    {
      "cell_type": "code",
      "source": [
        "ss = StandardScaler()\n",
        "X_query_doc_tf_idf = ss.fit_transform(Y_query_doc_tf_idf)\n",
        "\n",
        "ss = StandardScaler()\n",
        "dot = ss.fit_transform(dot)\n",
        "\n",
        "Y = np.hstack((Y_query_doc_tf_idf,dot))"
      ],
      "metadata": {
        "id": "KwLsWjnzDR-y"
      },
      "execution_count": 22,
      "outputs": []
    },
    {
      "cell_type": "code",
      "source": [
        "nn_pred_test = nn.predict(Y)"
      ],
      "metadata": {
        "id": "OsE-bqRLCIxI"
      },
      "execution_count": 23,
      "outputs": []
    },
    {
      "cell_type": "code",
      "source": [
        "y_test = pd.to_numeric(test_data.median_relevance)"
      ],
      "metadata": {
        "id": "bhaQAyF3D8I2"
      },
      "execution_count": 24,
      "outputs": []
    },
    {
      "cell_type": "code",
      "source": [
        "print(\"NN Kappa: {0}\".format(Kappa(nn_pred_test, y_test)))"
      ],
      "metadata": {
        "colab": {
          "base_uri": "https://localhost:8080/"
        },
        "id": "IJ3q283p_8Qw",
        "outputId": "6398e93a-aeba-4538-ea01-3a972c2dc07b"
      },
      "execution_count": 25,
      "outputs": [
        {
          "output_type": "stream",
          "name": "stdout",
          "text": [
            "NN Kappa: 0.14874783433169336\n"
          ]
        }
      ]
    },
    {
      "cell_type": "code",
      "source": [
        "#np.savetxt(\"file1.txt\", nn_pred_test)"
      ],
      "metadata": {
        "id": "US9gBiqZP5IW"
      },
      "execution_count": null,
      "outputs": []
    },
    {
      "cell_type": "code",
      "source": [
        "'''\n",
        "import matplotlib.pyplot as plt\n",
        "\n",
        "# Pass the x and y cordinates of the bars to the\n",
        "# function. The label argument gives a label to the data.\n",
        "plt.bar(['Simple MLP','Ensemble MLP','Extra-Trees','Elastic-Net'],[0.508, 0.52, 0.53, 0.523])\n",
        "plt.legend()\n",
        "\n",
        "# The following commands add labels to our figure.\n",
        "plt.xlabel('Models')\n",
        "plt.ylabel('Accuracy')\n",
        "plt.title('Accuracy Bar chart')\n",
        "\n",
        "plt.show()\n",
        "'''"
      ],
      "metadata": {
        "id": "fDV7YMq9fQz0"
      },
      "execution_count": null,
      "outputs": []
    }
  ]
}