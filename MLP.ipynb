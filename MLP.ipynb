{
  "cells": [
    {
      "cell_type": "code",
      "execution_count": 2,
      "metadata": {
        "id": "OZJ3kSGVp8uL"
      },
      "outputs": [],
      "source": [
        "import pandas as pd\n",
        "import numpy as np\n",
        "import matplotlib.pyplot as plt\n",
        "from bs4 import BeautifulSoup\n",
        "from nltk.stem.porter import *\n",
        "import re\n",
        "from sklearn.feature_extraction import text\n",
        "\n",
        "# for visualisation\n",
        "import plotly.graph_objs as go\n",
        "from plotly.subplots import make_subplots\n",
        "import matplotlib.pyplot as plt\n",
        "\n",
        "# hide warnings\n",
        "import warnings \n",
        "warnings.filterwarnings(\"ignore\")"
      ]
    },
    {
      "cell_type": "code",
      "execution_count": 4,
      "metadata": {
        "id": "ttuxJg9a-CPm"
      },
      "outputs": [],
      "source": [
        "training_data = pd.read_csv('Data/train.csv', index_col = [0])"
      ]
    },
    {
      "cell_type": "code",
      "execution_count": 5,
      "metadata": {
        "id": "dd5ppRHKPLca"
      },
      "outputs": [],
      "source": [
        "test_data = pd.read_csv('Data/test.csv', index_col = [0])"
      ]
    },
    {
      "cell_type": "code",
      "execution_count": 6,
      "metadata": {
        "id": "CVAgF4GsUVf7"
      },
      "outputs": [],
      "source": [
        "training_data.product_description = training_data.product_description.fillna('')\n",
        "test_data.product_description = test_data.product_description.fillna('')"
      ]
    },
    {
      "cell_type": "markdown",
      "metadata": {
        "id": "nxHnYUc8A1a4"
      },
      "source": [
        "Preprocessing"
      ]
    },
    {
      "cell_type": "code",
      "execution_count": 7,
      "metadata": {
        "id": "cXtIl4vEA_Bv"
      },
      "outputs": [],
      "source": [
        "# stop word removal\n",
        "stemmer = PorterStemmer()\n",
        "sw=[]\n",
        "ML_STOP_WORDS = ['http','www','img','border','color','style','padding','table','font','inch','width','height']\n",
        "ML_STOP_WORDS += list(text.ENGLISH_STOP_WORDS)\n",
        "for stw in ML_STOP_WORDS:\n",
        "    sw.append(\"z\"+str(stw))\n",
        "ML_STOP_WORDS += sw\n",
        "for i in range(len(ML_STOP_WORDS)):\n",
        "    ML_STOP_WORDS[i]=stemmer.stem(ML_STOP_WORDS[i])"
      ]
    },
    {
      "cell_type": "code",
      "execution_count": 8,
      "metadata": {
        "id": "xe_uw6LLgmSM"
      },
      "outputs": [],
      "source": [
        "# declarations\n",
        "def ML_TEXT_CLEAN(f2,f3):\n",
        "    if len(f2)<3:\n",
        "        f2=\"feature2null\"\n",
        "    if len(f3)<3:\n",
        "        f3=\"feature3null\"\n",
        "    tx = BeautifulSoup(f3)\n",
        "    tx1 = [x.extract() for x in tx.findAll('script')]\n",
        "    tx = tx.get_text(\" \").strip()\n",
        "    #s = (\" \").join([\"z\"+ str(z) for z in f2.split(\" \")]) + \" \" + tx\n",
        "    s = (\" \").join([str(z) for z in f2.split(\" \")]) + \" \" + tx\n",
        "    s = re.sub(\"[^a-zA-Z0-9]\",\" \", s)\n",
        "    s = re.sub(\"[0-9]{1,3}px\",\" \", s)\n",
        "    s = re.sub(\" [0-9]{1,6} |000\",\" \", s)\n",
        "    s = (\" \").join([stemmer.stem(z) for z in s.split(\" \") if len(z)>2])\n",
        "    s = s.lower()\n",
        "    return s"
      ]
    },
    {
      "cell_type": "code",
      "execution_count": 9,
      "metadata": {
        "id": "g1Qp6Dj2hSlt"
      },
      "outputs": [],
      "source": [
        "# Cleaning training data\n",
        "s_data = []\n",
        "for i in range(len(training_data.id)):\n",
        "    s = ML_TEXT_CLEAN(training_data.product_title[i], training_data.product_description[i])\n",
        "    s_data.append((training_data[\"query\"][i], s, str(training_data[\"median_relevance\"][i])))"
      ]
    },
    {
      "cell_type": "code",
      "execution_count": 10,
      "metadata": {
        "id": "RdzH_ScDC1Kf"
      },
      "outputs": [],
      "source": [
        "# Cleaning test data\n",
        "t_data = []\n",
        "for i in range(len(test_data.id)):\n",
        "    s = ML_TEXT_CLEAN(test_data.product_title[i], test_data.product_description[i])\n",
        "    t_data.append((test_data[\"query\"][i], s, str(test_data[\"median_relevance\"][i])))"
      ]
    },
    {
      "cell_type": "code",
      "execution_count": 11,
      "metadata": {
        "id": "xkOYCX2TZG0f"
      },
      "outputs": [],
      "source": [
        "training_df = pd.DataFrame(s_data)\n",
        "test_df = pd.DataFrame(t_data)"
      ]
    },
    {
      "cell_type": "code",
      "execution_count": 12,
      "metadata": {
        "id": "46WGGvo-4ov9"
      },
      "outputs": [],
      "source": [
        "# tf-idf Vectorizer\n",
        "from sklearn.feature_extraction.text import TfidfVectorizer\n",
        "from sklearn.decomposition import TruncatedSVD as SVD\n",
        "\n",
        "tf_idf             = TfidfVectorizer(lowercase=True, stop_words= ML_STOP_WORDS, analyzer='word', ngram_range=(1,2), strip_accents='unicode')\n",
        "svd                = SVD(n_components=200)\n",
        "X_query_doc_tf_idf = svd.fit_transform(tf_idf.fit_transform(training_df[0], training_df[1]))\n",
        "X_query_tf_idf     = svd.transform(tf_idf.transform(training_df[0]))\n",
        "X_doc_tf_idf       = svd.transform(tf_idf.transform(training_df[1]))"
      ]
    },
    {
      "cell_type": "code",
      "execution_count": 12,
      "metadata": {
        "colab": {
          "base_uri": "https://localhost:8080/"
        },
        "id": "DHdwNhSl7X_M",
        "outputId": "b8696aa1-21e2-4596-d792-6ba88787f2d2"
      },
      "outputs": [
        {
          "name": "stdout",
          "output_type": "stream",
          "text": [
            "Extra features done!\n"
          ]
        }
      ],
      "source": [
        "# query-doc tf-idf dot product\n",
        "N = len(training_df)\n",
        "dot     = np.reshape([X_query_tf_idf[i].dot(X_doc_tf_idf[i]) for i in range(len(X_query_tf_idf))], (N,1))\n",
        "\n",
        "# Query Perfect Match\n",
        "#N = len(training_df)\n",
        "#match = np.reshape([1 if re.search(training_df[0].iloc[i].lower(), training_df[1].iloc[i].lower()) else 0 for i in range(N)], (N,1))\n",
        "\n",
        "print(\"Extra features done!\")"
      ]
    },
    {
      "cell_type": "code",
      "execution_count": 13,
      "metadata": {
        "id": "ggjjoOYZ9GTS"
      },
      "outputs": [],
      "source": [
        "from sklearn.preprocessing import StandardScaler\n",
        "\n",
        "ss = StandardScaler()\n",
        "X_query_doc_tf_idf = ss.fit_transform(X_query_doc_tf_idf)\n",
        "\n",
        "ss = StandardScaler()\n",
        "dot = ss.fit_transform(dot)\n",
        "\n",
        "X = np.hstack((X_query_doc_tf_idf,dot))"
      ]
    },
    {
      "cell_type": "markdown",
      "metadata": {
        "id": "AENCOuLyeY20"
      },
      "source": [
        "\n",
        "\n",
        "---\n",
        "\n"
      ]
    },
    {
      "cell_type": "markdown",
      "metadata": {
        "id": "i7t3Edkxs4jj"
      },
      "source": [
        "**MLP**"
      ]
    },
    {
      "cell_type": "code",
      "execution_count": 14,
      "metadata": {
        "id": "KvOZH_tn00PW"
      },
      "outputs": [],
      "source": [
        "# Training and validation sets\n",
        "from sklearn.model_selection import train_test_split\n",
        "\n",
        "X_train, X_val, y_train, y_val = train_test_split(X[:len(training_df)], training_df[2], test_size=0.15,\n",
        "                                                      stratify=training_df[2])\n",
        "\n",
        "from sklearn.metrics import cohen_kappa_score as kappa\n",
        "\n",
        "Kappa = lambda y_pred, y_true: kappa(np.clip(np.round(y_pred), 1, 4), y_true, weights=\"quadratic\")"
      ]
    },
    {
      "cell_type": "code",
      "execution_count": 15,
      "metadata": {
        "id": "gj2z9feIusTQ"
      },
      "outputs": [],
      "source": [
        "from sklearn.neural_network import MLPRegressor"
      ]
    },
    {
      "cell_type": "code",
      "execution_count": 16,
      "metadata": {
        "colab": {
          "base_uri": "https://localhost:8080/"
        },
        "id": "HyjpxHpRgqAJ",
        "outputId": "c866a052-2986-43c5-ee94-f53077a9e109"
      },
      "outputs": [
        {
          "data": {
            "text/plain": [
              "MLPRegressor(activation='tanh', early_stopping=True,\n",
              "             hidden_layer_sizes=(100, 100, 100, 100, 100, 100, 100, 100, 8),\n",
              "             learning_rate='adaptive', learning_rate_init=0.0001, max_iter=500,\n",
              "             random_state=1)"
            ]
          },
          "execution_count": 16,
          "metadata": {},
          "output_type": "execute_result"
        }
      ],
      "source": [
        "# Neural Net\n",
        "#nn = MLPRegressor(hidden_layer_sizes=(100, ), random_state=1, max_iter=500)\n",
        "#nn = MLPRegressor(hidden_layer_sizes=(100,100,100,100,100,100,100,100,8), random_state=1, max_iter=500, activation='relu')\n",
        "#nn = MLPRegressor(hidden_layer_sizes=(100,100,100,100,100,100,100,100,8), random_state=1, max_iter=500, activation='identity')\n",
        "#nn = MLPRegressor(hidden_layer_sizes=(100,100,100,100,100,100,100,100,8), random_state=1, max_iter=500, activation='tanh')\n",
        "nn = MLPRegressor(hidden_layer_sizes=(100,100,100,100,100,100,100,100,8), random_state=1, max_iter=500, activation='tanh',\n",
        "                  learning_rate='adaptive', learning_rate_init=0.0001, early_stopping=True)\n",
        "nn.fit(X_train, y_train)"
      ]
    },
    {
      "cell_type": "markdown",
      "metadata": {
        "id": "iImHqZrDCZio"
      },
      "source": [
        "For validation data:"
      ]
    },
    {
      "cell_type": "code",
      "execution_count": 17,
      "metadata": {
        "id": "E6UKaETK8NdM"
      },
      "outputs": [],
      "source": [
        "nn_pred = nn.predict(X_val)"
      ]
    },
    {
      "cell_type": "code",
      "execution_count": 18,
      "metadata": {
        "id": "Ldk-I_LPA_Y4"
      },
      "outputs": [],
      "source": [
        "y_val = pd.to_numeric(y_val)"
      ]
    },
    {
      "cell_type": "code",
      "execution_count": 19,
      "metadata": {
        "colab": {
          "base_uri": "https://localhost:8080/"
        },
        "id": "ljOaHmptAU7Q",
        "outputId": "4c9cdc85-eabb-4345-861f-4269186d3d1b"
      },
      "outputs": [
        {
          "name": "stdout",
          "output_type": "stream",
          "text": [
            "NN Kappa: 0.5078249498190097\n"
          ]
        }
      ],
      "source": [
        "print(\"NN Kappa: {0}\".format(Kappa(nn_pred, y_val)))"
      ]
    },
    {
      "cell_type": "markdown",
      "metadata": {
        "id": "x6euNM9lH_Dl"
      },
      "source": [
        "With:\n",
        "\n",
        "\n",
        "1.   hidden_layer_sizes=(100, ), random_state=1, max_iter=500\n",
        "2.   hidden_layer_sizes=(100,100,100,100,100,100,100,100,8), random_state=1, max_iter=500, activation='identity'\n",
        "3.   hidden_layer_sizes=(100,100,100,100,100,100,100,100,8), random_state=1, max_iter=500, activation='relu'\n",
        "4.   hidden_layer_sizes=(100,100,100,100,100,100,100,100,8), random_state=1, max_iter=500, activation='tanh'\n",
        "5.   hidden_layer_sizes=(100,100,100,100,100,100,100,100,8), random_state=1, max_iter=500, activation='tanh',learning_rate='adaptive', learning_rate_init=0.0001, early_stopping=True\n",
        "\n",
        "\n",
        "\n",
        "1.   we get validation accuracy around **0.50293**\n",
        "and test data acccuracy around **0.00000**\n",
        "2.   we get validation accuracy around **0.48371**\n",
        "and test data acccuracy around **0.14346**\n",
        "3.   we get validation accuracy around **0.39754**\n",
        "and test data acccuracy around **0.12073**\n",
        "4.   we get validation accuracy around **0.48605**\n",
        "and test data acccuracy around **0.20501**\n",
        "5.   we get validation accuracy around **0.50782**\n",
        "and test data acccuracy around **0.14874**"
      ]
    },
    {
      "cell_type": "markdown",
      "metadata": {
        "id": "GUNP8-b9CVsu"
      },
      "source": [
        "For test data:"
      ]
    },
    {
      "cell_type": "code",
      "execution_count": 20,
      "metadata": {
        "id": "dZ2oXOqaCwJp"
      },
      "outputs": [],
      "source": [
        "# Vectorize test data\n",
        "\n",
        "Y_query_doc_tf_idf = svd.fit_transform(tf_idf.fit_transform(test_df[0], test_df[1]))\n",
        "Y_query_tf_idf     = svd.transform(tf_idf.transform(test_df[0]))\n",
        "Y_doc_tf_idf       = svd.transform(tf_idf.transform(test_df[1]))"
      ]
    },
    {
      "cell_type": "code",
      "execution_count": 21,
      "metadata": {
        "id": "T9eL5UpFDDg-"
      },
      "outputs": [],
      "source": [
        "# query-doc tf-idf dot product\n",
        "N = len(test_df)\n",
        "dot     = np.reshape([Y_query_tf_idf[i].dot(Y_doc_tf_idf[i]) for i in range(len(Y_query_tf_idf))], (N,1))"
      ]
    },
    {
      "cell_type": "code",
      "execution_count": 22,
      "metadata": {
        "id": "KwLsWjnzDR-y"
      },
      "outputs": [],
      "source": [
        "ss = StandardScaler()\n",
        "X_query_doc_tf_idf = ss.fit_transform(Y_query_doc_tf_idf)\n",
        "\n",
        "ss = StandardScaler()\n",
        "dot = ss.fit_transform(dot)\n",
        "\n",
        "Y = np.hstack((Y_query_doc_tf_idf,dot))"
      ]
    },
    {
      "cell_type": "code",
      "execution_count": 23,
      "metadata": {
        "id": "OsE-bqRLCIxI"
      },
      "outputs": [],
      "source": [
        "nn_pred_test = nn.predict(Y)"
      ]
    },
    {
      "cell_type": "code",
      "execution_count": 24,
      "metadata": {
        "id": "bhaQAyF3D8I2"
      },
      "outputs": [],
      "source": [
        "y_test = pd.to_numeric(test_data.median_relevance)"
      ]
    },
    {
      "cell_type": "code",
      "execution_count": 25,
      "metadata": {
        "colab": {
          "base_uri": "https://localhost:8080/"
        },
        "id": "IJ3q283p_8Qw",
        "outputId": "6398e93a-aeba-4538-ea01-3a972c2dc07b"
      },
      "outputs": [
        {
          "name": "stdout",
          "output_type": "stream",
          "text": [
            "NN Kappa: 0.14874783433169336\n"
          ]
        }
      ],
      "source": [
        "print(\"NN Kappa: {0}\".format(Kappa(nn_pred_test, y_test)))"
      ]
    }
  ],
  "metadata": {
    "colab": {
      "provenance": []
    },
    "kernelspec": {
      "display_name": "Python 3",
      "name": "python3"
    },
    "language_info": {
      "codemirror_mode": {
        "name": "ipython",
        "version": 3
      },
      "file_extension": ".py",
      "mimetype": "text/x-python",
      "name": "python",
      "nbconvert_exporter": "python",
      "pygments_lexer": "ipython3",
      "version": "3.10.9"
    }
  },
  "nbformat": 4,
  "nbformat_minor": 0
}
