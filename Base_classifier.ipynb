{
  "nbformat": 4,
  "nbformat_minor": 0,
  "metadata": {
    "colab": {
      "provenance": []
    },
    "kernelspec": {
      "name": "python3",
      "display_name": "Python 3"
    },
    "language_info": {
      "name": "python"
    }
  },
  "cells": [
    {
      "cell_type": "code",
      "execution_count": null,
      "metadata": {
        "id": "OZJ3kSGVp8uL"
      },
      "outputs": [],
      "source": [
        "import pandas as pd\n",
        "import numpy as np\n",
        "import matplotlib.pyplot as plt\n",
        "from bs4 import BeautifulSoup\n",
        "from nltk.stem.porter import *\n",
        "import re"
      ]
    },
    {
      "cell_type": "code",
      "source": [
        "training_data = pd.read_csv('train.csv', index_col = [0])"
      ],
      "metadata": {
        "id": "ttuxJg9a-CPm"
      },
      "execution_count": null,
      "outputs": []
    },
    {
      "cell_type": "code",
      "source": [
        "training_data.head()"
      ],
      "metadata": {
        "colab": {
          "base_uri": "https://localhost:8080/",
          "height": 206
        },
        "id": "UxTe5MD4qxIE",
        "outputId": "6c2e40a7-41eb-44cf-f0cf-57c37ef13354"
      },
      "execution_count": null,
      "outputs": [
        {
          "output_type": "execute_result",
          "data": {
            "text/plain": [
              "   id                           query  \\\n",
              "0   0               zippo hand warmer   \n",
              "1   1                    wall mirrors   \n",
              "2   2             rachel ray cookware   \n",
              "3   3  flea and tick control for dogs   \n",
              "4   4                          batman   \n",
              "\n",
              "                                       product_title  \\\n",
              "0  Zippo Black Polish Hand Warmer, with Filling C...   \n",
              "1  Cooper Classics Benedetta Wall Mirrors - 12 di...   \n",
              "2  Rachael Ray Porcelain II Green 10-piece Cookwa...   \n",
              "3  Hartz UltraGuard Plus Flea and Tick Home Fogge...   \n",
              "4  DC Comics Arkham Asylum Batman Series The Joke...   \n",
              "\n",
              "                                 product_description  median_relevance  \n",
              "0                                                NaN                 4  \n",
              "1  The small round shape and shiny nickel finish ...                 4  \n",
              "2  This versatile 10-piece cookware set from Rach...                 4  \n",
              "3  details\\nThe Hartz UltraGuard Plus Home Fogger...                 3  \n",
              "4  <ul>\\n\\t\\t<li>\\n\\t\\t\\tEnglish \\n\\t\\t\\t\\t</li>\\...                 2  "
            ],
            "text/html": [
              "\n",
              "  <div id=\"df-8d9eb174-216f-427b-ba7c-e11842809e96\">\n",
              "    <div class=\"colab-df-container\">\n",
              "      <div>\n",
              "<style scoped>\n",
              "    .dataframe tbody tr th:only-of-type {\n",
              "        vertical-align: middle;\n",
              "    }\n",
              "\n",
              "    .dataframe tbody tr th {\n",
              "        vertical-align: top;\n",
              "    }\n",
              "\n",
              "    .dataframe thead th {\n",
              "        text-align: right;\n",
              "    }\n",
              "</style>\n",
              "<table border=\"1\" class=\"dataframe\">\n",
              "  <thead>\n",
              "    <tr style=\"text-align: right;\">\n",
              "      <th></th>\n",
              "      <th>id</th>\n",
              "      <th>query</th>\n",
              "      <th>product_title</th>\n",
              "      <th>product_description</th>\n",
              "      <th>median_relevance</th>\n",
              "    </tr>\n",
              "  </thead>\n",
              "  <tbody>\n",
              "    <tr>\n",
              "      <th>0</th>\n",
              "      <td>0</td>\n",
              "      <td>zippo hand warmer</td>\n",
              "      <td>Zippo Black Polish Hand Warmer, with Filling C...</td>\n",
              "      <td>NaN</td>\n",
              "      <td>4</td>\n",
              "    </tr>\n",
              "    <tr>\n",
              "      <th>1</th>\n",
              "      <td>1</td>\n",
              "      <td>wall mirrors</td>\n",
              "      <td>Cooper Classics Benedetta Wall Mirrors - 12 di...</td>\n",
              "      <td>The small round shape and shiny nickel finish ...</td>\n",
              "      <td>4</td>\n",
              "    </tr>\n",
              "    <tr>\n",
              "      <th>2</th>\n",
              "      <td>2</td>\n",
              "      <td>rachel ray cookware</td>\n",
              "      <td>Rachael Ray Porcelain II Green 10-piece Cookwa...</td>\n",
              "      <td>This versatile 10-piece cookware set from Rach...</td>\n",
              "      <td>4</td>\n",
              "    </tr>\n",
              "    <tr>\n",
              "      <th>3</th>\n",
              "      <td>3</td>\n",
              "      <td>flea and tick control for dogs</td>\n",
              "      <td>Hartz UltraGuard Plus Flea and Tick Home Fogge...</td>\n",
              "      <td>details\\nThe Hartz UltraGuard Plus Home Fogger...</td>\n",
              "      <td>3</td>\n",
              "    </tr>\n",
              "    <tr>\n",
              "      <th>4</th>\n",
              "      <td>4</td>\n",
              "      <td>batman</td>\n",
              "      <td>DC Comics Arkham Asylum Batman Series The Joke...</td>\n",
              "      <td>&lt;ul&gt;\\n\\t\\t&lt;li&gt;\\n\\t\\t\\tEnglish \\n\\t\\t\\t\\t&lt;/li&gt;\\...</td>\n",
              "      <td>2</td>\n",
              "    </tr>\n",
              "  </tbody>\n",
              "</table>\n",
              "</div>\n",
              "      <button class=\"colab-df-convert\" onclick=\"convertToInteractive('df-8d9eb174-216f-427b-ba7c-e11842809e96')\"\n",
              "              title=\"Convert this dataframe to an interactive table.\"\n",
              "              style=\"display:none;\">\n",
              "        \n",
              "  <svg xmlns=\"http://www.w3.org/2000/svg\" height=\"24px\"viewBox=\"0 0 24 24\"\n",
              "       width=\"24px\">\n",
              "    <path d=\"M0 0h24v24H0V0z\" fill=\"none\"/>\n",
              "    <path d=\"M18.56 5.44l.94 2.06.94-2.06 2.06-.94-2.06-.94-.94-2.06-.94 2.06-2.06.94zm-11 1L8.5 8.5l.94-2.06 2.06-.94-2.06-.94L8.5 2.5l-.94 2.06-2.06.94zm10 10l.94 2.06.94-2.06 2.06-.94-2.06-.94-.94-2.06-.94 2.06-2.06.94z\"/><path d=\"M17.41 7.96l-1.37-1.37c-.4-.4-.92-.59-1.43-.59-.52 0-1.04.2-1.43.59L10.3 9.45l-7.72 7.72c-.78.78-.78 2.05 0 2.83L4 21.41c.39.39.9.59 1.41.59.51 0 1.02-.2 1.41-.59l7.78-7.78 2.81-2.81c.8-.78.8-2.07 0-2.86zM5.41 20L4 18.59l7.72-7.72 1.47 1.35L5.41 20z\"/>\n",
              "  </svg>\n",
              "      </button>\n",
              "      \n",
              "  <style>\n",
              "    .colab-df-container {\n",
              "      display:flex;\n",
              "      flex-wrap:wrap;\n",
              "      gap: 12px;\n",
              "    }\n",
              "\n",
              "    .colab-df-convert {\n",
              "      background-color: #E8F0FE;\n",
              "      border: none;\n",
              "      border-radius: 50%;\n",
              "      cursor: pointer;\n",
              "      display: none;\n",
              "      fill: #1967D2;\n",
              "      height: 32px;\n",
              "      padding: 0 0 0 0;\n",
              "      width: 32px;\n",
              "    }\n",
              "\n",
              "    .colab-df-convert:hover {\n",
              "      background-color: #E2EBFA;\n",
              "      box-shadow: 0px 1px 2px rgba(60, 64, 67, 0.3), 0px 1px 3px 1px rgba(60, 64, 67, 0.15);\n",
              "      fill: #174EA6;\n",
              "    }\n",
              "\n",
              "    [theme=dark] .colab-df-convert {\n",
              "      background-color: #3B4455;\n",
              "      fill: #D2E3FC;\n",
              "    }\n",
              "\n",
              "    [theme=dark] .colab-df-convert:hover {\n",
              "      background-color: #434B5C;\n",
              "      box-shadow: 0px 1px 3px 1px rgba(0, 0, 0, 0.15);\n",
              "      filter: drop-shadow(0px 1px 2px rgba(0, 0, 0, 0.3));\n",
              "      fill: #FFFFFF;\n",
              "    }\n",
              "  </style>\n",
              "\n",
              "      <script>\n",
              "        const buttonEl =\n",
              "          document.querySelector('#df-8d9eb174-216f-427b-ba7c-e11842809e96 button.colab-df-convert');\n",
              "        buttonEl.style.display =\n",
              "          google.colab.kernel.accessAllowed ? 'block' : 'none';\n",
              "\n",
              "        async function convertToInteractive(key) {\n",
              "          const element = document.querySelector('#df-8d9eb174-216f-427b-ba7c-e11842809e96');\n",
              "          const dataTable =\n",
              "            await google.colab.kernel.invokeFunction('convertToInteractive',\n",
              "                                                     [key], {});\n",
              "          if (!dataTable) return;\n",
              "\n",
              "          const docLinkHtml = 'Like what you see? Visit the ' +\n",
              "            '<a target=\"_blank\" href=https://colab.research.google.com/notebooks/data_table.ipynb>data table notebook</a>'\n",
              "            + ' to learn more about interactive tables.';\n",
              "          element.innerHTML = '';\n",
              "          dataTable['output_type'] = 'display_data';\n",
              "          await google.colab.output.renderOutput(dataTable, element);\n",
              "          const docLink = document.createElement('div');\n",
              "          docLink.innerHTML = docLinkHtml;\n",
              "          element.appendChild(docLink);\n",
              "        }\n",
              "      </script>\n",
              "    </div>\n",
              "  </div>\n",
              "  "
            ]
          },
          "metadata": {},
          "execution_count": 6
        }
      ]
    },
    {
      "cell_type": "code",
      "source": [
        "#training_data.loc[training_data['query']==\"zippo hand warmer\"]"
      ],
      "metadata": {
        "id": "kLwIWNBtVfjp"
      },
      "execution_count": null,
      "outputs": []
    },
    {
      "cell_type": "code",
      "source": [
        "test_data = pd.read_csv('test.csv', index_col = [0])"
      ],
      "metadata": {
        "id": "dd5ppRHKPLca"
      },
      "execution_count": null,
      "outputs": []
    },
    {
      "cell_type": "code",
      "source": [
        "test_data.head()"
      ],
      "metadata": {
        "colab": {
          "base_uri": "https://localhost:8080/",
          "height": 206
        },
        "id": "K9He_BWPPZ67",
        "outputId": "4ed46bc1-3b1e-4d8f-ff93-eea1961a5b4d"
      },
      "execution_count": null,
      "outputs": [
        {
          "output_type": "execute_result",
          "data": {
            "text/plain": [
              "   id                    query  \\\n",
              "0   0       pittsburgh pirates   \n",
              "1   1              dish towels   \n",
              "2   2      portable hard drive   \n",
              "3   3  playstation vita system   \n",
              "4   4            galaxy note 3   \n",
              "\n",
              "                                       product_title  \\\n",
              "0  Fanmats Machine-Made Pittsburgh Pirates Black ...   \n",
              "1           Oasis Cotton Flour Sack Towel (Set of 3)   \n",
              "2       Toshiba Canvio Slim 1 TB External Hard Drive   \n",
              "3  Legends Of Chima: Laval's Journey (PlayStation...   \n",
              "4  3M Natural View Screen Protection Film for Sam...   \n",
              "\n",
              "                                 product_description  median_relevance  \n",
              "0  Show your team pride and add style to your tai...                 4  \n",
              "1  These Flour Sack Towelsoffers the ultimate in ...                 3  \n",
              "2  Toshiba Canvio® Slim II for Mac® Portable Exte...                 3  \n",
              "3  Get ready for an epic adventure as Laval races...                 2  \n",
              "4  Helps keep your device screen in pristine, lik...                 2  "
            ],
            "text/html": [
              "\n",
              "  <div id=\"df-98272a75-0c29-4a63-bdbd-86e63cb50c77\">\n",
              "    <div class=\"colab-df-container\">\n",
              "      <div>\n",
              "<style scoped>\n",
              "    .dataframe tbody tr th:only-of-type {\n",
              "        vertical-align: middle;\n",
              "    }\n",
              "\n",
              "    .dataframe tbody tr th {\n",
              "        vertical-align: top;\n",
              "    }\n",
              "\n",
              "    .dataframe thead th {\n",
              "        text-align: right;\n",
              "    }\n",
              "</style>\n",
              "<table border=\"1\" class=\"dataframe\">\n",
              "  <thead>\n",
              "    <tr style=\"text-align: right;\">\n",
              "      <th></th>\n",
              "      <th>id</th>\n",
              "      <th>query</th>\n",
              "      <th>product_title</th>\n",
              "      <th>product_description</th>\n",
              "      <th>median_relevance</th>\n",
              "    </tr>\n",
              "  </thead>\n",
              "  <tbody>\n",
              "    <tr>\n",
              "      <th>0</th>\n",
              "      <td>0</td>\n",
              "      <td>pittsburgh pirates</td>\n",
              "      <td>Fanmats Machine-Made Pittsburgh Pirates Black ...</td>\n",
              "      <td>Show your team pride and add style to your tai...</td>\n",
              "      <td>4</td>\n",
              "    </tr>\n",
              "    <tr>\n",
              "      <th>1</th>\n",
              "      <td>1</td>\n",
              "      <td>dish towels</td>\n",
              "      <td>Oasis Cotton Flour Sack Towel (Set of 3)</td>\n",
              "      <td>These Flour Sack Towelsoffers the ultimate in ...</td>\n",
              "      <td>3</td>\n",
              "    </tr>\n",
              "    <tr>\n",
              "      <th>2</th>\n",
              "      <td>2</td>\n",
              "      <td>portable hard drive</td>\n",
              "      <td>Toshiba Canvio Slim 1 TB External Hard Drive</td>\n",
              "      <td>Toshiba Canvio® Slim II for Mac® Portable Exte...</td>\n",
              "      <td>3</td>\n",
              "    </tr>\n",
              "    <tr>\n",
              "      <th>3</th>\n",
              "      <td>3</td>\n",
              "      <td>playstation vita system</td>\n",
              "      <td>Legends Of Chima: Laval's Journey (PlayStation...</td>\n",
              "      <td>Get ready for an epic adventure as Laval races...</td>\n",
              "      <td>2</td>\n",
              "    </tr>\n",
              "    <tr>\n",
              "      <th>4</th>\n",
              "      <td>4</td>\n",
              "      <td>galaxy note 3</td>\n",
              "      <td>3M Natural View Screen Protection Film for Sam...</td>\n",
              "      <td>Helps keep your device screen in pristine, lik...</td>\n",
              "      <td>2</td>\n",
              "    </tr>\n",
              "  </tbody>\n",
              "</table>\n",
              "</div>\n",
              "      <button class=\"colab-df-convert\" onclick=\"convertToInteractive('df-98272a75-0c29-4a63-bdbd-86e63cb50c77')\"\n",
              "              title=\"Convert this dataframe to an interactive table.\"\n",
              "              style=\"display:none;\">\n",
              "        \n",
              "  <svg xmlns=\"http://www.w3.org/2000/svg\" height=\"24px\"viewBox=\"0 0 24 24\"\n",
              "       width=\"24px\">\n",
              "    <path d=\"M0 0h24v24H0V0z\" fill=\"none\"/>\n",
              "    <path d=\"M18.56 5.44l.94 2.06.94-2.06 2.06-.94-2.06-.94-.94-2.06-.94 2.06-2.06.94zm-11 1L8.5 8.5l.94-2.06 2.06-.94-2.06-.94L8.5 2.5l-.94 2.06-2.06.94zm10 10l.94 2.06.94-2.06 2.06-.94-2.06-.94-.94-2.06-.94 2.06-2.06.94z\"/><path d=\"M17.41 7.96l-1.37-1.37c-.4-.4-.92-.59-1.43-.59-.52 0-1.04.2-1.43.59L10.3 9.45l-7.72 7.72c-.78.78-.78 2.05 0 2.83L4 21.41c.39.39.9.59 1.41.59.51 0 1.02-.2 1.41-.59l7.78-7.78 2.81-2.81c.8-.78.8-2.07 0-2.86zM5.41 20L4 18.59l7.72-7.72 1.47 1.35L5.41 20z\"/>\n",
              "  </svg>\n",
              "      </button>\n",
              "      \n",
              "  <style>\n",
              "    .colab-df-container {\n",
              "      display:flex;\n",
              "      flex-wrap:wrap;\n",
              "      gap: 12px;\n",
              "    }\n",
              "\n",
              "    .colab-df-convert {\n",
              "      background-color: #E8F0FE;\n",
              "      border: none;\n",
              "      border-radius: 50%;\n",
              "      cursor: pointer;\n",
              "      display: none;\n",
              "      fill: #1967D2;\n",
              "      height: 32px;\n",
              "      padding: 0 0 0 0;\n",
              "      width: 32px;\n",
              "    }\n",
              "\n",
              "    .colab-df-convert:hover {\n",
              "      background-color: #E2EBFA;\n",
              "      box-shadow: 0px 1px 2px rgba(60, 64, 67, 0.3), 0px 1px 3px 1px rgba(60, 64, 67, 0.15);\n",
              "      fill: #174EA6;\n",
              "    }\n",
              "\n",
              "    [theme=dark] .colab-df-convert {\n",
              "      background-color: #3B4455;\n",
              "      fill: #D2E3FC;\n",
              "    }\n",
              "\n",
              "    [theme=dark] .colab-df-convert:hover {\n",
              "      background-color: #434B5C;\n",
              "      box-shadow: 0px 1px 3px 1px rgba(0, 0, 0, 0.15);\n",
              "      filter: drop-shadow(0px 1px 2px rgba(0, 0, 0, 0.3));\n",
              "      fill: #FFFFFF;\n",
              "    }\n",
              "  </style>\n",
              "\n",
              "      <script>\n",
              "        const buttonEl =\n",
              "          document.querySelector('#df-98272a75-0c29-4a63-bdbd-86e63cb50c77 button.colab-df-convert');\n",
              "        buttonEl.style.display =\n",
              "          google.colab.kernel.accessAllowed ? 'block' : 'none';\n",
              "\n",
              "        async function convertToInteractive(key) {\n",
              "          const element = document.querySelector('#df-98272a75-0c29-4a63-bdbd-86e63cb50c77');\n",
              "          const dataTable =\n",
              "            await google.colab.kernel.invokeFunction('convertToInteractive',\n",
              "                                                     [key], {});\n",
              "          if (!dataTable) return;\n",
              "\n",
              "          const docLinkHtml = 'Like what you see? Visit the ' +\n",
              "            '<a target=\"_blank\" href=https://colab.research.google.com/notebooks/data_table.ipynb>data table notebook</a>'\n",
              "            + ' to learn more about interactive tables.';\n",
              "          element.innerHTML = '';\n",
              "          dataTable['output_type'] = 'display_data';\n",
              "          await google.colab.output.renderOutput(dataTable, element);\n",
              "          const docLink = document.createElement('div');\n",
              "          docLink.innerHTML = docLinkHtml;\n",
              "          element.appendChild(docLink);\n",
              "        }\n",
              "      </script>\n",
              "    </div>\n",
              "  </div>\n",
              "  "
            ]
          },
          "metadata": {},
          "execution_count": 3
        }
      ]
    },
    {
      "cell_type": "code",
      "source": [
        "training_data.isna().sum()"
      ],
      "metadata": {
        "id": "ZI2y4lGmqvNW",
        "colab": {
          "base_uri": "https://localhost:8080/"
        },
        "outputId": "a92922fe-ad5a-4dbe-8280-3444c089ad46"
      },
      "execution_count": null,
      "outputs": [
        {
          "output_type": "execute_result",
          "data": {
            "text/plain": [
              "id                        0\n",
              "query                     0\n",
              "product_title             0\n",
              "product_description    1842\n",
              "median_relevance          0\n",
              "dtype: int64"
            ]
          },
          "metadata": {},
          "execution_count": 7
        }
      ]
    },
    {
      "cell_type": "code",
      "source": [
        "test_data.isna().sum()"
      ],
      "metadata": {
        "colab": {
          "base_uri": "https://localhost:8080/"
        },
        "id": "s5M3XcylUeMK",
        "outputId": "123f7e65-ecdc-46f7-ef35-8495f8e2ae69"
      },
      "execution_count": null,
      "outputs": [
        {
          "output_type": "execute_result",
          "data": {
            "text/plain": [
              "id                       0\n",
              "query                    0\n",
              "product_title            0\n",
              "product_description    602\n",
              "median_relevance         0\n",
              "dtype: int64"
            ]
          },
          "metadata": {},
          "execution_count": 4
        }
      ]
    },
    {
      "cell_type": "code",
      "source": [
        "training_data.product_description = training_data.product_description.fillna('')\n",
        "test_data.product_description = test_data.product_description.fillna('')"
      ],
      "metadata": {
        "id": "CVAgF4GsUVf7"
      },
      "execution_count": null,
      "outputs": []
    },
    {
      "cell_type": "code",
      "source": [
        "training_data.info()"
      ],
      "metadata": {
        "id": "hfwLwD9yso9D",
        "colab": {
          "base_uri": "https://localhost:8080/"
        },
        "outputId": "7318d036-c49c-460a-bfb8-6da15b87480b"
      },
      "execution_count": null,
      "outputs": [
        {
          "output_type": "stream",
          "name": "stdout",
          "text": [
            "<class 'pandas.core.frame.DataFrame'>\n",
            "Int64Index: 7618 entries, 0 to 7617\n",
            "Data columns (total 5 columns):\n",
            " #   Column               Non-Null Count  Dtype \n",
            "---  ------               --------------  ----- \n",
            " 0   id                   7618 non-null   int64 \n",
            " 1   query                7618 non-null   object\n",
            " 2   product_title        7618 non-null   object\n",
            " 3   product_description  7618 non-null   object\n",
            " 4   median_relevance     7618 non-null   int64 \n",
            "dtypes: int64(2), object(3)\n",
            "memory usage: 357.1+ KB\n"
          ]
        }
      ]
    },
    {
      "cell_type": "code",
      "source": [
        "test_data.info()"
      ],
      "metadata": {
        "colab": {
          "base_uri": "https://localhost:8080/"
        },
        "id": "bIL1lohrUkya",
        "outputId": "c135a35e-61d3-4cad-936a-38e2cdd449ee"
      },
      "execution_count": null,
      "outputs": [
        {
          "output_type": "stream",
          "name": "stdout",
          "text": [
            "<class 'pandas.core.frame.DataFrame'>\n",
            "Int64Index: 2540 entries, 0 to 2539\n",
            "Data columns (total 5 columns):\n",
            " #   Column               Non-Null Count  Dtype \n",
            "---  ------               --------------  ----- \n",
            " 0   id                   2540 non-null   int64 \n",
            " 1   query                2540 non-null   object\n",
            " 2   product_title        2540 non-null   object\n",
            " 3   product_description  2540 non-null   object\n",
            " 4   median_relevance     2540 non-null   int64 \n",
            "dtypes: int64(2), object(3)\n",
            "memory usage: 119.1+ KB\n"
          ]
        }
      ]
    },
    {
      "cell_type": "markdown",
      "source": [
        "Preprocessing"
      ],
      "metadata": {
        "id": "nxHnYUc8A1a4"
      }
    },
    {
      "cell_type": "code",
      "source": [
        "import spacy\n",
        "nlp = spacy.load('en_core_web_sm')\n",
        "nlp.Defaults.stop_words -= {'http','www','img','border','color','style','padding','table','font','inch','width','height'}"
      ],
      "metadata": {
        "id": "cXtIl4vEA_Bv"
      },
      "execution_count": null,
      "outputs": []
    },
    {
      "cell_type": "code",
      "source": [
        "# stop word removal\n",
        "def preprocess(text):\n",
        "  doc = nlp(text)\n",
        "  return [token.lemma_ for token in doc if(not token.is_stop and token.lemma_.isalpha())]"
      ],
      "metadata": {
        "id": "cAhuJcdyA0pI"
      },
      "execution_count": null,
      "outputs": []
    },
    {
      "cell_type": "code",
      "source": [
        "from sklearn.feature_extraction import text\n",
        "# stop word removal\n",
        "stemmer = PorterStemmer()\n",
        "sw=[]\n",
        "ML_STOP_WORDS = ['http','www','img','border','color','style','padding','table','font','inch','width','height']\n",
        "ML_STOP_WORDS += list(text.ENGLISH_STOP_WORDS)\n",
        "for stw in ML_STOP_WORDS:\n",
        "    sw.append(str(stw))\n",
        "ML_STOP_WORDS += sw\n",
        "for i in range(len(ML_STOP_WORDS)):\n",
        "    ML_STOP_WORDS[i]=stemmer.stem(ML_STOP_WORDS[i])"
      ],
      "metadata": {
        "id": "XZ4iZB4_1rri"
      },
      "execution_count": null,
      "outputs": []
    },
    {
      "cell_type": "code",
      "source": [
        "# declarations\n",
        "def ML_TEXT_CLEAN(f2,f3):\n",
        "    if len(f2)<3:\n",
        "        f2=\"feature2null\"\n",
        "    if len(f3)<3:\n",
        "        f3=\"feature3null\"\n",
        "    tx = BeautifulSoup(f3)\n",
        "    tx1 = [x.extract() for x in tx.findAll('script')]\n",
        "    tx = tx.get_text(\" \").strip()\n",
        "    s = (\" \").join([str(z) for z in f2.split(\" \")]) + \" \" + tx\n",
        "    s = re.sub(\"[^a-zA-Z0-9]\",\" \", s)\n",
        "    s = re.sub(\"[0-9]{1,3}px\",\" \", s)\n",
        "    s = re.sub(\" [0-9]{1,6} |000\",\" \", s)\n",
        "    s = (\" \").join([stemmer.stem(z) for z in s.split(\" \") if len(z)>2])\n",
        "    s = s.lower()\n",
        "    return s"
      ],
      "metadata": {
        "id": "xe_uw6LLgmSM"
      },
      "execution_count": null,
      "outputs": []
    },
    {
      "cell_type": "code",
      "source": [
        "# Cleaning training data\n",
        "s_data = []\n",
        "for i in range(len(training_data.id)):\n",
        "    s = ML_TEXT_CLEAN(training_data.product_title[i], training_data.product_description[i])\n",
        "    s_data.append((training_data[\"query\"][i], s, str(training_data[\"median_relevance\"][i])))"
      ],
      "metadata": {
        "id": "g1Qp6Dj2hSlt"
      },
      "execution_count": null,
      "outputs": []
    },
    {
      "cell_type": "code",
      "source": [
        "# Cleaning test data\n",
        "t_data = []\n",
        "for i in range(len(test_data.id)):\n",
        "    s = ML_TEXT_CLEAN(test_data.product_title[i], test_data.product_description[i])\n",
        "    t_data.append((test_data[\"query\"][i], s, test_data.id[i]))"
      ],
      "metadata": {
        "id": "RdzH_ScDC1Kf"
      },
      "execution_count": null,
      "outputs": []
    },
    {
      "cell_type": "code",
      "source": [
        "training_df = pd.DataFrame(s_data)\n",
        "test_df = pd.DataFrame(t_data)"
      ],
      "metadata": {
        "id": "xkOYCX2TZG0f"
      },
      "execution_count": null,
      "outputs": []
    },
    {
      "cell_type": "markdown",
      "source": [
        "\n",
        "\n",
        "---\n",
        "\n"
      ],
      "metadata": {
        "id": "AENCOuLyeY20"
      }
    },
    {
      "cell_type": "markdown",
      "source": [
        "Naive Bayes"
      ],
      "metadata": {
        "id": "q0_eg8n9_l7H"
      }
    },
    {
      "cell_type": "code",
      "source": [
        "from sklearn.pipeline import Pipeline\n",
        "from sklearn.feature_extraction.text import CountVectorizer\n",
        "from sklearn.naive_bayes import MultinomialNB\n",
        "from sklearn.metrics import classification_report"
      ],
      "metadata": {
        "id": "5IBc4JAG_uWf"
      },
      "execution_count": null,
      "outputs": []
    },
    {
      "cell_type": "code",
      "source": [
        "from sklearn.feature_extraction.text import TfidfVectorizer"
      ],
      "metadata": {
        "id": "NbkbnGl8NjEj"
      },
      "execution_count": null,
      "outputs": []
    },
    {
      "cell_type": "code",
      "source": [
        "clf = MultinomialNB(alpha=0.01)\n",
        "v = TfidfVectorizer(use_idf=True,min_df=0,ngram_range=(1,6),lowercase=True,sublinear_tf=True, stop_words = ML_STOP_WORDS)\n",
        "clf.fit(v.fit_transform(training_df[1]), training_df[2])"
      ],
      "metadata": {
        "colab": {
          "base_uri": "https://localhost:8080/"
        },
        "id": "V576yEjNfzqU",
        "outputId": "2adddca0-07ed-4ef4-8f63-697442c92679"
      },
      "execution_count": null,
      "outputs": [
        {
          "output_type": "execute_result",
          "data": {
            "text/plain": [
              "MultinomialNB(alpha=0.01)"
            ]
          },
          "metadata": {},
          "execution_count": 30
        }
      ]
    },
    {
      "cell_type": "code",
      "source": [
        "t_labels_nb = clf.predict(v.transform(test_df[1]))"
      ],
      "metadata": {
        "id": "G0J2vXIzva1j"
      },
      "execution_count": null,
      "outputs": []
    },
    {
      "cell_type": "code",
      "source": [
        "t_labels_nb\n",
        "t_labels_nb_df = pd.DataFrame (t_labels_nb, columns = ['median_relevance'])"
      ],
      "metadata": {
        "id": "mqAAexRBXyL3"
      },
      "execution_count": null,
      "outputs": []
    },
    {
      "cell_type": "code",
      "source": [
        "t_labels_nb_df = pd.to_numeric(t_labels_nb_df['median_relevance'])"
      ],
      "metadata": {
        "id": "XzODz5NNa6-_"
      },
      "execution_count": null,
      "outputs": []
    },
    {
      "cell_type": "code",
      "source": [
        "print(classification_report(test_data['median_relevance'], t_labels_nb_df))"
      ],
      "metadata": {
        "colab": {
          "base_uri": "https://localhost:8080/"
        },
        "id": "EkI3qyjk2O8J",
        "outputId": "2c68ce49-9760-427d-b60a-e3f5adaad63a"
      },
      "execution_count": null,
      "outputs": [
        {
          "output_type": "stream",
          "name": "stdout",
          "text": [
            "              precision    recall  f1-score   support\n",
            "\n",
            "           1       0.57      0.24      0.34       186\n",
            "           2       0.33      0.24      0.28       337\n",
            "           3       0.31      0.20      0.24       451\n",
            "           4       0.70      0.86      0.77      1566\n",
            "\n",
            "    accuracy                           0.62      2540\n",
            "   macro avg       0.48      0.39      0.41      2540\n",
            "weighted avg       0.57      0.62      0.58      2540\n",
            "\n"
          ]
        }
      ]
    },
    {
      "cell_type": "markdown",
      "source": [
        "\n",
        "\n",
        "---\n",
        "\n"
      ],
      "metadata": {
        "id": "IyyDGk_2mgZa"
      }
    }
  ]
}