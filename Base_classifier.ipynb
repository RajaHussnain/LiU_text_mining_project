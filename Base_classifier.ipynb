{
  "cells": [
    {
      "cell_type": "code",
      "execution_count": 2,
      "metadata": {
        "id": "OZJ3kSGVp8uL"
      },
      "outputs": [],
      "source": [
        "import pandas as pd\n",
        "import numpy as np\n",
        "import matplotlib.pyplot as plt\n",
        "from bs4 import BeautifulSoup\n",
        "from nltk.stem.porter import *\n",
        "import re\n",
        "\n",
        "# hide warnings\n",
        "import warnings \n",
        "warnings.filterwarnings(\"ignore\")"
      ]
    },
    {
      "cell_type": "code",
      "execution_count": 3,
      "metadata": {
        "id": "ttuxJg9a-CPm"
      },
      "outputs": [],
      "source": [
        "training_data = pd.read_csv('Data/train.csv', index_col = [0])"
      ]
    },
    {
      "cell_type": "code",
      "execution_count": 4,
      "metadata": {
        "colab": {
          "base_uri": "https://localhost:8080/",
          "height": 206
        },
        "id": "UxTe5MD4qxIE",
        "outputId": "6c2e40a7-41eb-44cf-f0cf-57c37ef13354"
      },
      "outputs": [
        {
          "data": {
            "text/html": [
              "<div>\n",
              "<style scoped>\n",
              "    .dataframe tbody tr th:only-of-type {\n",
              "        vertical-align: middle;\n",
              "    }\n",
              "\n",
              "    .dataframe tbody tr th {\n",
              "        vertical-align: top;\n",
              "    }\n",
              "\n",
              "    .dataframe thead th {\n",
              "        text-align: right;\n",
              "    }\n",
              "</style>\n",
              "<table border=\"1\" class=\"dataframe\">\n",
              "  <thead>\n",
              "    <tr style=\"text-align: right;\">\n",
              "      <th></th>\n",
              "      <th>id</th>\n",
              "      <th>query</th>\n",
              "      <th>product_title</th>\n",
              "      <th>product_description</th>\n",
              "      <th>median_relevance</th>\n",
              "    </tr>\n",
              "  </thead>\n",
              "  <tbody>\n",
              "    <tr>\n",
              "      <th>0</th>\n",
              "      <td>0</td>\n",
              "      <td>zippo hand warmer</td>\n",
              "      <td>Zippo Black Polish Hand Warmer, with Filling C...</td>\n",
              "      <td>NaN</td>\n",
              "      <td>4</td>\n",
              "    </tr>\n",
              "    <tr>\n",
              "      <th>1</th>\n",
              "      <td>1</td>\n",
              "      <td>wall mirrors</td>\n",
              "      <td>Cooper Classics Benedetta Wall Mirrors - 12 di...</td>\n",
              "      <td>The small round shape and shiny nickel finish ...</td>\n",
              "      <td>4</td>\n",
              "    </tr>\n",
              "    <tr>\n",
              "      <th>2</th>\n",
              "      <td>2</td>\n",
              "      <td>rachel ray cookware</td>\n",
              "      <td>Rachael Ray Porcelain II Green 10-piece Cookwa...</td>\n",
              "      <td>This versatile 10-piece cookware set from Rach...</td>\n",
              "      <td>4</td>\n",
              "    </tr>\n",
              "    <tr>\n",
              "      <th>3</th>\n",
              "      <td>3</td>\n",
              "      <td>flea and tick control for dogs</td>\n",
              "      <td>Hartz UltraGuard Plus Flea and Tick Home Fogge...</td>\n",
              "      <td>details\\nThe Hartz UltraGuard Plus Home Fogger...</td>\n",
              "      <td>3</td>\n",
              "    </tr>\n",
              "    <tr>\n",
              "      <th>4</th>\n",
              "      <td>4</td>\n",
              "      <td>batman</td>\n",
              "      <td>DC Comics Arkham Asylum Batman Series The Joke...</td>\n",
              "      <td>&lt;ul&gt;\\n\\t\\t&lt;li&gt;\\n\\t\\t\\tEnglish \\n\\t\\t\\t\\t&lt;/li&gt;\\...</td>\n",
              "      <td>2</td>\n",
              "    </tr>\n",
              "  </tbody>\n",
              "</table>\n",
              "</div>"
            ],
            "text/plain": [
              "   id                           query  \\\n",
              "0   0               zippo hand warmer   \n",
              "1   1                    wall mirrors   \n",
              "2   2             rachel ray cookware   \n",
              "3   3  flea and tick control for dogs   \n",
              "4   4                          batman   \n",
              "\n",
              "                                       product_title  \\\n",
              "0  Zippo Black Polish Hand Warmer, with Filling C...   \n",
              "1  Cooper Classics Benedetta Wall Mirrors - 12 di...   \n",
              "2  Rachael Ray Porcelain II Green 10-piece Cookwa...   \n",
              "3  Hartz UltraGuard Plus Flea and Tick Home Fogge...   \n",
              "4  DC Comics Arkham Asylum Batman Series The Joke...   \n",
              "\n",
              "                                 product_description  median_relevance  \n",
              "0                                                NaN                 4  \n",
              "1  The small round shape and shiny nickel finish ...                 4  \n",
              "2  This versatile 10-piece cookware set from Rach...                 4  \n",
              "3  details\\nThe Hartz UltraGuard Plus Home Fogger...                 3  \n",
              "4  <ul>\\n\\t\\t<li>\\n\\t\\t\\tEnglish \\n\\t\\t\\t\\t</li>\\...                 2  "
            ]
          },
          "execution_count": 4,
          "metadata": {},
          "output_type": "execute_result"
        }
      ],
      "source": [
        "training_data.head()"
      ]
    },
    {
      "cell_type": "code",
      "execution_count": 5,
      "metadata": {
        "id": "dd5ppRHKPLca"
      },
      "outputs": [],
      "source": [
        "test_data = pd.read_csv('Data/test.csv', index_col = [0])"
      ]
    },
    {
      "cell_type": "code",
      "execution_count": 6,
      "metadata": {
        "colab": {
          "base_uri": "https://localhost:8080/",
          "height": 206
        },
        "id": "K9He_BWPPZ67",
        "outputId": "4ed46bc1-3b1e-4d8f-ff93-eea1961a5b4d"
      },
      "outputs": [
        {
          "data": {
            "text/html": [
              "<div>\n",
              "<style scoped>\n",
              "    .dataframe tbody tr th:only-of-type {\n",
              "        vertical-align: middle;\n",
              "    }\n",
              "\n",
              "    .dataframe tbody tr th {\n",
              "        vertical-align: top;\n",
              "    }\n",
              "\n",
              "    .dataframe thead th {\n",
              "        text-align: right;\n",
              "    }\n",
              "</style>\n",
              "<table border=\"1\" class=\"dataframe\">\n",
              "  <thead>\n",
              "    <tr style=\"text-align: right;\">\n",
              "      <th></th>\n",
              "      <th>id</th>\n",
              "      <th>query</th>\n",
              "      <th>product_title</th>\n",
              "      <th>product_description</th>\n",
              "      <th>median_relevance</th>\n",
              "    </tr>\n",
              "  </thead>\n",
              "  <tbody>\n",
              "    <tr>\n",
              "      <th>0</th>\n",
              "      <td>0</td>\n",
              "      <td>pittsburgh pirates</td>\n",
              "      <td>Fanmats Machine-Made Pittsburgh Pirates Black ...</td>\n",
              "      <td>Show your team pride and add style to your tai...</td>\n",
              "      <td>4</td>\n",
              "    </tr>\n",
              "    <tr>\n",
              "      <th>1</th>\n",
              "      <td>1</td>\n",
              "      <td>dish towels</td>\n",
              "      <td>Oasis Cotton Flour Sack Towel (Set of 3)</td>\n",
              "      <td>These Flour Sack Towelsoffers the ultimate in ...</td>\n",
              "      <td>3</td>\n",
              "    </tr>\n",
              "    <tr>\n",
              "      <th>2</th>\n",
              "      <td>2</td>\n",
              "      <td>portable hard drive</td>\n",
              "      <td>Toshiba Canvio Slim 1 TB External Hard Drive</td>\n",
              "      <td>Toshiba Canvio® Slim II for Mac® Portable Exte...</td>\n",
              "      <td>3</td>\n",
              "    </tr>\n",
              "    <tr>\n",
              "      <th>3</th>\n",
              "      <td>3</td>\n",
              "      <td>playstation vita system</td>\n",
              "      <td>Legends Of Chima: Laval's Journey (PlayStation...</td>\n",
              "      <td>Get ready for an epic adventure as Laval races...</td>\n",
              "      <td>2</td>\n",
              "    </tr>\n",
              "    <tr>\n",
              "      <th>4</th>\n",
              "      <td>4</td>\n",
              "      <td>galaxy note 3</td>\n",
              "      <td>3M Natural View Screen Protection Film for Sam...</td>\n",
              "      <td>Helps keep your device screen in pristine, lik...</td>\n",
              "      <td>2</td>\n",
              "    </tr>\n",
              "  </tbody>\n",
              "</table>\n",
              "</div>"
            ],
            "text/plain": [
              "   id                    query  \\\n",
              "0   0       pittsburgh pirates   \n",
              "1   1              dish towels   \n",
              "2   2      portable hard drive   \n",
              "3   3  playstation vita system   \n",
              "4   4            galaxy note 3   \n",
              "\n",
              "                                       product_title  \\\n",
              "0  Fanmats Machine-Made Pittsburgh Pirates Black ...   \n",
              "1           Oasis Cotton Flour Sack Towel (Set of 3)   \n",
              "2       Toshiba Canvio Slim 1 TB External Hard Drive   \n",
              "3  Legends Of Chima: Laval's Journey (PlayStation...   \n",
              "4  3M Natural View Screen Protection Film for Sam...   \n",
              "\n",
              "                                 product_description  median_relevance  \n",
              "0  Show your team pride and add style to your tai...                 4  \n",
              "1  These Flour Sack Towelsoffers the ultimate in ...                 3  \n",
              "2  Toshiba Canvio® Slim II for Mac® Portable Exte...                 3  \n",
              "3  Get ready for an epic adventure as Laval races...                 2  \n",
              "4  Helps keep your device screen in pristine, lik...                 2  "
            ]
          },
          "execution_count": 6,
          "metadata": {},
          "output_type": "execute_result"
        }
      ],
      "source": [
        "test_data.head()"
      ]
    },
    {
      "cell_type": "code",
      "execution_count": 11,
      "metadata": {
        "colab": {
          "base_uri": "https://localhost:8080/"
        },
        "id": "ZI2y4lGmqvNW",
        "outputId": "a92922fe-ad5a-4dbe-8280-3444c089ad46"
      },
      "outputs": [
        {
          "data": {
            "text/plain": [
              "id                     0\n",
              "query                  0\n",
              "product_title          0\n",
              "product_description    0\n",
              "median_relevance       0\n",
              "dtype: int64"
            ]
          },
          "execution_count": 11,
          "metadata": {},
          "output_type": "execute_result"
        }
      ],
      "source": [
        "training_data.isna().sum()"
      ]
    },
    {
      "cell_type": "code",
      "execution_count": 12,
      "metadata": {
        "colab": {
          "base_uri": "https://localhost:8080/"
        },
        "id": "s5M3XcylUeMK",
        "outputId": "123f7e65-ecdc-46f7-ef35-8495f8e2ae69"
      },
      "outputs": [
        {
          "data": {
            "text/plain": [
              "id                     0\n",
              "query                  0\n",
              "product_title          0\n",
              "product_description    0\n",
              "median_relevance       0\n",
              "dtype: int64"
            ]
          },
          "execution_count": 12,
          "metadata": {},
          "output_type": "execute_result"
        }
      ],
      "source": [
        "test_data.isna().sum()"
      ]
    },
    {
      "cell_type": "code",
      "execution_count": 13,
      "metadata": {
        "id": "CVAgF4GsUVf7"
      },
      "outputs": [],
      "source": [
        "training_data.product_description = training_data.product_description.fillna('')\n",
        "test_data.product_description = test_data.product_description.fillna('')"
      ]
    },
    {
      "cell_type": "code",
      "execution_count": 14,
      "metadata": {
        "colab": {
          "base_uri": "https://localhost:8080/"
        },
        "id": "hfwLwD9yso9D",
        "outputId": "7318d036-c49c-460a-bfb8-6da15b87480b"
      },
      "outputs": [
        {
          "name": "stdout",
          "output_type": "stream",
          "text": [
            "<class 'pandas.core.frame.DataFrame'>\n",
            "Int64Index: 7618 entries, 0 to 7617\n",
            "Data columns (total 5 columns):\n",
            " #   Column               Non-Null Count  Dtype \n",
            "---  ------               --------------  ----- \n",
            " 0   id                   7618 non-null   int64 \n",
            " 1   query                7618 non-null   object\n",
            " 2   product_title        7618 non-null   object\n",
            " 3   product_description  7618 non-null   object\n",
            " 4   median_relevance     7618 non-null   int64 \n",
            "dtypes: int64(2), object(3)\n",
            "memory usage: 357.1+ KB\n"
          ]
        }
      ],
      "source": [
        "training_data.info()"
      ]
    },
    {
      "cell_type": "code",
      "execution_count": 15,
      "metadata": {
        "colab": {
          "base_uri": "https://localhost:8080/"
        },
        "id": "bIL1lohrUkya",
        "outputId": "c135a35e-61d3-4cad-936a-38e2cdd449ee"
      },
      "outputs": [
        {
          "name": "stdout",
          "output_type": "stream",
          "text": [
            "<class 'pandas.core.frame.DataFrame'>\n",
            "Int64Index: 2540 entries, 0 to 2539\n",
            "Data columns (total 5 columns):\n",
            " #   Column               Non-Null Count  Dtype \n",
            "---  ------               --------------  ----- \n",
            " 0   id                   2540 non-null   int64 \n",
            " 1   query                2540 non-null   object\n",
            " 2   product_title        2540 non-null   object\n",
            " 3   product_description  2540 non-null   object\n",
            " 4   median_relevance     2540 non-null   int64 \n",
            "dtypes: int64(2), object(3)\n",
            "memory usage: 119.1+ KB\n"
          ]
        }
      ],
      "source": [
        "test_data.info()"
      ]
    },
    {
      "cell_type": "markdown",
      "metadata": {
        "id": "nxHnYUc8A1a4"
      },
      "source": [
        "Preprocessing"
      ]
    },
    {
      "cell_type": "code",
      "execution_count": 16,
      "metadata": {
        "id": "cXtIl4vEA_Bv"
      },
      "outputs": [],
      "source": [
        "import spacy\n",
        "nlp = spacy.load('en_core_web_sm')\n",
        "nlp.Defaults.stop_words -= {'http','www','img','border','color','style','padding','table','font','inch','width','height'}"
      ]
    },
    {
      "cell_type": "code",
      "execution_count": 17,
      "metadata": {
        "id": "cAhuJcdyA0pI"
      },
      "outputs": [],
      "source": [
        "# stop word removal\n",
        "def preprocess(text):\n",
        "  doc = nlp(text)\n",
        "  return [token.lemma_ for token in doc if(not token.is_stop and token.lemma_.isalpha())]"
      ]
    },
    {
      "cell_type": "code",
      "execution_count": 18,
      "metadata": {
        "id": "XZ4iZB4_1rri"
      },
      "outputs": [],
      "source": [
        "from sklearn.feature_extraction import text\n",
        "# stop word removal\n",
        "stemmer = PorterStemmer()\n",
        "sw=[]\n",
        "ML_STOP_WORDS = ['http','www','img','border','color','style','padding','table','font','inch','width','height']\n",
        "ML_STOP_WORDS += list(text.ENGLISH_STOP_WORDS)\n",
        "for stw in ML_STOP_WORDS:\n",
        "    sw.append(str(stw))\n",
        "ML_STOP_WORDS += sw\n",
        "for i in range(len(ML_STOP_WORDS)):\n",
        "    ML_STOP_WORDS[i]=stemmer.stem(ML_STOP_WORDS[i])"
      ]
    },
    {
      "cell_type": "code",
      "execution_count": 19,
      "metadata": {
        "id": "xe_uw6LLgmSM"
      },
      "outputs": [],
      "source": [
        "# declarations\n",
        "def ML_TEXT_CLEAN(f2,f3):\n",
        "    if len(f2)<3:\n",
        "        f2=\"feature2null\"\n",
        "    if len(f3)<3:\n",
        "        f3=\"feature3null\"\n",
        "    tx = BeautifulSoup(f3)\n",
        "    tx1 = [x.extract() for x in tx.findAll('script')]\n",
        "    tx = tx.get_text(\" \").strip()\n",
        "    s = (\" \").join([str(z) for z in f2.split(\" \")]) + \" \" + tx\n",
        "    s = re.sub(\"[^a-zA-Z0-9]\",\" \", s)\n",
        "    s = re.sub(\"[0-9]{1,3}px\",\" \", s)\n",
        "    s = re.sub(\" [0-9]{1,6} |000\",\" \", s)\n",
        "    s = (\" \").join([stemmer.stem(z) for z in s.split(\" \") if len(z)>2])\n",
        "    s = s.lower()\n",
        "    return s"
      ]
    },
    {
      "cell_type": "code",
      "execution_count": 20,
      "metadata": {
        "id": "g1Qp6Dj2hSlt"
      },
      "outputs": [],
      "source": [
        "# Cleaning training data\n",
        "s_data = []\n",
        "for i in range(len(training_data.id)):\n",
        "    s = ML_TEXT_CLEAN(training_data.product_title[i], training_data.product_description[i])\n",
        "    s_data.append((training_data[\"query\"][i], s, str(training_data[\"median_relevance\"][i])))"
      ]
    },
    {
      "cell_type": "code",
      "execution_count": 21,
      "metadata": {
        "id": "RdzH_ScDC1Kf"
      },
      "outputs": [],
      "source": [
        "# Cleaning test data\n",
        "t_data = []\n",
        "for i in range(len(test_data.id)):\n",
        "    s = ML_TEXT_CLEAN(test_data.product_title[i], test_data.product_description[i])\n",
        "    t_data.append((test_data[\"query\"][i], s, test_data.id[i]))"
      ]
    },
    {
      "cell_type": "code",
      "execution_count": 22,
      "metadata": {
        "id": "xkOYCX2TZG0f"
      },
      "outputs": [],
      "source": [
        "training_df = pd.DataFrame(s_data)\n",
        "test_df = pd.DataFrame(t_data)"
      ]
    },
    {
      "cell_type": "markdown",
      "metadata": {
        "id": "AENCOuLyeY20"
      },
      "source": [
        "\n",
        "\n",
        "---\n",
        "\n"
      ]
    },
    {
      "cell_type": "markdown",
      "metadata": {
        "id": "q0_eg8n9_l7H"
      },
      "source": [
        "Naive Bayes"
      ]
    },
    {
      "cell_type": "code",
      "execution_count": 23,
      "metadata": {
        "id": "5IBc4JAG_uWf"
      },
      "outputs": [],
      "source": [
        "from sklearn.pipeline import Pipeline\n",
        "from sklearn.feature_extraction.text import CountVectorizer\n",
        "from sklearn.naive_bayes import MultinomialNB\n",
        "from sklearn.metrics import classification_report\n",
        "from sklearn.feature_extraction.text import TfidfVectorizer"
      ]
    },
    {
      "cell_type": "code",
      "execution_count": 24,
      "metadata": {
        "colab": {
          "base_uri": "https://localhost:8080/"
        },
        "id": "V576yEjNfzqU",
        "outputId": "2adddca0-07ed-4ef4-8f63-697442c92679"
      },
      "outputs": [
        {
          "data": {
            "text/html": [
              "<style>#sk-container-id-1 {color: black;background-color: white;}#sk-container-id-1 pre{padding: 0;}#sk-container-id-1 div.sk-toggleable {background-color: white;}#sk-container-id-1 label.sk-toggleable__label {cursor: pointer;display: block;width: 100%;margin-bottom: 0;padding: 0.3em;box-sizing: border-box;text-align: center;}#sk-container-id-1 label.sk-toggleable__label-arrow:before {content: \"▸\";float: left;margin-right: 0.25em;color: #696969;}#sk-container-id-1 label.sk-toggleable__label-arrow:hover:before {color: black;}#sk-container-id-1 div.sk-estimator:hover label.sk-toggleable__label-arrow:before {color: black;}#sk-container-id-1 div.sk-toggleable__content {max-height: 0;max-width: 0;overflow: hidden;text-align: left;background-color: #f0f8ff;}#sk-container-id-1 div.sk-toggleable__content pre {margin: 0.2em;color: black;border-radius: 0.25em;background-color: #f0f8ff;}#sk-container-id-1 input.sk-toggleable__control:checked~div.sk-toggleable__content {max-height: 200px;max-width: 100%;overflow: auto;}#sk-container-id-1 input.sk-toggleable__control:checked~label.sk-toggleable__label-arrow:before {content: \"▾\";}#sk-container-id-1 div.sk-estimator input.sk-toggleable__control:checked~label.sk-toggleable__label {background-color: #d4ebff;}#sk-container-id-1 div.sk-label input.sk-toggleable__control:checked~label.sk-toggleable__label {background-color: #d4ebff;}#sk-container-id-1 input.sk-hidden--visually {border: 0;clip: rect(1px 1px 1px 1px);clip: rect(1px, 1px, 1px, 1px);height: 1px;margin: -1px;overflow: hidden;padding: 0;position: absolute;width: 1px;}#sk-container-id-1 div.sk-estimator {font-family: monospace;background-color: #f0f8ff;border: 1px dotted black;border-radius: 0.25em;box-sizing: border-box;margin-bottom: 0.5em;}#sk-container-id-1 div.sk-estimator:hover {background-color: #d4ebff;}#sk-container-id-1 div.sk-parallel-item::after {content: \"\";width: 100%;border-bottom: 1px solid gray;flex-grow: 1;}#sk-container-id-1 div.sk-label:hover label.sk-toggleable__label {background-color: #d4ebff;}#sk-container-id-1 div.sk-serial::before {content: \"\";position: absolute;border-left: 1px solid gray;box-sizing: border-box;top: 0;bottom: 0;left: 50%;z-index: 0;}#sk-container-id-1 div.sk-serial {display: flex;flex-direction: column;align-items: center;background-color: white;padding-right: 0.2em;padding-left: 0.2em;position: relative;}#sk-container-id-1 div.sk-item {position: relative;z-index: 1;}#sk-container-id-1 div.sk-parallel {display: flex;align-items: stretch;justify-content: center;background-color: white;position: relative;}#sk-container-id-1 div.sk-item::before, #sk-container-id-1 div.sk-parallel-item::before {content: \"\";position: absolute;border-left: 1px solid gray;box-sizing: border-box;top: 0;bottom: 0;left: 50%;z-index: -1;}#sk-container-id-1 div.sk-parallel-item {display: flex;flex-direction: column;z-index: 1;position: relative;background-color: white;}#sk-container-id-1 div.sk-parallel-item:first-child::after {align-self: flex-end;width: 50%;}#sk-container-id-1 div.sk-parallel-item:last-child::after {align-self: flex-start;width: 50%;}#sk-container-id-1 div.sk-parallel-item:only-child::after {width: 0;}#sk-container-id-1 div.sk-dashed-wrapped {border: 1px dashed gray;margin: 0 0.4em 0.5em 0.4em;box-sizing: border-box;padding-bottom: 0.4em;background-color: white;}#sk-container-id-1 div.sk-label label {font-family: monospace;font-weight: bold;display: inline-block;line-height: 1.2em;}#sk-container-id-1 div.sk-label-container {text-align: center;}#sk-container-id-1 div.sk-container {/* jupyter's `normalize.less` sets `[hidden] { display: none; }` but bootstrap.min.css set `[hidden] { display: none !important; }` so we also need the `!important` here to be able to override the default hidden behavior on the sphinx rendered scikit-learn.org. See: https://github.com/scikit-learn/scikit-learn/issues/21755 */display: inline-block !important;position: relative;}#sk-container-id-1 div.sk-text-repr-fallback {display: none;}</style><div id=\"sk-container-id-1\" class=\"sk-top-container\"><div class=\"sk-text-repr-fallback\"><pre>MultinomialNB(alpha=0.01)</pre><b>In a Jupyter environment, please rerun this cell to show the HTML representation or trust the notebook. <br />On GitHub, the HTML representation is unable to render, please try loading this page with nbviewer.org.</b></div><div class=\"sk-container\" hidden><div class=\"sk-item\"><div class=\"sk-estimator sk-toggleable\"><input class=\"sk-toggleable__control sk-hidden--visually\" id=\"sk-estimator-id-1\" type=\"checkbox\" checked><label for=\"sk-estimator-id-1\" class=\"sk-toggleable__label sk-toggleable__label-arrow\">MultinomialNB</label><div class=\"sk-toggleable__content\"><pre>MultinomialNB(alpha=0.01)</pre></div></div></div></div></div>"
            ],
            "text/plain": [
              "MultinomialNB(alpha=0.01)"
            ]
          },
          "execution_count": 24,
          "metadata": {},
          "output_type": "execute_result"
        }
      ],
      "source": [
        "clf = MultinomialNB(alpha=0.01)\n",
        "v = TfidfVectorizer(use_idf=True,min_df=0,ngram_range=(1,6),lowercase=True,sublinear_tf=True, stop_words = ML_STOP_WORDS)\n",
        "clf.fit(v.fit_transform(training_df[1]), training_df[2])"
      ]
    },
    {
      "cell_type": "code",
      "execution_count": 25,
      "metadata": {
        "id": "G0J2vXIzva1j"
      },
      "outputs": [],
      "source": [
        "t_labels_nb = clf.predict(v.transform(test_df[1]))"
      ]
    },
    {
      "cell_type": "code",
      "execution_count": 26,
      "metadata": {
        "id": "mqAAexRBXyL3"
      },
      "outputs": [],
      "source": [
        "t_labels_nb\n",
        "t_labels_nb_df = pd.DataFrame (t_labels_nb, columns = ['median_relevance'])"
      ]
    },
    {
      "cell_type": "code",
      "execution_count": 27,
      "metadata": {
        "id": "XzODz5NNa6-_"
      },
      "outputs": [],
      "source": [
        "t_labels_nb_df = pd.to_numeric(t_labels_nb_df['median_relevance'])"
      ]
    },
    {
      "cell_type": "code",
      "execution_count": 28,
      "metadata": {
        "colab": {
          "base_uri": "https://localhost:8080/"
        },
        "id": "EkI3qyjk2O8J",
        "outputId": "2c68ce49-9760-427d-b60a-e3f5adaad63a"
      },
      "outputs": [
        {
          "name": "stdout",
          "output_type": "stream",
          "text": [
            "              precision    recall  f1-score   support\n",
            "\n",
            "           1       0.57      0.24      0.34       186\n",
            "           2       0.33      0.24      0.28       337\n",
            "           3       0.31      0.20      0.24       451\n",
            "           4       0.70      0.86      0.77      1566\n",
            "\n",
            "    accuracy                           0.62      2540\n",
            "   macro avg       0.48      0.39      0.41      2540\n",
            "weighted avg       0.57      0.62      0.58      2540\n",
            "\n"
          ]
        }
      ],
      "source": [
        "print(classification_report(test_data['median_relevance'], t_labels_nb_df))"
      ]
    },
    {
      "cell_type": "code",
      "execution_count": 29,
      "metadata": {},
      "outputs": [],
      "source": [
        "from sklearn.metrics import classification_report, confusion_matrix, ConfusionMatrixDisplay"
      ]
    },
    {
      "cell_type": "code",
      "execution_count": 30,
      "metadata": {},
      "outputs": [
        {
          "data": {
            "image/png": "[encoded data removed]",
            "text/plain": [
              "<Figure size 400x400 with 2 Axes>"
            ]
          },
          "metadata": {},
          "output_type": "display_data"
        }
      ],
      "source": [
        "# plot the confusion matrix\n",
        "base_cm = confusion_matrix(test_data['median_relevance'], t_labels_nb_df)\n",
        "base_disp = ConfusionMatrixDisplay(confusion_matrix=base_cm)\n",
        "\n",
        "base_disp.plot(cmap=plt.cm.Blues)\n",
        "base_disp.figure_.set_size_inches(4,4)\n",
        "plt.xticks(rotation=50)\n",
        "plt.show()"
      ]
    },
    {
      "cell_type": "markdown",
      "metadata": {
        "id": "IyyDGk_2mgZa"
      },
      "source": [
        "\n",
        "\n",
        "---\n",
        "\n"
      ]
    },
    {
      "attachments": {},
      "cell_type": "markdown",
      "metadata": {},
      "source": [
        "Grid Search"
      ]
    },
    {
      "cell_type": "code",
      "execution_count": 38,
      "metadata": {},
      "outputs": [],
      "source": [
        "from sklearn.model_selection import GridSearchCV"
      ]
    },
    {
      "cell_type": "code",
      "execution_count": 34,
      "metadata": {},
      "outputs": [
        {
          "name": "stdout",
          "output_type": "stream",
          "text": [
            "Best parameters:  {'classifier__alpha': 0.1, 'vectorizer__binary': True, 'vectorizer__ngram_range': (1, 1)}\n",
            "Best score:  0.6187958735952491\n"
          ]
        }
      ],
      "source": [
        "# Grid search parameters\n",
        "param_grid = {\n",
        "    'vectorizer__binary': (True, False),\n",
        "    'classifier__alpha': (0.1, 0.2, 0.5, 0.8, 1.0, 1.2, 1.5),\n",
        "    'vectorizer__ngram_range': [(1, 1), (1, 2)]\n",
        "}\n",
        "\n",
        "# Classifier and the vectorizer\n",
        "clf = MultinomialNB()\n",
        "v = TfidfVectorizer(use_idf=True, min_df=0, lowercase=True, sublinear_tf=True, stop_words=ML_STOP_WORDS)\n",
        "\n",
        "# Define the pipeline\n",
        "pipeline = Pipeline([\n",
        "    ('vectorizer', v),\n",
        "    ('classifier', clf)\n",
        "])\n",
        "\n",
        "# Perform the grid search\n",
        "grid_search = GridSearchCV(pipeline, param_grid, cv=5, refit=True)\n",
        "grid_search.fit(training_df[1], training_df[2])\n",
        "\n",
        "# Print the best parameters and the corresponding score\n",
        "print(\"Best parameters: \", grid_search.best_params_)\n",
        "print(\"Best score: \", grid_search.best_score_)"
      ]
    }
  ],
  "metadata": {
    "colab": {
      "provenance": []
    },
    "kernelspec": {
      "display_name": "Python 3",
      "name": "python3"
    },
    "language_info": {
      "codemirror_mode": {
        "name": "ipython",
        "version": 3
      },
      "file_extension": ".py",
      "mimetype": "text/x-python",
      "name": "python",
      "nbconvert_exporter": "python",
      "pygments_lexer": "ipython3",
      "version": "3.10.9"
    }
  },
  "nbformat": 4,
  "nbformat_minor": 0
}
